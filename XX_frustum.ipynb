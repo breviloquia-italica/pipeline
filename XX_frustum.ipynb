{
 "cells": [
  {
   "cell_type": "code",
   "execution_count": 5,
   "id": "dc1f22e5-2b54-44a6-bf63-a87ed11564ba",
   "metadata": {},
   "outputs": [],
   "source": [
    "from datetime import datetime\n",
    "import modin.pandas as pd\n",
    "from shapely import wkt\n",
    "from shapely.geometry import Point"
   ]
  },
  {
   "cell_type": "code",
   "execution_count": 6,
   "id": "8f54c8b8-da4f-4344-9ee0-5ee3cccda919",
   "metadata": {},
   "outputs": [
    {
     "name": "stderr",
     "output_type": "stream",
     "text": [
      "UserWarning: File has mismatched quotes\n"
     ]
    }
   ],
   "source": [
    "tweets = pd.read_json(\"tweets.jsonl\", lines=True)\n",
    "tweets = tweets[[\"id\", \"created_at\", \"coordinates\", \"user_id\"]]\n",
    "tweets.set_index(\"id\", inplace=True)"
   ]
  },
  {
   "cell_type": "code",
   "execution_count": 7,
   "id": "cbf562a9-e30a-4cde-9c3d-dbad807df86a",
   "metadata": {},
   "outputs": [
    {
     "name": "stderr",
     "output_type": "stream",
     "text": [
      "UserWarning: Defaulting to pandas implementation.\n",
      "Reason: Parquet options that are not currently supported\n"
     ]
    }
   ],
   "source": [
    "forms = set(pd.read_parquet(\"wforms-ann.parquet\", columns=[], filters=[\n",
    "    [(\"status\", \">=\", 0)] # NOTE: this implies ( fst_batch | snd_batch ) & !tt_att\n",
    "]).index)\n",
    "\n",
    "tweets_toks = pd.read_parquet(\"tweets-tok.parquet\", columns=[\"tokens\"])\n",
    "tweets_toks[\"tokens\"] = tweets_toks[\"tokens\"].apply(lambda ts: [t for t in ts if t in forms])\n",
    "tweets_toks = tweets_toks[tweets_toks[\"tokens\"].map(bool)]\n",
    "\n",
    "tweets = tweets.join(tweets_toks, how=\"right\")"
   ]
  },
  {
   "cell_type": "code",
   "execution_count": 8,
   "id": "77e30055-f4b8-462a-9a09-f091a2507e02",
   "metadata": {},
   "outputs": [
    {
     "name": "stderr",
     "output_type": "stream",
     "text": [
      "UserWarning: Defaulting to pandas implementation.\n",
      "Reason: Parquet options that are not currently supported\n"
     ]
    }
   ],
   "source": [
    "tweets_geo = pd.read_parquet(\"tweets-geo.parquet\", columns=[\"centroid\"], filters=[[(\"id\", \"in\", tweets.index)]])\n",
    "\n",
    "tweets = tweets.join(tweets_geo, how=\"left\")"
   ]
  },
  {
   "cell_type": "code",
   "execution_count": 9,
   "id": "afc304aa-13f9-4338-9834-055e22eaa015",
   "metadata": {},
   "outputs": [],
   "source": [
    "tweets[\"coordinates\"] = tweets[\"coordinates\"].apply(lambda o: None if o is None else Point(o[\"coordinates\"]))\n",
    "tweets[\"coordinates\"] = tweets[\"coordinates\"].fillna(tweets[\"centroid\"].map(wkt.loads))\n",
    "\n",
    "assert 477 == tweets[\"coordinates\"].isna().sum() # sigh\n",
    "tweets = tweets[~tweets[\"coordinates\"].isna()]\n",
    "tweets[\"latitude\"] = tweets[\"coordinates\"].apply(lambda p: p.y)\n",
    "tweets[\"longitude\"] = tweets[\"coordinates\"].apply(lambda p: p.x)"
   ]
  },
  {
   "cell_type": "code",
   "execution_count": 47,
   "id": "8132be11-ad4d-4153-af6f-39930023421a",
   "metadata": {},
   "outputs": [],
   "source": [
    "import uuid\n",
    "\n",
    "UUID_NAMESPACE = uuid.uuid5(uuid.NAMESPACE_DNS, \"twitter.com\")\n",
    "\n",
    "anonymized = {}\n",
    "\n",
    "def anonymize(input):\n",
    "    if pd.isnull(input):\n",
    "        return input\n",
    "    return anonymized.setdefault(input, str(uuid.uuid5(UUID_NAMESPACE, str(input))))"
   ]
  },
  {
   "cell_type": "code",
   "execution_count": 57,
   "id": "1ce2f2cc-722c-4075-8ad6-38a065217f7c",
   "metadata": {},
   "outputs": [],
   "source": [
    "assert tweets[\"user_id\"].dtype == \"int64\"\n",
    "tweets['user_id'] = tweets['user_id'].apply(anonymize)\n",
    "\n",
    "tweets[\"created_at\"] = tweets[\"created_at\"].map(lambda dt: dt.isoformat())\n",
    "\n",
    "tweets.reset_index(inplace=True)\n",
    "\n",
    "tweets = tweets.explode(\"tokens\")\n",
    "tweets.rename(columns={\"created_at\": \"timestamp\", \"tokens\": \"word\", \"id\": \"tweet_id\"}, inplace=True)\n",
    "tweets = tweets[[\"timestamp\", \"user_id\", \"tweet_id\", \"latitude\", \"longitude\", \"word\"]]"
   ]
  },
  {
   "cell_type": "code",
   "execution_count": 63,
   "id": "e3d2b0b8-fe6c-4ff2-96ef-efb32d596d2b",
   "metadata": {},
   "outputs": [],
   "source": [
    "tweets.to_csv(\"frustum-demo.csv\", index=False)"
   ]
  }
 ],
 "metadata": {
  "kernelspec": {
   "display_name": "Python 3 (ipykernel)",
   "language": "python",
   "name": "python3"
  },
  "language_info": {
   "codemirror_mode": {
    "name": "ipython",
    "version": 3
   },
   "file_extension": ".py",
   "mimetype": "text/x-python",
   "name": "python",
   "nbconvert_exporter": "python",
   "pygments_lexer": "ipython3",
   "version": "3.10.8"
  }
 },
 "nbformat": 4,
 "nbformat_minor": 5
}
