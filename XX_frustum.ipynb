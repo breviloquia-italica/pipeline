{
 "cells": [
  {
   "cell_type": "code",
   "execution_count": 1,
   "id": "dc1f22e5-2b54-44a6-bf63-a87ed11564ba",
   "metadata": {},
   "outputs": [],
   "source": [
    "from datetime import datetime\n",
    "import modin.pandas as pd\n",
    "from shapely import wkt\n",
    "from shapely.geometry import Point"
   ]
  },
  {
   "cell_type": "code",
   "execution_count": 2,
   "id": "8f54c8b8-da4f-4344-9ee0-5ee3cccda919",
   "metadata": {},
   "outputs": [
    {
     "name": "stderr",
     "output_type": "stream",
     "text": [
      "UserWarning: Ray execution environment not yet initialized. Initializing...\n",
      "To remove this warning, run the following python code before doing dataframe operations:\n",
      "\n",
      "    import ray\n",
      "    ray.init()\n",
      "\n",
      "2024-01-21 23:01:03,861\tINFO worker.py:1621 -- Started a local Ray instance.\n",
      "UserWarning: File has mismatched quotes\n"
     ]
    }
   ],
   "source": [
    "tweets = pd.read_json(\"tweets.jsonl\", lines=True)\n",
    "tweets = tweets[[\"id\", \"created_at\", \"coordinates\"]]\n",
    "tweets.set_index(\"id\", inplace=True)"
   ]
  },
  {
   "cell_type": "code",
   "execution_count": 3,
   "id": "cbf562a9-e30a-4cde-9c3d-dbad807df86a",
   "metadata": {},
   "outputs": [
    {
     "name": "stderr",
     "output_type": "stream",
     "text": [
      "UserWarning: Defaulting to pandas implementation.\n",
      "Please refer to https://modin.readthedocs.io/en/stable/supported_apis/defaulting_to_pandas.html for explanation.\n",
      "Reason: Parquet options that are not currently supported\n"
     ]
    }
   ],
   "source": [
    "forms = set(pd.read_parquet(\"wforms-ann.parquet\", columns=[], filters=[\n",
    "    [(\"status\", \">=\", 0)] # NOTE: this implies ( fst_batch | snd_batch ) & !tt_att\n",
    "]).index)\n",
    "\n",
    "tweets_toks = pd.read_parquet(\"tweets-tok.parquet\", columns=[\"tokens\"])\n",
    "tweets_toks[\"tokens\"] = tweets_toks[\"tokens\"].apply(lambda ts: [t for t in ts if t in forms])\n",
    "tweets_toks = tweets_toks[tweets_toks[\"tokens\"].map(bool)]\n",
    "\n",
    "tweets = tweets.join(tweets_toks, how=\"right\")"
   ]
  },
  {
   "cell_type": "code",
   "execution_count": 4,
   "id": "77e30055-f4b8-462a-9a09-f091a2507e02",
   "metadata": {},
   "outputs": [
    {
     "name": "stderr",
     "output_type": "stream",
     "text": [
      "UserWarning: Defaulting to pandas implementation.\n",
      "Reason: Parquet options that are not currently supported\n"
     ]
    }
   ],
   "source": [
    "tweets_geo = pd.read_parquet(\"tweets-geo.parquet\", columns=[\"centroid\"], filters=[[(\"id\", \"in\", tweets.index)]])\n",
    "\n",
    "tweets = tweets.join(tweets_geo, how=\"left\")"
   ]
  },
  {
   "cell_type": "code",
   "execution_count": 5,
   "id": "afc304aa-13f9-4338-9834-055e22eaa015",
   "metadata": {},
   "outputs": [],
   "source": [
    "tweets[\"coordinates\"] = tweets[\"coordinates\"].apply(lambda o: None if o is None else Point(o[\"coordinates\"]))\n",
    "tweets[\"coordinates\"] = tweets[\"coordinates\"].fillna(tweets[\"centroid\"].map(wkt.loads))\n",
    "\n",
    "assert 477 == tweets[\"coordinates\"].isna().sum() # sigh\n",
    "tweets = tweets[~tweets[\"coordinates\"].isna()]\n",
    "tweets[\"latitude\"] = tweets[\"coordinates\"].apply(lambda p: p.y)\n",
    "tweets[\"longitude\"] = tweets[\"coordinates\"].apply(lambda p: p.x)"
   ]
  },
  {
   "cell_type": "code",
   "execution_count": 6,
   "id": "1ce2f2cc-722c-4075-8ad6-38a065217f7c",
   "metadata": {},
   "outputs": [],
   "source": [
    "tweets[\"created_at\"] = tweets[\"created_at\"].map(lambda dt: dt.isoformat())\n",
    "tweets.reset_index(inplace=True)\n",
    "tweets = tweets.explode(\"tokens\")\n",
    "tweets.rename(columns={\"created_at\": \"timestamp\", \"tokens\": \"word\"}, inplace=True)\n",
    "tweets = tweets[[\"timestamp\", \"latitude\", \"longitude\", \"word\"]]"
   ]
  },
  {
   "cell_type": "code",
   "execution_count": 7,
   "id": "e3d2b0b8-fe6c-4ff2-96ef-efb32d596d2b",
   "metadata": {},
   "outputs": [],
   "source": [
    "tweets.to_csv(\"frustum-demo.csv\", index=False)"
   ]
  }
 ],
 "metadata": {
  "kernelspec": {
   "display_name": "Python 3 (ipykernel)",
   "language": "python",
   "name": "python3"
  },
  "language_info": {
   "codemirror_mode": {
    "name": "ipython",
    "version": 3
   },
   "file_extension": ".py",
   "mimetype": "text/x-python",
   "name": "python",
   "nbconvert_exporter": "python",
   "pygments_lexer": "ipython3",
   "version": "3.10.8"
  }
 },
 "nbformat": 4,
 "nbformat_minor": 5
}
