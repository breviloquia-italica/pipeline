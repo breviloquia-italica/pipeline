{
 "cells": [
  {
   "cell_type": "code",
   "execution_count": 1,
   "id": "3bf3dcb6-15d5-4ad7-9e40-c35fcdc45c01",
   "metadata": {
    "tags": []
   },
   "outputs": [],
   "source": [
    "import modin.pandas as pd\n",
    "\n",
    "import geopandas as gpd\n",
    "import shapely\n",
    "\n",
    "import matplotlib.pyplot as plt\n",
    "import matplotlib.colors as colors\n",
    "\n",
    "from modin.config import ProgressBar\n",
    "from tqdm.auto import tqdm\n",
    "# ProgressBar.enable()"
   ]
  },
  {
   "cell_type": "code",
   "execution_count": 29,
   "id": "2f7d84dc-775d-489f-84dc-9be20ff5ed67",
   "metadata": {
    "tags": []
   },
   "outputs": [],
   "source": [
    "tokens = pd.read_parquet(\"tokens.parquet\")"
   ]
  },
  {
   "cell_type": "code",
   "execution_count": 28,
   "id": "eb1def89-2552-4724-9025-87eeb79b9298",
   "metadata": {
    "tags": []
   },
   "outputs": [
    {
     "name": "stdout",
     "output_type": "stream",
     "text": [
      "Tokens: 71458267\n",
      "Unique tokens: 925843\n",
      "Tokens (prefiltered): 6538326\n",
      "Unique tokens (prefiltered): 745121\n"
     ]
    }
   ],
   "source": [
    "print(\"Tokens:\", tokens[\"wforms\"].map(len).sum())\n",
    "print(\"Unique tokens:\", (~tokens[\"wforms\"].explode().dropna().duplicated()).sum())\n",
    "print(\"Tokens (prefiltered):\", tokens[\"wforms_new\"].map(len).sum())\n",
    "print(\"Unique tokens (prefiltered):\", (~tokens[\"wforms_new\"].explode().dropna().duplicated()).sum())"
   ]
  }
 ],
 "metadata": {
  "kernelspec": {
   "display_name": "Python 3 (ipykernel)",
   "language": "python",
   "name": "python3"
  },
  "language_info": {
   "codemirror_mode": {
    "name": "ipython",
    "version": 3
   },
   "file_extension": ".py",
   "mimetype": "text/x-python",
   "name": "python",
   "nbconvert_exporter": "python",
   "pygments_lexer": "ipython3",
   "version": "3.10.8"
  }
 },
 "nbformat": 4,
 "nbformat_minor": 5
}
