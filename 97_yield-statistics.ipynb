{
 "cells": [
  {
   "cell_type": "code",
   "execution_count": 1,
   "id": "3bf3dcb6-15d5-4ad7-9e40-c35fcdc45c01",
   "metadata": {
    "tags": []
   },
   "outputs": [],
   "source": [
    "import matplotlib.colors as colors\n",
    "import matplotlib.pyplot as plt\n",
    "import modin.pandas as pd\n",
    "import numpy as np\n",
    "from modin.config import ProgressBar\n",
    "from tqdm.auto import tqdm\n",
    "\n",
    "ProgressBar.enable()"
   ]
  },
  {
   "cell_type": "code",
   "execution_count": 2,
   "id": "6a8ef6c2-2005-4c3c-bfcd-03e913c0187a",
   "metadata": {
    "tags": []
   },
   "outputs": [
    {
     "name": "stderr",
     "output_type": "stream",
     "text": [
      "UserWarning: Ray execution environment not yet initialized. Initializing...\n",
      "To remove this warning, run the following python code before doing dataframe operations:\n",
      "\n",
      "    import ray\n",
      "    ray.init()\n",
      "\n",
      "2023-07-28 14:15:20,301\tINFO worker.py:1636 -- Started a local Ray instance.\n"
     ]
    },
    {
     "data": {
      "application/vnd.jupyter.widget-view+json": {
       "model_id": "e9e810efb3ba474d8aac296d8a740b67",
       "version_major": 2,
       "version_minor": 0
      },
      "text/plain": [
       "Estimated completion of line 2:   0%           Elapsed time: 00:00, estimated remaining time: ?"
      ]
     },
     "metadata": {},
     "output_type": "display_data"
    },
    {
     "data": {
      "text/plain": [
       "status\n",
       "-1.0    11060\n",
       " 1.0      388\n",
       " NaN       76\n",
       "Name: count, dtype: int64"
      ]
     },
     "execution_count": 2,
     "metadata": {},
     "output_type": "execute_result"
    }
   ],
   "source": [
    "# Quick annotation progress check\n",
    "pd.read_parquet(\"wforms-ann.parquet\")[\"status\"].value_counts(dropna=False)"
   ]
  },
  {
   "cell_type": "code",
   "execution_count": 3,
   "id": "ff929ab7-5d24-4ed3-a4b5-a71b7102f35c",
   "metadata": {
    "tags": []
   },
   "outputs": [
    {
     "data": {
      "application/vnd.jupyter.widget-view+json": {
       "model_id": "a3c69eb70fe64fb19d024253d41c9f1e",
       "version_major": 2,
       "version_minor": 0
      },
      "text/plain": [
       "Estimated completion of line 2:   0%           Elapsed time: 00:00, estimated remaining time: ?"
      ]
     },
     "metadata": {},
     "output_type": "display_data"
    },
    {
     "data": {
      "application/vnd.jupyter.widget-view+json": {
       "model_id": "64aa1954217347f3bd6b6dc8b23997c9",
       "version_major": 2,
       "version_minor": 0
      },
      "text/plain": [
       "Estimated completion of line 3:   0%           Elapsed time: 00:00, estimated remaining time: ?"
      ]
     },
     "metadata": {},
     "output_type": "display_data"
    },
    {
     "data": {
      "application/vnd.jupyter.widget-view+json": {
       "model_id": "3cebac6faa894a8e949a3617bce3b2e4",
       "version_major": 2,
       "version_minor": 0
      },
      "text/plain": [
       "Estimated completion of line 5:   0%           Elapsed time: 00:00, estimated remaining time: ?"
      ]
     },
     "metadata": {},
     "output_type": "display_data"
    },
    {
     "data": {
      "application/vnd.jupyter.widget-view+json": {
       "model_id": "80674b78f3c54feca663881b4b1fa844",
       "version_major": 2,
       "version_minor": 0
      },
      "text/plain": [
       "Estimated completion of line 9:   0%           Elapsed time: 00:00, estimated remaining time: ?"
      ]
     },
     "metadata": {},
     "output_type": "display_data"
    },
    {
     "data": {
      "application/vnd.jupyter.widget-view+json": {
       "model_id": "564e7150cbf644a4b521630014666cb7",
       "version_major": 2,
       "version_minor": 0
      },
      "text/plain": [
       "Estimated completion of line 15:   0%           Elapsed time: 00:00, estimated remaining time: ?"
      ]
     },
     "metadata": {},
     "output_type": "display_data"
    },
    {
     "data": {
      "application/vnd.jupyter.widget-view+json": {
       "model_id": "af8cf8546f004e26851d133beec07a18",
       "version_major": 2,
       "version_minor": 0
      },
      "text/plain": [
       "Estimated completion of line 19:   0%           Elapsed time: 00:00, estimated remaining time: ?"
      ]
     },
     "metadata": {},
     "output_type": "display_data"
    },
    {
     "data": {
      "application/vnd.jupyter.widget-view+json": {
       "model_id": "c7cffee3a53e475191166c966ed2531e",
       "version_major": 2,
       "version_minor": 0
      },
      "text/plain": [
       "Estimated completion of line 20:   0%           Elapsed time: 00:00, estimated remaining time: ?"
      ]
     },
     "metadata": {},
     "output_type": "display_data"
    },
    {
     "data": {
      "application/vnd.jupyter.widget-view+json": {
       "model_id": "31cc142c8c89476ebeda98c068636557",
       "version_major": 2,
       "version_minor": 0
      },
      "text/plain": [
       "Estimated completion of line 21:   0%           Elapsed time: 00:00, estimated remaining time: ?"
      ]
     },
     "metadata": {},
     "output_type": "display_data"
    },
    {
     "data": {
      "application/vnd.jupyter.widget-view+json": {
       "model_id": "ac157ee730f64d5f9ed0ceb0517ce5fc",
       "version_major": 2,
       "version_minor": 0
      },
      "text/plain": [
       "Estimated completion of line 25:   0%           Elapsed time: 00:00, estimated remaining time: ?"
      ]
     },
     "metadata": {},
     "output_type": "display_data"
    },
    {
     "data": {
      "application/vnd.jupyter.widget-view+json": {
       "model_id": "fa84069f246244199e316b5c20268398",
       "version_major": 2,
       "version_minor": 0
      },
      "text/plain": [
       "Estimated completion of line 26:   0%           Elapsed time: 00:00, estimated remaining time: ?"
      ]
     },
     "metadata": {},
     "output_type": "display_data"
    },
    {
     "data": {
      "application/vnd.jupyter.widget-view+json": {
       "model_id": "fabf1d33624440aa946be92de00cfe55",
       "version_major": 2,
       "version_minor": 0
      },
      "text/plain": [
       "Estimated completion of line 28:   0%           Elapsed time: 00:00, estimated remaining time: ?"
      ]
     },
     "metadata": {},
     "output_type": "display_data"
    }
   ],
   "source": [
    "wforms = (\n",
    "    pd.read_parquet(\"wforms-bat.parquet\")\n",
    "    .join(pd.read_parquet(\"wforms-ann.parquet\"), how=\"left\")\n",
    "    .join(\n",
    "        pd.read_parquet(\"wforms-occ.parquet\", columns=[\"rho\"]).add_suffix(\"_occ\"),\n",
    "        how=\"left\",\n",
    "    )\n",
    "    .join(\n",
    "        pd.read_parquet(\"wforms-usr.parquet\", columns=[\"rho\"]).add_suffix(\"_usr\"),\n",
    "        how=\"left\",\n",
    "    )    \n",
    "    \n",
    ")\n",
    "\n",
    "wforms[\"is_hashtag\"] = wforms.index.str.startswith(\"#\")\n",
    "\n",
    "stats = [\n",
    "    [wforms.shape[0], \"total\"],\n",
    "    [wforms[\"fst_batch\"].sum(), \"1st batch\"],\n",
    "    [wforms[\"snd_batch\"].sum(), \"2nd batch\"],\n",
    "    [(wforms[\"fst_batch\"] & wforms[\"snd_batch\"]).sum(), \"overlap\"],\n",
    "]\n",
    "\n",
    "# We mark previously attested forms and hashtags as special\n",
    "wforms.loc[wforms[\"tt_att\"], \"status\"] = +np.inf\n",
    "wforms.loc[wforms[\"is_hashtag\"], \"status\"] = -np.inf\n",
    "\n",
    "assert ~wforms[\"status\"].eq(0).any()  # just in case"
   ]
  },
  {
   "cell_type": "code",
   "execution_count": 4,
   "id": "b3707ab5-6577-4287-b2d8-adb03e1000ec",
   "metadata": {
    "tags": []
   },
   "outputs": [
    {
     "data": {
      "application/vnd.jupyter.widget-view+json": {
       "model_id": "e13854df59ad490a88324ccace77ed5d",
       "version_major": 2,
       "version_minor": 0
      },
      "text/plain": [
       "Estimated completion of line 7:   0%           Elapsed time: 00:00, estimated remaining time: ?"
      ]
     },
     "metadata": {},
     "output_type": "display_data"
    },
    {
     "data": {
      "application/vnd.jupyter.widget-view+json": {
       "model_id": "4786dabf52634d318cb810ba92916849",
       "version_major": 2,
       "version_minor": 0
      },
      "text/plain": [
       "Estimated completion of line 13:   0%           Elapsed time: 00:00, estimated remaining time: ?"
      ]
     },
     "metadata": {},
     "output_type": "display_data"
    },
    {
     "data": {
      "application/vnd.jupyter.widget-view+json": {
       "model_id": "2e7878dbb29748a3910991c613d9cdcf",
       "version_major": 2,
       "version_minor": 0
      },
      "text/plain": [
       "Estimated completion of line 16:   0%           Elapsed time: 00:00, estimated remaining time: ?"
      ]
     },
     "metadata": {},
     "output_type": "display_data"
    },
    {
     "data": {
      "application/vnd.jupyter.widget-view+json": {
       "model_id": "2fd8d47de9f34ecaaaee3242bab1fd9c",
       "version_major": 2,
       "version_minor": 0
      },
      "text/plain": [
       "Estimated completion of line 17:   0%           Elapsed time: 00:00, estimated remaining time: ?"
      ]
     },
     "metadata": {},
     "output_type": "display_data"
    },
    {
     "data": {
      "application/vnd.jupyter.widget-view+json": {
       "model_id": "962b255b8b3d4f2f9b5ed038a648b3a4",
       "version_major": 2,
       "version_minor": 0
      },
      "text/plain": [
       "Estimated completion of line 18:   0%           Elapsed time: 00:00, estimated remaining time: ?"
      ]
     },
     "metadata": {},
     "output_type": "display_data"
    },
    {
     "data": {
      "application/vnd.jupyter.widget-view+json": {
       "model_id": "8445c90ae98b44bfbd73f837a70d7f93",
       "version_major": 2,
       "version_minor": 0
      },
      "text/plain": [
       "Estimated completion of line 19:   0%           Elapsed time: 00:00, estimated remaining time: ?"
      ]
     },
     "metadata": {},
     "output_type": "display_data"
    },
    {
     "data": {
      "application/vnd.jupyter.widget-view+json": {
       "model_id": "b43ab8e51e5f4d62a2c599e168d6ba0d",
       "version_major": 2,
       "version_minor": 0
      },
      "text/plain": [
       "Estimated completion of line 20:   0%           Elapsed time: 00:00, estimated remaining time: ?"
      ]
     },
     "metadata": {},
     "output_type": "display_data"
    },
    {
     "data": {
      "application/vnd.jupyter.widget-view+json": {
       "model_id": "01bf06db30a744e3820a62394c62a227",
       "version_major": 2,
       "version_minor": 0
      },
      "text/plain": [
       "Estimated completion of line 21:   0%           Elapsed time: 00:00, estimated remaining time: ?"
      ]
     },
     "metadata": {},
     "output_type": "display_data"
    },
    {
     "data": {
      "application/vnd.jupyter.widget-view+json": {
       "model_id": "82ad1417c57f4e1ab1bcae4bb37e952d",
       "version_major": 2,
       "version_minor": 0
      },
      "text/plain": [
       "Estimated completion of line 22:   0%           Elapsed time: 00:00, estimated remaining time: ?"
      ]
     },
     "metadata": {},
     "output_type": "display_data"
    },
    {
     "data": {
      "application/vnd.jupyter.widget-view+json": {
       "model_id": "e1761bd1825e4e36a62b5411c7e17220",
       "version_major": 2,
       "version_minor": 0
      },
      "text/plain": [
       "Estimated completion of line 23:   0%           Elapsed time: 00:00, estimated remaining time: ?"
      ]
     },
     "metadata": {},
     "output_type": "display_data"
    },
    {
     "data": {
      "application/vnd.jupyter.widget-view+json": {
       "model_id": "f27a98910d254e73a30bd08d05e4acad",
       "version_major": 2,
       "version_minor": 0
      },
      "text/plain": [
       "Estimated completion of line 24:   0%           Elapsed time: 00:00, estimated remaining time: ?"
      ]
     },
     "metadata": {},
     "output_type": "display_data"
    },
    {
     "data": {
      "application/vnd.jupyter.widget-view+json": {
       "model_id": "98f2e3670ccf4a4c944fe82a1bccb565",
       "version_major": 2,
       "version_minor": 0
      },
      "text/plain": [
       "Estimated completion of line 25:   0%           Elapsed time: 00:00, estimated remaining time: ?"
      ]
     },
     "metadata": {},
     "output_type": "display_data"
    },
    {
     "data": {
      "application/vnd.jupyter.widget-view+json": {
       "model_id": "ab928a4ae73f40269dd4afd8f4095ae1",
       "version_major": 2,
       "version_minor": 0
      },
      "text/plain": [
       "Estimated completion of line 26:   0%           Elapsed time: 00:00, estimated remaining time: ?"
      ]
     },
     "metadata": {},
     "output_type": "display_data"
    },
    {
     "data": {
      "application/vnd.jupyter.widget-view+json": {
       "model_id": "05dc629edb9642129624d2230f629f10",
       "version_major": 2,
       "version_minor": 0
      },
      "text/plain": [
       "Estimated completion of line 27:   0%           Elapsed time: 00:00, estimated remaining time: ?"
      ]
     },
     "metadata": {},
     "output_type": "display_data"
    },
    {
     "data": {
      "application/vnd.jupyter.widget-view+json": {
       "model_id": "efba94b189b540e58831751ae03dbc16",
       "version_major": 2,
       "version_minor": 0
      },
      "text/plain": [
       "Estimated completion of line 28:   0%           Elapsed time: 00:00, estimated remaining time: ?"
      ]
     },
     "metadata": {},
     "output_type": "display_data"
    },
    {
     "data": {
      "application/vnd.jupyter.widget-view+json": {
       "model_id": "2841573315214b54a347b5fc9b203665",
       "version_major": 2,
       "version_minor": 0
      },
      "text/plain": [
       "Estimated completion of line 29:   0%           Elapsed time: 00:00, estimated remaining time: ?"
      ]
     },
     "metadata": {},
     "output_type": "display_data"
    }
   ],
   "source": [
    "# To dry up code:\n",
    "fll = np.repeat(True, len(wforms.index))\n",
    "att = wforms[\"tt_att\"]\n",
    "hsh = wforms[\"is_hashtag\"]\n",
    "fst = wforms[\"fst_batch\"]\n",
    "snd = wforms[\"snd_batch\"]\n",
    "rho = wforms[\"rho_occ\"].gt(0.2)\n",
    "\n",
    "# Define interesting subsets.\n",
    "masks = {\n",
    "    \"*\": fll,\n",
    "    \"g\": rho,\n",
    "    \"g+\": abs(wforms[\"rho_occ\"]).gt(0.2),\n",
    "    \"1\": fst,\n",
    "    \"2\": snd,\n",
    "    \"1∪2\": fst | snd,\n",
    "    \"1∩2\": fst & snd,\n",
    "    \"*-A\": ~att,\n",
    "    \"g-A\": ~att & rho,\n",
    "    \"1-A\": ~att & fst,\n",
    "    \"2-A\": ~att & snd,\n",
    "    \"1∪2-A\": ~att & (fst | snd),\n",
    "    \"1∩2-A\": ~att & fst & snd,\n",
    "    \"*-A-#\": ~att & ~hsh,\n",
    "    \"g-A-#\": ~att & ~hsh & rho,\n",
    "    \"1-A-#\": ~att & ~hsh & fst,\n",
    "    \"2-A-#\": ~att & ~hsh & snd,\n",
    "    \"1∪2-A-#\": ~att & ~hsh & (fst | snd),\n",
    "    \"1∩2-A-#\": ~att & ~hsh & fst & snd,\n",
    "}"
   ]
  },
  {
   "cell_type": "code",
   "execution_count": 5,
   "id": "8cfba9a8-b158-40e8-bf49-eb186c536267",
   "metadata": {
    "tags": []
   },
   "outputs": [
    {
     "data": {
      "application/vnd.jupyter.widget-view+json": {
       "model_id": "dc47e6f8daf142e7866739b943b74ab8",
       "version_major": 2,
       "version_minor": 0
      },
      "text/plain": [
       "Estimated completion of line 2:   0%           Elapsed time: 00:00, estimated remaining time: ?"
      ]
     },
     "metadata": {},
     "output_type": "display_data"
    },
    {
     "name": "stderr",
     "output_type": "stream",
     "text": [
      "UserWarning: Distributing <class 'dict'> object. This may take some time.\n"
     ]
    },
    {
     "data": {
      "application/vnd.jupyter.widget-view+json": {
       "model_id": "ad15638ee4a2495d94e5d4dd92e7618d",
       "version_major": 2,
       "version_minor": 0
      },
      "text/plain": [
       "Estimated completion of line 1:   0%           Elapsed time: 00:00, estimated remaining time: ?"
      ]
     },
     "metadata": {},
     "output_type": "display_data"
    },
    {
     "data": {
      "application/vnd.jupyter.widget-view+json": {
       "model_id": "655c747aeba4418ab4489bd2d66317e9",
       "version_major": 2,
       "version_minor": 0
      },
      "text/plain": [
       "Estimated completion of line 6:   0%           Elapsed time: 00:00, estimated remaining time: ?"
      ]
     },
     "metadata": {},
     "output_type": "display_data"
    },
    {
     "data": {
      "application/vnd.jupyter.widget-view+json": {
       "model_id": "a887eaa6ad0d4f9db0b037c7cd948bbd",
       "version_major": 2,
       "version_minor": 0
      },
      "text/plain": [
       "Estimated completion of line 7:   0%           Elapsed time: 00:00, estimated remaining time: ?"
      ]
     },
     "metadata": {},
     "output_type": "display_data"
    },
    {
     "data": {
      "application/vnd.jupyter.widget-view+json": {
       "model_id": "90de72458ea8462f870570a1db6c038c",
       "version_major": 2,
       "version_minor": 0
      },
      "text/plain": [
       "Estimated completion of line 9:   0%           Elapsed time: 00:00, estimated remaining time: ?"
      ]
     },
     "metadata": {},
     "output_type": "display_data"
    },
    {
     "data": {
      "application/vnd.jupyter.widget-view+json": {
       "model_id": "b0e07cd69bf6459cb0741378e3ae36c9",
       "version_major": 2,
       "version_minor": 0
      },
      "text/plain": [
       "Estimated completion of line 10:   0%           Elapsed time: 00:00, estimated remaining time: ?"
      ]
     },
     "metadata": {},
     "output_type": "display_data"
    },
    {
     "data": {
      "text/html": [
       "<div>\n",
       "<style scoped>\n",
       "    .dataframe tbody tr th:only-of-type {\n",
       "        vertical-align: middle;\n",
       "    }\n",
       "\n",
       "    .dataframe tbody tr th {\n",
       "        vertical-align: top;\n",
       "    }\n",
       "\n",
       "    .dataframe thead th {\n",
       "        text-align: right;\n",
       "    }\n",
       "</style>\n",
       "<table border=\"1\" class=\"dataframe\">\n",
       "  <thead>\n",
       "    <tr style=\"text-align: right;\">\n",
       "      <th></th>\n",
       "      <th>*</th>\n",
       "      <th>g</th>\n",
       "      <th>g+</th>\n",
       "      <th>1</th>\n",
       "      <th>2</th>\n",
       "      <th>1∪2</th>\n",
       "      <th>1∩2</th>\n",
       "      <th>*-A</th>\n",
       "      <th>g-A</th>\n",
       "      <th>1-A</th>\n",
       "      <th>2-A</th>\n",
       "      <th>1∪2-A</th>\n",
       "      <th>1∩2-A</th>\n",
       "      <th>*-A-#</th>\n",
       "      <th>g-A-#</th>\n",
       "      <th>1-A-#</th>\n",
       "      <th>2-A-#</th>\n",
       "      <th>1∪2-A-#</th>\n",
       "      <th>1∩2-A-#</th>\n",
       "    </tr>\n",
       "  </thead>\n",
       "  <tbody>\n",
       "    <tr>\n",
       "      <th>A</th>\n",
       "      <td>157319</td>\n",
       "      <td>1214</td>\n",
       "      <td>1921</td>\n",
       "      <td>2093</td>\n",
       "      <td>12256</td>\n",
       "      <td>14138</td>\n",
       "      <td>211</td>\n",
       "      <td>0</td>\n",
       "      <td>0</td>\n",
       "      <td>0</td>\n",
       "      <td>0</td>\n",
       "      <td>0</td>\n",
       "      <td>0</td>\n",
       "      <td>0</td>\n",
       "      <td>0</td>\n",
       "      <td>0</td>\n",
       "      <td>0</td>\n",
       "      <td>0</td>\n",
       "      <td>0</td>\n",
       "    </tr>\n",
       "    <tr>\n",
       "      <th>#</th>\n",
       "      <td>249076</td>\n",
       "      <td>1617</td>\n",
       "      <td>2382</td>\n",
       "      <td>2422</td>\n",
       "      <td>2621</td>\n",
       "      <td>4619</td>\n",
       "      <td>424</td>\n",
       "      <td>225673</td>\n",
       "      <td>1352</td>\n",
       "      <td>2074</td>\n",
       "      <td>1651</td>\n",
       "      <td>3391</td>\n",
       "      <td>334</td>\n",
       "      <td>0</td>\n",
       "      <td>0</td>\n",
       "      <td>0</td>\n",
       "      <td>0</td>\n",
       "      <td>0</td>\n",
       "      <td>0</td>\n",
       "    </tr>\n",
       "    <tr>\n",
       "      <th>N</th>\n",
       "      <td>7668</td>\n",
       "      <td>1178</td>\n",
       "      <td>2014</td>\n",
       "      <td>2112</td>\n",
       "      <td>5882</td>\n",
       "      <td>7667</td>\n",
       "      <td>327</td>\n",
       "      <td>7668</td>\n",
       "      <td>1178</td>\n",
       "      <td>2112</td>\n",
       "      <td>5882</td>\n",
       "      <td>7667</td>\n",
       "      <td>327</td>\n",
       "      <td>7668</td>\n",
       "      <td>1178</td>\n",
       "      <td>2112</td>\n",
       "      <td>5882</td>\n",
       "      <td>7667</td>\n",
       "      <td>327</td>\n",
       "    </tr>\n",
       "    <tr>\n",
       "      <th>Y</th>\n",
       "      <td>388</td>\n",
       "      <td>74</td>\n",
       "      <td>97</td>\n",
       "      <td>98</td>\n",
       "      <td>306</td>\n",
       "      <td>388</td>\n",
       "      <td>16</td>\n",
       "      <td>388</td>\n",
       "      <td>74</td>\n",
       "      <td>98</td>\n",
       "      <td>306</td>\n",
       "      <td>388</td>\n",
       "      <td>16</td>\n",
       "      <td>388</td>\n",
       "      <td>74</td>\n",
       "      <td>98</td>\n",
       "      <td>306</td>\n",
       "      <td>388</td>\n",
       "      <td>16</td>\n",
       "    </tr>\n",
       "    <tr>\n",
       "      <th>NaN</th>\n",
       "      <td>511392</td>\n",
       "      <td>7</td>\n",
       "      <td>12</td>\n",
       "      <td>12</td>\n",
       "      <td>67</td>\n",
       "      <td>78</td>\n",
       "      <td>1</td>\n",
       "      <td>511392</td>\n",
       "      <td>7</td>\n",
       "      <td>12</td>\n",
       "      <td>67</td>\n",
       "      <td>78</td>\n",
       "      <td>1</td>\n",
       "      <td>511392</td>\n",
       "      <td>7</td>\n",
       "      <td>12</td>\n",
       "      <td>67</td>\n",
       "      <td>78</td>\n",
       "      <td>1</td>\n",
       "    </tr>\n",
       "    <tr>\n",
       "      <th>TOT</th>\n",
       "      <td>925843</td>\n",
       "      <td>4090</td>\n",
       "      <td>6426</td>\n",
       "      <td>6737</td>\n",
       "      <td>21132</td>\n",
       "      <td>26890</td>\n",
       "      <td>979</td>\n",
       "      <td>745121</td>\n",
       "      <td>2611</td>\n",
       "      <td>4296</td>\n",
       "      <td>7906</td>\n",
       "      <td>11524</td>\n",
       "      <td>678</td>\n",
       "      <td>519448</td>\n",
       "      <td>1259</td>\n",
       "      <td>2222</td>\n",
       "      <td>6255</td>\n",
       "      <td>8133</td>\n",
       "      <td>344</td>\n",
       "    </tr>\n",
       "  </tbody>\n",
       "</table>\n",
       "</div>"
      ],
      "text/plain": [
       "          *     g    g+     1      2    1∪2  1∩2     *-A   g-A   1-A   2-A  \\\n",
       "A    157319  1214  1921  2093  12256  14138  211       0     0     0     0   \n",
       "#    249076  1617  2382  2422   2621   4619  424  225673  1352  2074  1651   \n",
       "N      7668  1178  2014  2112   5882   7667  327    7668  1178  2112  5882   \n",
       "Y       388    74    97    98    306    388   16     388    74    98   306   \n",
       "NaN  511392     7    12    12     67     78    1  511392     7    12    67   \n",
       "TOT  925843  4090  6426  6737  21132  26890  979  745121  2611  4296  7906   \n",
       "\n",
       "     1∪2-A  1∩2-A   *-A-#  g-A-#  1-A-#  2-A-#  1∪2-A-#  1∩2-A-#  \n",
       "A        0      0       0      0      0      0        0        0  \n",
       "#     3391    334       0      0      0      0        0        0  \n",
       "N     7667    327    7668   1178   2112   5882     7667      327  \n",
       "Y      388     16     388     74     98    306      388       16  \n",
       "NaN     78      1  511392      7     12     67       78        1  \n",
       "TOT  11524    678  519448   1259   2222   6255     8133      344  "
      ]
     },
     "metadata": {},
     "output_type": "display_data"
    }
   ],
   "source": [
    "stats = pd.DataFrame(\n",
    "    {k: wforms[v][\"status\"].value_counts(dropna=False) for (k, v) in masks.items()}\n",
    ")\n",
    "\n",
    "display(\n",
    "    pd.concat([stats.T, stats.sum().rename(\"TOT\")], axis=1)\n",
    "    .T.rename(index={-np.inf: \"#\", -1.0: \"N\", 1.0: \"Y\", np.inf: \"A\"})\n",
    "    .loc[[\"A\", \"#\", \"N\", \"Y\", np.nan, \"TOT\"]]\n",
    "    .fillna(0)\n",
    "    .astype(int)\n",
    ")\n",
    "\n",
    "del stats"
   ]
  },
  {
   "cell_type": "code",
   "execution_count": 6,
   "id": "60c5625c-8d2d-49bf-b7ec-5262a3734969",
   "metadata": {
    "tags": []
   },
   "outputs": [
    {
     "data": {
      "application/vnd.jupyter.widget-view+json": {
       "model_id": "5bef69f779494e55a54d66d57f4057ec",
       "version_major": 2,
       "version_minor": 0
      },
      "text/plain": [
       "Estimated completion of line 2:   0%           Elapsed time: 00:00, estimated remaining time: ?"
      ]
     },
     "metadata": {},
     "output_type": "display_data"
    },
    {
     "name": "stderr",
     "output_type": "stream",
     "text": [
      "UserWarning: Distributing <class 'dict'> object. This may take some time.\n"
     ]
    },
    {
     "data": {
      "application/vnd.jupyter.widget-view+json": {
       "model_id": "010ce54d56484f358223a3f9c2fd4629",
       "version_major": 2,
       "version_minor": 0
      },
      "text/plain": [
       "Estimated completion of line 1:   0%           Elapsed time: 00:00, estimated remaining time: ?"
      ]
     },
     "metadata": {},
     "output_type": "display_data"
    },
    {
     "data": {
      "application/vnd.jupyter.widget-view+json": {
       "model_id": "6048009c9136455289cc6444780f62ea",
       "version_major": 2,
       "version_minor": 0
      },
      "text/plain": [
       "Estimated completion of line 11:   0%           Elapsed time: 00:00, estimated remaining time: ?"
      ]
     },
     "metadata": {},
     "output_type": "display_data"
    },
    {
     "data": {
      "application/vnd.jupyter.widget-view+json": {
       "model_id": "956836c5f0f64e3692dc126a160cc1c4",
       "version_major": 2,
       "version_minor": 0
      },
      "text/plain": [
       "Estimated completion of line 12:   0%           Elapsed time: 00:00, estimated remaining time: ?"
      ]
     },
     "metadata": {},
     "output_type": "display_data"
    },
    {
     "data": {
      "application/vnd.jupyter.widget-view+json": {
       "model_id": "19302644ad5f4d93becc5973f1d0cf47",
       "version_major": 2,
       "version_minor": 0
      },
      "text/plain": [
       "Estimated completion of line 14:   0%           Elapsed time: 00:00, estimated remaining time: ?"
      ]
     },
     "metadata": {},
     "output_type": "display_data"
    },
    {
     "data": {
      "text/html": [
       "<div>\n",
       "<style scoped>\n",
       "    .dataframe tbody tr th:only-of-type {\n",
       "        vertical-align: middle;\n",
       "    }\n",
       "\n",
       "    .dataframe tbody tr th {\n",
       "        vertical-align: top;\n",
       "    }\n",
       "\n",
       "    .dataframe thead th {\n",
       "        text-align: right;\n",
       "    }\n",
       "</style>\n",
       "<table border=\"1\" class=\"dataframe\">\n",
       "  <thead>\n",
       "    <tr style=\"text-align: right;\">\n",
       "      <th></th>\n",
       "      <th>*</th>\n",
       "      <th>g</th>\n",
       "      <th>g+</th>\n",
       "      <th>1</th>\n",
       "      <th>2</th>\n",
       "      <th>1∪2</th>\n",
       "      <th>1∩2</th>\n",
       "      <th>*-A</th>\n",
       "      <th>g-A</th>\n",
       "      <th>1-A</th>\n",
       "      <th>2-A</th>\n",
       "      <th>1∪2-A</th>\n",
       "      <th>1∩2-A</th>\n",
       "      <th>*-A-#</th>\n",
       "      <th>g-A-#</th>\n",
       "      <th>1-A-#</th>\n",
       "      <th>2-A-#</th>\n",
       "      <th>1∪2-A-#</th>\n",
       "      <th>1∩2-A-#</th>\n",
       "    </tr>\n",
       "  </thead>\n",
       "  <tbody>\n",
       "    <tr>\n",
       "      <th>A</th>\n",
       "      <td>16.99%</td>\n",
       "      <td>29.68%</td>\n",
       "      <td>29.89%</td>\n",
       "      <td>31.07%</td>\n",
       "      <td>58.00%</td>\n",
       "      <td>52.58%</td>\n",
       "      <td>21.55%</td>\n",
       "      <td>0.00%</td>\n",
       "      <td>0.00%</td>\n",
       "      <td>0.00%</td>\n",
       "      <td>0.00%</td>\n",
       "      <td>0.00%</td>\n",
       "      <td>0.00%</td>\n",
       "      <td>0.00%</td>\n",
       "      <td>0.00%</td>\n",
       "      <td>0.00%</td>\n",
       "      <td>0.00%</td>\n",
       "      <td>0.00%</td>\n",
       "      <td>0.00%</td>\n",
       "    </tr>\n",
       "    <tr>\n",
       "      <th>#</th>\n",
       "      <td>26.90%</td>\n",
       "      <td>39.54%</td>\n",
       "      <td>37.07%</td>\n",
       "      <td>35.95%</td>\n",
       "      <td>12.40%</td>\n",
       "      <td>17.18%</td>\n",
       "      <td>43.31%</td>\n",
       "      <td>30.29%</td>\n",
       "      <td>51.78%</td>\n",
       "      <td>48.28%</td>\n",
       "      <td>20.88%</td>\n",
       "      <td>29.43%</td>\n",
       "      <td>49.26%</td>\n",
       "      <td>0.00%</td>\n",
       "      <td>0.00%</td>\n",
       "      <td>0.00%</td>\n",
       "      <td>0.00%</td>\n",
       "      <td>0.00%</td>\n",
       "      <td>0.00%</td>\n",
       "    </tr>\n",
       "    <tr>\n",
       "      <th>N</th>\n",
       "      <td>0.83%</td>\n",
       "      <td>28.80%</td>\n",
       "      <td>31.34%</td>\n",
       "      <td>31.35%</td>\n",
       "      <td>27.83%</td>\n",
       "      <td>28.51%</td>\n",
       "      <td>33.40%</td>\n",
       "      <td>1.03%</td>\n",
       "      <td>45.12%</td>\n",
       "      <td>49.16%</td>\n",
       "      <td>74.40%</td>\n",
       "      <td>66.53%</td>\n",
       "      <td>48.23%</td>\n",
       "      <td>1.48%</td>\n",
       "      <td>93.57%</td>\n",
       "      <td>95.05%</td>\n",
       "      <td>94.04%</td>\n",
       "      <td>94.27%</td>\n",
       "      <td>95.06%</td>\n",
       "    </tr>\n",
       "    <tr>\n",
       "      <th>Y</th>\n",
       "      <td>0.04%</td>\n",
       "      <td>1.81%</td>\n",
       "      <td>1.51%</td>\n",
       "      <td>1.45%</td>\n",
       "      <td>1.45%</td>\n",
       "      <td>1.44%</td>\n",
       "      <td>1.63%</td>\n",
       "      <td>0.05%</td>\n",
       "      <td>2.83%</td>\n",
       "      <td>2.28%</td>\n",
       "      <td>3.87%</td>\n",
       "      <td>3.37%</td>\n",
       "      <td>2.36%</td>\n",
       "      <td>0.07%</td>\n",
       "      <td>5.88%</td>\n",
       "      <td>4.41%</td>\n",
       "      <td>4.89%</td>\n",
       "      <td>4.77%</td>\n",
       "      <td>4.65%</td>\n",
       "    </tr>\n",
       "    <tr>\n",
       "      <th>NaN</th>\n",
       "      <td>55.24%</td>\n",
       "      <td>0.17%</td>\n",
       "      <td>0.19%</td>\n",
       "      <td>0.18%</td>\n",
       "      <td>0.32%</td>\n",
       "      <td>0.29%</td>\n",
       "      <td>0.10%</td>\n",
       "      <td>68.63%</td>\n",
       "      <td>0.27%</td>\n",
       "      <td>0.28%</td>\n",
       "      <td>0.85%</td>\n",
       "      <td>0.68%</td>\n",
       "      <td>0.15%</td>\n",
       "      <td>98.45%</td>\n",
       "      <td>0.56%</td>\n",
       "      <td>0.54%</td>\n",
       "      <td>1.07%</td>\n",
       "      <td>0.96%</td>\n",
       "      <td>0.29%</td>\n",
       "    </tr>\n",
       "    <tr>\n",
       "      <th>TOT</th>\n",
       "      <td>100.00%</td>\n",
       "      <td>100.00%</td>\n",
       "      <td>100.00%</td>\n",
       "      <td>100.00%</td>\n",
       "      <td>100.00%</td>\n",
       "      <td>100.00%</td>\n",
       "      <td>100.00%</td>\n",
       "      <td>100.00%</td>\n",
       "      <td>100.00%</td>\n",
       "      <td>100.00%</td>\n",
       "      <td>100.00%</td>\n",
       "      <td>100.00%</td>\n",
       "      <td>100.00%</td>\n",
       "      <td>100.00%</td>\n",
       "      <td>100.00%</td>\n",
       "      <td>100.00%</td>\n",
       "      <td>100.00%</td>\n",
       "      <td>100.00%</td>\n",
       "      <td>100.00%</td>\n",
       "    </tr>\n",
       "  </tbody>\n",
       "</table>\n",
       "</div>"
      ],
      "text/plain": [
       "          *       g      g+       1       2     1∪2     1∩2     *-A     g-A  \\\n",
       "A    16.99%  29.68%  29.89%  31.07%  58.00%  52.58%  21.55%   0.00%   0.00%   \n",
       "#    26.90%  39.54%  37.07%  35.95%  12.40%  17.18%  43.31%  30.29%  51.78%   \n",
       "N     0.83%  28.80%  31.34%  31.35%  27.83%  28.51%  33.40%   1.03%  45.12%   \n",
       "Y     0.04%   1.81%   1.51%   1.45%   1.45%   1.44%   1.63%   0.05%   2.83%   \n",
       "NaN  55.24%   0.17%   0.19%   0.18%   0.32%   0.29%   0.10%  68.63%   0.27%   \n",
       "TOT 100.00% 100.00% 100.00% 100.00% 100.00% 100.00% 100.00% 100.00% 100.00%   \n",
       "\n",
       "        1-A     2-A   1∪2-A   1∩2-A   *-A-#   g-A-#   1-A-#   2-A-#  1∪2-A-#  \\\n",
       "A     0.00%   0.00%   0.00%   0.00%   0.00%   0.00%   0.00%   0.00%    0.00%   \n",
       "#    48.28%  20.88%  29.43%  49.26%   0.00%   0.00%   0.00%   0.00%    0.00%   \n",
       "N    49.16%  74.40%  66.53%  48.23%   1.48%  93.57%  95.05%  94.04%   94.27%   \n",
       "Y     2.28%   3.87%   3.37%   2.36%   0.07%   5.88%   4.41%   4.89%    4.77%   \n",
       "NaN   0.28%   0.85%   0.68%   0.15%  98.45%   0.56%   0.54%   1.07%    0.96%   \n",
       "TOT 100.00% 100.00% 100.00% 100.00% 100.00% 100.00% 100.00% 100.00%  100.00%   \n",
       "\n",
       "     1∩2-A-#  \n",
       "A      0.00%  \n",
       "#      0.00%  \n",
       "N     95.06%  \n",
       "Y      4.65%  \n",
       "NaN    0.29%  \n",
       "TOT  100.00%  "
      ]
     },
     "metadata": {},
     "output_type": "display_data"
    }
   ],
   "source": [
    "stats = pd.DataFrame(\n",
    "    {\n",
    "        k: wforms[v][\"status\"].value_counts(dropna=False, normalize=True)\n",
    "        for (k, v) in masks.items()\n",
    "    }\n",
    ")\n",
    "\n",
    "\n",
    "with pd.option_context(\"display.float_format\", \"{:.2%}\".format):\n",
    "    display(\n",
    "        pd.concat([stats.T, stats.sum().rename(\"TOT\")], axis=1)\n",
    "        .T.rename(index={-np.inf: \"#\", -1.0: \"N\", 1.0: \"Y\", np.inf: \"A\"})\n",
    "        .loc[[\"A\", \"#\", \"N\", \"Y\", np.nan, \"TOT\"]]\n",
    "        .fillna(0)\n",
    "    )\n",
    "\n",
    "del stats"
   ]
  },
  {
   "cell_type": "code",
   "execution_count": 10,
   "id": "b9cd2416-7233-4bd2-8741-c1938cbb5879",
   "metadata": {
    "tags": []
   },
   "outputs": [
    {
     "name": "stdout",
     "output_type": "stream",
     "text": [
      "\n",
      "Yield (annotated only)\n",
      "GRI: 5.911%\n",
      "BFS: 4.945%\n",
      "ADV: -16%\n",
      "\n",
      "Yield (projected on missing)\n",
      "GRI: 5.910%\n",
      "BFS: 4.944%\n",
      "ADV: -16%\n",
      "\n",
      "Yield (projected on missing and hashtags)\n",
      "GRI: 4.026%\n",
      "BFS: 4.492%\n",
      "ADV: 12%\n"
     ]
    }
   ],
   "source": [
    "ProgressBar.disable()\n",
    "\n",
    "gri = wforms[rho][\"status\"].value_counts(dropna=False)\n",
    "bfs = wforms[snd][\"status\"].value_counts(dropna=False)\n",
    "\n",
    "print(\"\\nYield (annotated only)\")\n",
    "gri_tot = gri.loc[[1, -1]].sum()\n",
    "bfs_tot = bfs.loc[[1, -1]].sum()\n",
    "gri_yld = gri.loc[1] / gri_tot\n",
    "bfs_yld = bfs.loc[1] / bfs_tot\n",
    "print(\"GRI: {:.3%}\".format(gri_yld))\n",
    "print(\"BFS: {:.3%}\".format(bfs_yld))\n",
    "print(\"ADV: {:.0%}\".format(bfs_yld / gri_yld - 1))\n",
    "\n",
    "print(\"\\nYield (projected on missing)\")\n",
    "gri_tot = gri.loc[[1, -1, np.nan]].sum()\n",
    "bfs_tot = bfs.loc[[1, -1, np.nan]].sum()\n",
    "gri_yld = gri.loc[1] / gri_tot * (1 + gri.loc[np.nan] / gri_tot)\n",
    "bfs_yld = bfs.loc[1] / bfs_tot * (1 + bfs.loc[np.nan] / bfs_tot)\n",
    "print(\"GRI: {:.3%}\".format(gri_yld))\n",
    "print(\"BFS: {:.3%}\".format(bfs_yld))\n",
    "print(\"ADV: {:.0%}\".format(bfs_yld / gri_yld - 1))\n",
    "\n",
    "print(\"\\nYield (projected on missing and hashtags)\")\n",
    "gri_tot = gri.loc[[1, -1, np.nan, -np.inf]].sum()\n",
    "bfs_tot = bfs.loc[[1, -1, np.nan, -np.inf]].sum()\n",
    "gri_yld = gri.loc[1] / gri_tot * (1 + gri.loc[[np.nan, -np.inf]].sum() / gri_tot)\n",
    "bfs_yld = bfs.loc[1] / bfs_tot * (1 + bfs.loc[[np.nan, -np.inf]].sum() / bfs_tot)\n",
    "print(\"GRI: {:.3%}\".format(gri_yld))\n",
    "print(\"BFS: {:.3%}\".format(bfs_yld))\n",
    "print(\"ADV: {:.0%}\".format(bfs_yld / gri_yld - 1))\n",
    "\n",
    "ProgressBar.enable()"
   ]
  }
 ],
 "metadata": {
  "kernelspec": {
   "display_name": "Python 3 (ipykernel)",
   "language": "python",
   "name": "python3"
  },
  "language_info": {
   "codemirror_mode": {
    "name": "ipython",
    "version": 3
   },
   "file_extension": ".py",
   "mimetype": "text/x-python",
   "name": "python",
   "nbconvert_exporter": "python",
   "pygments_lexer": "ipython3",
   "version": "3.10.8"
  }
 },
 "nbformat": 4,
 "nbformat_minor": 5
}
