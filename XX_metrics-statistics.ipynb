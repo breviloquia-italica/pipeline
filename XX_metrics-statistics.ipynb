{
 "cells": [
  {
   "cell_type": "code",
   "execution_count": null,
   "id": "3bf3dcb6-15d5-4ad7-9e40-c35fcdc45c01",
   "metadata": {
    "tags": []
   },
   "outputs": [],
   "source": [
    "import geopandas as gpd\n",
    "import matplotlib.colors as colors\n",
    "import matplotlib.pyplot as plt\n",
    "import modin.pandas as pd\n",
    "import numpy as np\n",
    "import shapely\n",
    "from modin.config import ProgressBar\n",
    "from tqdm.auto import tqdm\n",
    "\n",
    "ProgressBar.enable()"
   ]
  },
  {
   "cell_type": "markdown",
   "id": "47b8e05e-777d-4679-9f52-12caa0f6ddee",
   "metadata": {
    "tags": []
   },
   "source": [
    "# Parameter space exploration"
   ]
  },
  {
   "cell_type": "code",
   "execution_count": null,
   "id": "e376309e-4eba-4939-bc49-8d3f0eeba971",
   "metadata": {
    "tags": []
   },
   "outputs": [],
   "source": [
    "wforms = (\n",
    "    pd.read_parquet(\"wforms-bat.parquet\")\n",
    "    .join(pd.read_parquet(\"wforms-ann.parquet\"), how=\"left\")\n",
    "    .join(pd.read_parquet(\"wforms-occ.parquet\", columns=[\"rho\", \"cvx\"]), how=\"left\")\n",
    ")\n",
    "\n",
    "wforms.loc[(wforms[\"fst_batch\"] | wforms[\"snd_batch\"]) & wforms[\"tt_att\"], \"status\"] = -1\n",
    "wforms.loc[(wforms[\"fst_batch\"] | wforms[\"snd_batch\"]) & wforms.index.str.startswith(\"#\"), \"status\"] = np.nan\n",
    "\n",
    "wforms"
   ]
  },
  {
   "cell_type": "code",
   "execution_count": null,
   "id": "9867b407-24d3-435f-a357-deca76dbc432",
   "metadata": {
    "tags": []
   },
   "outputs": [],
   "source": [
    "rho_thresholdsp = pd.Series(np.linspace(0.2, 1, 50))\n",
    "rho_thresholdsn = pd.Series(np.linspace(-1, -0.2, 50))\n",
    "\n",
    "testp = wforms[(~wforms[\"tt_att\"]) & wforms[\"fst_batch\"] & (wforms[\"rho\"] > 0.2)]\n",
    "testn = wforms[(~wforms[\"tt_att\"]) & wforms[\"fst_batch\"] & (wforms[\"rho\"] < -0.2)]\n",
    "\n",
    "\n",
    "fig, ax1 = plt.subplots()\n",
    "ax2 = ax1.twinx()\n",
    "\n",
    "ax1.plot(\n",
    "    rho_thresholdsp,\n",
    "    rho_thresholdsp.apply(lambda t: (testp[\"rho\"] >= t).sum()),\n",
    "    color=\"red\"\n",
    ")\n",
    "\n",
    "ax2.plot(\n",
    "    rho_thresholdsp,\n",
    "    rho_thresholdsp.apply(lambda t: ((testp[\"rho\"] >= t) & testp[\"status\"].ge(0)).mean())/rho_thresholdsp.apply(lambda t: (testp[\"rho\"] >= t).sum()),\n",
    ")\n",
    "\n",
    "\n",
    "ax1.plot(\n",
    "    rho_thresholdsn,\n",
    "    rho_thresholdsn.apply(lambda t: (testn[\"rho\"] <= t).sum()),\n",
    "    color=\"red\"\n",
    ")\n",
    "\n",
    "ax2.plot(\n",
    "    rho_thresholdsn,\n",
    "    rho_thresholdsn.apply(lambda t: ((testn[\"rho\"] <= t) & testn[\"status\"].ge(0)).mean())/rho_thresholdsn.apply(lambda t: (testn[\"rho\"] <= t).sum()),\n",
    ")\n",
    "\n",
    "\n",
    "fig.tight_layout()\n",
    "plt.show()"
   ]
  },
  {
   "cell_type": "code",
   "execution_count": null,
   "id": "38b07661-911b-40f7-be68-0f73bdbc7144",
   "metadata": {
    "tags": []
   },
   "outputs": [],
   "source": [
    "fst_thresholds = pd.Series(np.arange(7,366,5))\n",
    "lst_thresholds = pd.Series(np.arange(351,366))\n",
    "\n",
    "testf = wforms[wforms[\"snd_batch\"] & (wforms[\"fst\"] > 7)]\n",
    "testl = wforms[wforms[\"snd_batch\"] & (wforms[\"lst\"] > 351)]\n",
    "\n",
    "\n",
    "fig, ax1 = plt.subplots()\n",
    "ax2 = ax1.twinx()\n",
    "\n",
    "ax1.plot(\n",
    "    fst_thresholds,\n",
    "    fst_thresholds.apply(lambda t: (testf[\"fst\"] >= t).sum()),\n",
    "    color=\"red\"\n",
    ")\n",
    "\n",
    "ax2.plot(\n",
    "    fst_thresholds,\n",
    "    fst_thresholds.apply(lambda t: ((testf[\"fst\"] >= t) & testf[\"status\"].eq(1)).mean()),#/fst_thresholds.apply(lambda t: (testf[\"fst\"] >= t).sum()),\n",
    ")\n",
    "\n",
    "\n",
    "ax1.plot(\n",
    "    lst_thresholds,\n",
    "    lst_thresholds.apply(lambda t: (testl[\"lst\"] >= t).sum()),\n",
    "    color=\"red\"\n",
    ")\n",
    "\n",
    "ax2.plot(\n",
    "    lst_thresholds,\n",
    "    lst_thresholds.apply(lambda t: ((testl[\"lst\"] >= t) & testl[\"status\"].eq(1)).mean()),#/lst_thresholds.apply(lambda t: (testl[\"lst\"] >= t).sum()),\n",
    ")\n",
    "\n",
    "\n",
    "fig.tight_layout()\n",
    "plt.show()"
   ]
  },
  {
   "cell_type": "markdown",
   "id": "02cf6950-b5a4-4691-9c37-e6d29406ddf9",
   "metadata": {},
   "source": [
    "# convexity"
   ]
  },
  {
   "cell_type": "code",
   "execution_count": null,
   "id": "830bc0eb-527b-4edd-ad91-81c674ccd62b",
   "metadata": {
    "tags": []
   },
   "outputs": [],
   "source": [
    "thresholds = pd.Series(np.linspace(-1,+1,20))\n",
    "\n",
    "test = wforms[wforms[\"snd_batch\"] & ~wforms[\"cvx\"].isna()]\n",
    "\n",
    "fig, ax1 = plt.subplots()\n",
    "ax2 = ax1.twinx()\n",
    "\n",
    "ax1.plot(\n",
    "    thresholds,\n",
    "    thresholds.apply(lambda t: (test[\"cvx\"] <= t).sum()),\n",
    "    color=\"red\",\n",
    ")\n",
    "\n",
    "ax2.plot(\n",
    "    thresholds,\n",
    "    thresholds.apply(lambda t: ((test[\"cvx\"] <= t) & test[\"status\"].eq(1)).mean()),\n",
    "    color=\"blue\",\n",
    "    label=\"yield\",\n",
    ")\n",
    "\n",
    "plt.legend()\n",
    "\n",
    "fig.tight_layout()\n",
    "plt.show()"
   ]
  },
  {
   "cell_type": "code",
   "execution_count": null,
   "id": "b247f1d8-5069-4133-b29c-eb6dc3bae210",
   "metadata": {
    "tags": []
   },
   "outputs": [],
   "source": [
    "thresholds = pd.Series(np.linspace(-1,+1,20))\n",
    "\n",
    "test = wforms[wforms[\"snd_batch\"] & ~wforms[\"cvx\"].isna()]\n",
    "\n",
    "fig, ax1 = plt.subplots()\n",
    "ax2 = ax1.twinx()\n",
    "\n",
    "ax1.plot(\n",
    "    thresholds,\n",
    "    thresholds.apply(lambda t: (test[\"cvx\"] >= t).sum()),\n",
    "    color=\"red\",\n",
    ")\n",
    "\n",
    "ax2.plot(\n",
    "    thresholds,\n",
    "    thresholds.apply(lambda t: ((test[\"cvx\"] >= t) & test[\"status\"].eq(1)).mean()),\n",
    "    color=\"blue\",\n",
    "    label=\"yield\",\n",
    ")\n",
    "\n",
    "plt.legend()\n",
    "\n",
    "fig.tight_layout()\n",
    "plt.show()"
   ]
  },
  {
   "cell_type": "code",
   "execution_count": null,
   "id": "10283ceb-ae88-4566-a4fc-82d679a4bcb4",
   "metadata": {
    "tags": []
   },
   "outputs": [],
   "source": [
    "thresholds = pd.Series(np.linspace(0,+1,100))\n",
    "\n",
    "test = wforms[wforms[\"snd_batch\"] & ~wforms[\"cvx\"].isna()]\n",
    "\n",
    "fig, ax1 = plt.subplots()\n",
    "ax2 = ax1.twinx()\n",
    "\n",
    "ax1.plot(\n",
    "    thresholds,\n",
    "    thresholds.apply(lambda t: ((test[\"cvx\"]) >= t).sum()),\n",
    "    color=\"red\",\n",
    ")\n",
    "\n",
    "ax2.plot(\n",
    "    thresholds,\n",
    "    thresholds.apply(lambda t: (((test[\"cvx\"]) >= t) & test[\"status\"].eq(1)).mean()),#/thresholds.apply(lambda t: ((test[\"cvx\"]) >= t).sum()),\n",
    "    color=\"blue\",\n",
    "    label=\"yield\",\n",
    ")\n",
    "\n",
    "plt.legend()\n",
    "\n",
    "fig.tight_layout()\n",
    "plt.show()"
   ]
  },
  {
   "cell_type": "code",
   "execution_count": null,
   "id": "455e9a38-f680-4cef-ad74-ffdd87b5d3ee",
   "metadata": {
    "tags": []
   },
   "outputs": [],
   "source": [
    "thresholds = pd.Series(np.linspace(-1,0,100))\n",
    "\n",
    "test = wforms[wforms[\"snd_batch\"] & ~wforms[\"cvx\"].isna()]\n",
    "\n",
    "fig, ax1 = plt.subplots()\n",
    "ax2 = ax1.twinx()\n",
    "\n",
    "ax1.plot(\n",
    "    thresholds,\n",
    "    thresholds.apply(lambda t: ((test[\"cvx\"]) <= t).sum()),\n",
    "    color=\"red\",\n",
    ")\n",
    "\n",
    "ax2.plot(\n",
    "    thresholds,\n",
    "    thresholds.apply(lambda t: (((test[\"cvx\"]) <= t) & test[\"status\"].eq(1)).mean()),#/thresholds.apply(lambda t: ((test[\"cvx\"]) <= t).sum()),\n",
    "    color=\"blue\",\n",
    "    label=\"yield\",\n",
    ")\n",
    "\n",
    "plt.legend()\n",
    "\n",
    "fig.tight_layout()\n",
    "plt.show()"
   ]
  },
  {
   "cell_type": "code",
   "execution_count": null,
   "id": "07923a42-8b46-4b3a-a481-30c75806fb28",
   "metadata": {
    "tags": []
   },
   "outputs": [],
   "source": [
    "thresholds = pd.Series(np.linspace(0,+1,100))\n",
    "\n",
    "test = wforms[wforms[\"snd_batch\"] & ~wforms[\"cvx\"].isna()]\n",
    "\n",
    "fig, ax1 = plt.subplots()\n",
    "ax2 = ax1.twinx()\n",
    "\n",
    "ax1.plot(\n",
    "    thresholds,\n",
    "    thresholds.apply(lambda t: (abs(test[\"cvx\"]) >= t).sum()),\n",
    "    color=\"red\",\n",
    ")\n",
    "\n",
    "ax2.plot(\n",
    "    thresholds,\n",
    "    thresholds.apply(lambda t: ((abs(test[\"cvx\"]) >= t) & test[\"status\"].ge(0)).mean())/thresholds.apply(lambda t: (abs(test[\"cvx\"]) >= t).sum()),\n",
    "    color=\"blue\",\n",
    "    label=\"yield\",\n",
    ")\n",
    "\n",
    "plt.legend()\n",
    "\n",
    "fig.tight_layout()\n",
    "plt.show()"
   ]
  }
 ],
 "metadata": {
  "kernelspec": {
   "display_name": "Python 3 (ipykernel)",
   "language": "python",
   "name": "python3"
  },
  "language_info": {
   "codemirror_mode": {
    "name": "ipython",
    "version": 3
   },
   "file_extension": ".py",
   "mimetype": "text/x-python",
   "name": "python",
   "nbconvert_exporter": "python",
   "pygments_lexer": "ipython3",
   "version": "3.10.8"
  }
 },
 "nbformat": 4,
 "nbformat_minor": 5
}
