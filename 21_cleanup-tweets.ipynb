{
 "cells": [
  {
   "cell_type": "code",
   "execution_count": 1,
   "id": "3fde4896-9c01-442e-9fe1-f74a1c64fb45",
   "metadata": {
    "editable": true,
    "slideshow": {
     "slide_type": ""
    },
    "tags": []
   },
   "outputs": [
    {
     "name": "stdout",
     "output_type": "stream",
     "text": [
      "Modin partitions: 28\n"
     ]
    }
   ],
   "source": [
    "import modin.pandas as pd\n",
    "from modin.config import NPartitions\n",
    "\n",
    "print(\"Modin partitions:\", NPartitions.get())\n",
    "\n",
    "from modin.config import ProgressBar\n",
    "from tqdm import tqdm\n",
    "\n",
    "ProgressBar.enable()\n",
    "\n",
    "from shapely.geometry import Point"
   ]
  },
  {
   "cell_type": "code",
   "execution_count": 2,
   "id": "ca9547c5-4fa1-4d23-8823-94b84d3731a3",
   "metadata": {
    "tags": []
   },
   "outputs": [
    {
     "name": "stderr",
     "output_type": "stream",
     "text": [
      "UserWarning: Ray execution environment not yet initialized. Initializing...\n",
      "To remove this warning, run the following python code before doing dataframe operations:\n",
      "\n",
      "    import ray\n",
      "    ray.init()\n",
      "\n",
      "2023-07-19 14:10:54,431\tINFO worker.py:1636 -- Started a local Ray instance.\n",
      "UserWarning: File has mismatched quotes\n"
     ]
    }
   ],
   "source": [
    "# Load dataset.\n",
    "tweets = pd.read_json(\"tweets.jsonl\", lines=True)"
   ]
  },
  {
   "cell_type": "code",
   "execution_count": 3,
   "id": "163a55ff-3ad9-486b-b98e-fce5e71d6cc2",
   "metadata": {
    "tags": []
   },
   "outputs": [],
   "source": [
    "# Set main index.\n",
    "tweets.set_index(\"id\", inplace=True)"
   ]
  },
  {
   "cell_type": "code",
   "execution_count": 4,
   "id": "fbcfff3d-e809-461b-ab4a-4390a9b15995",
   "metadata": {
    "tags": []
   },
   "outputs": [
    {
     "data": {
      "application/vnd.jupyter.widget-view+json": {
       "model_id": "d809023acb274bc886d6349270e712be",
       "version_major": 2,
       "version_minor": 0
      },
      "text/plain": [
       "Estimated completion of line 2:   0%           Elapsed time: 00:00, estimated remaining time: ?"
      ]
     },
     "metadata": {},
     "output_type": "display_data"
    },
    {
     "data": {
      "application/vnd.jupyter.widget-view+json": {
       "model_id": "67a99e95df4348b4a49a16bae00e2964",
       "version_major": 2,
       "version_minor": 0
      },
      "text/plain": [
       "Estimated completion of line 3:   0%           Elapsed time: 00:00, estimated remaining time: ?"
      ]
     },
     "metadata": {},
     "output_type": "display_data"
    },
    {
     "data": {
      "application/vnd.jupyter.widget-view+json": {
       "model_id": "d28fc84485ec431d90b576bc75145e3f",
       "version_major": 2,
       "version_minor": 0
      },
      "text/plain": [
       "Estimated completion of line 4:   0%           Elapsed time: 00:00, estimated remaining time: ?"
      ]
     },
     "metadata": {},
     "output_type": "display_data"
    },
    {
     "data": {
      "application/vnd.jupyter.widget-view+json": {
       "model_id": "d57ed0f2b6ac47a58b343622767cccbb",
       "version_major": 2,
       "version_minor": 0
      },
      "text/plain": [
       "Estimated completion of line 5:   0%           Elapsed time: 00:00, estimated remaining time: ?"
      ]
     },
     "metadata": {},
     "output_type": "display_data"
    },
    {
     "data": {
      "application/vnd.jupyter.widget-view+json": {
       "model_id": "4de94382d81548a69fa079b661a78a3c",
       "version_major": 2,
       "version_minor": 0
      },
      "text/plain": [
       "Estimated completion of line 6:   0%           Elapsed time: 00:00, estimated remaining time: ?"
      ]
     },
     "metadata": {},
     "output_type": "display_data"
    },
    {
     "data": {
      "application/vnd.jupyter.widget-view+json": {
       "model_id": "4a17bd0988324cc889a76282db9e03f9",
       "version_major": 2,
       "version_minor": 0
      },
      "text/plain": [
       "Estimated completion of line 8:   0%           Elapsed time: 00:00, estimated remaining time: ?"
      ]
     },
     "metadata": {},
     "output_type": "display_data"
    },
    {
     "data": {
      "application/vnd.jupyter.widget-view+json": {
       "model_id": "f415c5857e4b4010b337a020df71c393",
       "version_major": 2,
       "version_minor": 0
      },
      "text/plain": [
       "Estimated completion of line 9:   0%           Elapsed time: 00:00, estimated remaining time: ?"
      ]
     },
     "metadata": {},
     "output_type": "display_data"
    },
    {
     "data": {
      "application/vnd.jupyter.widget-view+json": {
       "model_id": "ce979c146ee94872b5c79d869d207596",
       "version_major": 2,
       "version_minor": 0
      },
      "text/plain": [
       "Estimated completion of line 10:   0%           Elapsed time: 00:00, estimated remaining time: ?"
      ]
     },
     "metadata": {},
     "output_type": "display_data"
    },
    {
     "data": {
      "application/vnd.jupyter.widget-view+json": {
       "model_id": "b68ecaec3ed44d8e96eaec7b945ac0fd",
       "version_major": 2,
       "version_minor": 0
      },
      "text/plain": [
       "Estimated completion of line 14:   0%           Elapsed time: 00:00, estimated remaining time: ?"
      ]
     },
     "metadata": {},
     "output_type": "display_data"
    },
    {
     "data": {
      "application/vnd.jupyter.widget-view+json": {
       "model_id": "2ae8ef088ceb4e93aee7fb0871363fda",
       "version_major": 2,
       "version_minor": 0
      },
      "text/plain": [
       "Estimated completion of line 18:   0%           Elapsed time: 00:00, estimated remaining time: ?"
      ]
     },
     "metadata": {},
     "output_type": "display_data"
    }
   ],
   "source": [
    "# Check assumptions on geographical data.\n",
    "assert (tweets[\"geo\"].isna() == tweets[\"coordinates\"].isna()).all()\n",
    "assert tweets[\"geo\"].map(lambda x: x[\"type\"] == \"Point\", \"ignore\").all()\n",
    "assert tweets[\"coordinates\"].map(lambda x: x[\"type\"] == \"Point\", \"ignore\").all()\n",
    "assert tweets[\"geo\"].map(lambda x: len(x[\"coordinates\"]) == 2, \"ignore\").all()\n",
    "assert tweets[\"coordinates\"].map(lambda x: len(x[\"coordinates\"]) == 2, \"ignore\").all()\n",
    "assert (\n",
    "    tweets[\"geo\"].dropna().map(lambda x: x[\"coordinates\"]).map(reversed).map(list)\n",
    "    == tweets[\"coordinates\"].dropna().map(lambda x: x[\"coordinates\"])\n",
    ").all()\n",
    "\n",
    "# Normalize geographical data.\n",
    "\n",
    "tweets[\"point\"] = tweets[\"coordinates\"].map(\n",
    "    lambda x: Point(x[\"coordinates\"]).wkt, \"ignore\"\n",
    ")\n",
    "tweets.drop(columns=[\"geo\", \"coordinates\"], inplace=True)\n",
    "tweets[\"place_id\"] = tweets[\"place_id\"].fillna(\"0\").apply(int, base=16).astype(\"uint64\")"
   ]
  },
  {
   "cell_type": "code",
   "execution_count": 5,
   "id": "eb5371f1-5d5b-4cec-a37c-3ff3ff37035e",
   "metadata": {
    "tags": []
   },
   "outputs": [
    {
     "data": {
      "application/vnd.jupyter.widget-view+json": {
       "model_id": "e0249ddd9fae49aa9ba5c15b573f8483",
       "version_major": 2,
       "version_minor": 0
      },
      "text/plain": [
       "Estimated completion of line 6:   0%           Elapsed time: 00:00, estimated remaining time: ?"
      ]
     },
     "metadata": {},
     "output_type": "display_data"
    },
    {
     "data": {
      "application/vnd.jupyter.widget-view+json": {
       "model_id": "fab5b8e190e64152bc92af882184b5cf",
       "version_major": 2,
       "version_minor": 0
      },
      "text/plain": [
       "Estimated completion of line 7:   0%           Elapsed time: 00:00, estimated remaining time: ?"
      ]
     },
     "metadata": {},
     "output_type": "display_data"
    }
   ],
   "source": [
    "from lib import entities\n",
    "\n",
    "# Check assumptions on textual data.\n",
    "assert (\n",
    "    tweets[\"entities\"]\n",
    "    .map(lambda x: all(k in entities.ENTITY_DELIMITERS_BY_KEY.keys() for k in x.keys()))\n",
    "    .all()\n",
    ")\n",
    "\n",
    "# Normalize textual data.\n",
    "tweets[\"full_text_with_entities\"] = tweets[[\"full_text\", \"entities\"]].apply(\n",
    "    entities.embed_entity_annotations, axis=1\n",
    ")\n",
    "tweets.drop(columns=[\"full_text\", \"entities\"], inplace=True)"
   ]
  },
  {
   "cell_type": "code",
   "execution_count": 8,
   "id": "429e4a97-6182-40b7-8a2f-689c59153c14",
   "metadata": {
    "tags": []
   },
   "outputs": [],
   "source": [
    "# Dump to parquet. The dataset ain't that big, so we force writing a single file.\n",
    "tweets._to_pandas().to_parquet(\"tweets.parquet\")"
   ]
  }
 ],
 "metadata": {
  "kernelspec": {
   "display_name": "Python 3 (ipykernel)",
   "language": "python",
   "name": "python3"
  },
  "language_info": {
   "codemirror_mode": {
    "name": "ipython",
    "version": 3
   },
   "file_extension": ".py",
   "mimetype": "text/x-python",
   "name": "python",
   "nbconvert_exporter": "python",
   "pygments_lexer": "ipython3",
   "version": "3.10.8"
  }
 },
 "nbformat": 4,
 "nbformat_minor": 5
}
