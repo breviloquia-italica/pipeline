{
 "cells": [
  {
   "cell_type": "code",
   "execution_count": 53,
   "id": "96a47d63-11d1-4a65-bc2c-2e376735982a",
   "metadata": {
    "tags": []
   },
   "outputs": [
    {
     "name": "stdout",
     "output_type": "stream",
     "text": [
      "First batch: normalizing markers.\n",
      "Second batch: normalizing markers.\n"
     ]
    }
   ],
   "source": [
    "#!/usr/bin/env python\n",
    "\n",
    "import modin.pandas as pd\n",
    "import numpy as np\n",
    "import requests\n",
    "import re\n",
    "from io import StringIO\n",
    "\n",
    "def read_annotations_gsheet(sheet_id):\n",
    "    tpl = \"https://docs.google.com/spreadsheets/d/{sheet_id}/export?format=csv\"\n",
    "    url = tpl.format(sheet_id=sheet_id)\n",
    "    # NOTE: it's crucial to be explicit decoding the request body!\n",
    "    stream = StringIO(requests.get(url).content.decode(\"utf-8\"))\n",
    "    usecols = [\"wf\", \"status\", \"category\", \"attestation\", \"notes\"]\n",
    "    dtype = { \"wf\": str, \"status\": float, \"category\": str, \"attestation\": str, \"notes\": str }\n",
    "    return pd.read_csv(stream, encoding=\"UTF-8\", usecols=usecols, dtype=dtype)\n",
    "\n",
    "# First batch: load dataset.\n",
    "fst = read_annotations_gsheet(\"1MCzAM0QRlW6symBUQrlxgVgsaxfJVxf_zlwNu_1gGW8\")\n",
    "\n",
    "# First batch: normalize stray entity markers.\n",
    "if fst[\"wf\"].str.contains(r\"[\\uE000-\\uF8FF]\", na=False).any():\n",
    "    print(\"First batch: normalizing markers.\")\n",
    "    pfx = re.compile(r\"^.*[\\uE000\\uE010\\uE020\\uE030\\uE040]\")\n",
    "    sfx = re.compile(r\"[\\uE001\\uE011\\uE021\\uE031\\uE041].*$\")\n",
    "    fst[\"wf\"] = fst[\"wf\"].str.replace(pfx, \"\", regex=True).str.replace(sfx, \"\", regex=True)\n",
    "assert ~fst[\"wf\"].str.contains(r\"[\\uE000-\\uF8FF]\", na=False).any()\n",
    "\n",
    "# First batch: normalize duplicates.\n",
    "if fst[\"wf\"].duplicated().any():\n",
    "    print(\"First batch: normalizing duplicates.\")\n",
    "    fst[\"status\"].fillna(-np.inf, inplace=True)\n",
    "    fst = fst.loc[fst.groupby(\"wf\")[\"status\"].idxmax()]\n",
    "    fst[\"status\"].replace(-np.inf, np.nan, inplace=True)\n",
    "assert ~fst[\"wf\"].duplicated().any()\n",
    "\n",
    "# Second batch: load dataset.\n",
    "snd = read_annotations_gsheet(\"1PckY4B9B1jKjsfbIBr2_XwkkcN85UzYQ7cf-vUNQVxo\")\n",
    "\n",
    "# Second batch: normalize stray entity markers.\n",
    "if snd[\"wf\"].str.contains(r\"[\\uE000-\\uF8FF]\", na=False).any():\n",
    "    print(\"Second batch: normalizing markers.\")\n",
    "    pfx = re.compile(r\"^.*[\\uE000\\uE010\\uE020\\uE030\\uE040]\")\n",
    "    sfx = re.compile(r\"[\\uE001\\uE011\\uE021\\uE031\\uE041].*$\")\n",
    "    snd[\"wf\"] = snd[\"wf\"].str.replace(pfx, \"\", regex=True).str.replace(sfx, \"\", regex=True)\n",
    "assert ~snd[\"wf\"].str.contains(r\"[\\uE000-\\uF8FF]\", na=False).any()\n",
    "\n",
    "# Second batch: normalize duplicates.\n",
    "if snd[\"wf\"].duplicated().any():\n",
    "    print(\"Second batch: normalizing duplicates.\")\n",
    "    snd[\"status\"].fillna(-np.inf, inplace=True)\n",
    "    snd = snd.loc[snd.groupby(\"wf\")[\"status\"].idxmax()]\n",
    "    snd[\"status\"].replace(-np.inf, np.nan, inplace=True)\n",
    "assert ~snd[\"wf\"].duplicated().any()\n",
    "\n",
    "# Aggregate annotation batches.\n",
    "ann = pd.concat([fst,snd], ignore_index=True)\n",
    "\n",
    "# Aggregate: normalize duplicates.\n",
    "if ann[\"wf\"].duplicated().any():\n",
    "    print(\"Aggregate: normalizing duplicates.\")\n",
    "    ann[\"status\"].fillna(-np.inf, inplace=True)\n",
    "    ann = ann.loc[ann.groupby(\"wf\")[\"status\"].idxmax()]\n",
    "    ann[\"status\"].replace(-np.inf, np.nan, inplace=True)\n",
    "assert ann[\"wf\"].duplicated().sum() == 0\n",
    "\n",
    "# Aggregate: save dataset.\n",
    "ann.set_index(\"wf\", inplace=True)\n",
    "\n",
    "# Save dataset.\n",
    "#ann.to_parquet(\"wforms-ann.parquet\")\n"
   ]
  },
  {
   "cell_type": "code",
   "execution_count": 105,
   "id": "a356cafe-e607-406c-813e-c7ff26c55fcb",
   "metadata": {
    "tags": []
   },
   "outputs": [],
   "source": [
    "ext = pd.read_excel(\"bi-inn-forms-w-cats_STE_GRE.xlsx\", sheet_name=\"Sheet4\", header=None, names=[\"wf\", \"category\"])\n",
    "\n",
    "assert not ext[\"wf\"].isin(ann.index).all()\n",
    "ext.loc[ext[\"wf\"].eq(\"mavattelapijànd'erculo\"), \"wf\"] = \"mavattelapijànd'\"\n",
    "assert ext[\"wf\"].isin(ann.index).all()\n",
    "\n",
    "assert ext[\"category\"].isna().any()\n",
    "ext.loc[ext[\"wf\"].eq(\"memiamo\"), \"category\"] = \"suffissazione\"\n",
    "assert not ext[\"category\"].isna().any()\n",
    "\n",
    "ext.set_index(\"wf\", inplace=True)\n",
    "ann.loc[ann[\"status\"].eq(1), \"status\"] = -1\n",
    "ann[\"category\"] = np.nan\n",
    "ann.update(ext)"
   ]
  },
  {
   "cell_type": "code",
   "execution_count": 104,
   "id": "c3c7583d-da4e-44f2-817b-253dd7a0892d",
   "metadata": {
    "tags": []
   },
   "outputs": [
    {
     "data": {
      "text/plain": [
       "category\n",
       "variante grafica         109\n",
       "univerbazione             48\n",
       "suffissazione             45\n",
       "forestierismo             40\n",
       "macedonia                 33\n",
       "prestito adattato         24\n",
       "alterazione               17\n",
       "prefissazione              8\n",
       "acronimo                   6\n",
       "transcategorizzazione      6\n",
       "composizione               3\n",
       "deonimico                  3\n",
       "ridefinizione              2\n",
       "deacronimico               1\n",
       "tmesi                      1\n",
       "Name: count, dtype: int64"
      ]
     },
     "execution_count": 104,
     "metadata": {},
     "output_type": "execute_result"
    }
   ],
   "source": [
    "\n"
   ]
  },
  {
   "cell_type": "code",
   "execution_count": 90,
   "id": "8bcad5de-030c-4ef1-bc53-bfd7469c3059",
   "metadata": {
    "tags": []
   },
   "outputs": [
    {
     "data": {
      "text/html": [
       "<div>\n",
       "<style scoped>\n",
       "    .dataframe tbody tr th:only-of-type {\n",
       "        vertical-align: middle;\n",
       "    }\n",
       "\n",
       "    .dataframe tbody tr th {\n",
       "        vertical-align: top;\n",
       "    }\n",
       "\n",
       "    .dataframe thead th {\n",
       "        text-align: right;\n",
       "    }\n",
       "</style>\n",
       "<table border=\"1\" class=\"dataframe\">\n",
       "  <thead>\n",
       "    <tr style=\"text-align: right;\">\n",
       "      <th></th>\n",
       "      <th>wf</th>\n",
       "      <th>category</th>\n",
       "    </tr>\n",
       "  </thead>\n",
       "  <tbody>\n",
       "    <tr>\n",
       "      <th>0</th>\n",
       "      <td>5stalle</td>\n",
       "      <td>macedonia</td>\n",
       "    </tr>\n",
       "    <tr>\n",
       "      <th>1</th>\n",
       "      <td>abilista</td>\n",
       "      <td>suffissazione</td>\n",
       "    </tr>\n",
       "    <tr>\n",
       "      <th>2</th>\n",
       "      <td>accannate</td>\n",
       "      <td>suffissazione</td>\n",
       "    </tr>\n",
       "    <tr>\n",
       "      <th>3</th>\n",
       "      <td>accannato</td>\n",
       "      <td>suffissazione</td>\n",
       "    </tr>\n",
       "    <tr>\n",
       "      <th>4</th>\n",
       "      <td>accaunt</td>\n",
       "      <td>variante grafica</td>\n",
       "    </tr>\n",
       "    <tr>\n",
       "      <th>...</th>\n",
       "      <td>...</td>\n",
       "      <td>...</td>\n",
       "    </tr>\n",
       "    <tr>\n",
       "      <th>341</th>\n",
       "      <td>zanzarologi</td>\n",
       "      <td>suffissazione</td>\n",
       "    </tr>\n",
       "    <tr>\n",
       "      <th>342</th>\n",
       "      <td>zanzarologo</td>\n",
       "      <td>suffissazione</td>\n",
       "    </tr>\n",
       "    <tr>\n",
       "      <th>343</th>\n",
       "      <td>ziocane</td>\n",
       "      <td>univerbazione</td>\n",
       "    </tr>\n",
       "    <tr>\n",
       "      <th>344</th>\n",
       "      <td>zola</td>\n",
       "      <td>variante grafica</td>\n",
       "    </tr>\n",
       "    <tr>\n",
       "      <th>345</th>\n",
       "      <td>𝗥𝗘𝗖𝗔𝗣</td>\n",
       "      <td>forestierismo</td>\n",
       "    </tr>\n",
       "  </tbody>\n",
       "</table>\n",
       "<p>346 rows x 2 columns</p>\n",
       "</div>"
      ],
      "text/plain": [
       "              wf          category\n",
       "0        5stalle         macedonia\n",
       "1       abilista     suffissazione\n",
       "2      accannate     suffissazione\n",
       "3      accannato     suffissazione\n",
       "4        accaunt  variante grafica\n",
       "..           ...               ...\n",
       "341  zanzarologi     suffissazione\n",
       "342  zanzarologo     suffissazione\n",
       "343      ziocane     univerbazione\n",
       "344         zola  variante grafica\n",
       "345        𝗥𝗘𝗖𝗔𝗣     forestierismo\n",
       "\n",
       "[346 rows x 2 columns]"
      ]
     },
     "execution_count": 90,
     "metadata": {},
     "output_type": "execute_result"
    }
   ],
   "source": []
  }
 ],
 "metadata": {
  "kernelspec": {
   "display_name": "Python 3 (ipykernel)",
   "language": "python",
   "name": "python3"
  },
  "language_info": {
   "codemirror_mode": {
    "name": "ipython",
    "version": 3
   },
   "file_extension": ".py",
   "mimetype": "text/x-python",
   "name": "python",
   "nbconvert_exporter": "python",
   "pygments_lexer": "ipython3",
   "version": "3.10.8"
  }
 },
 "nbformat": 4,
 "nbformat_minor": 5
}
