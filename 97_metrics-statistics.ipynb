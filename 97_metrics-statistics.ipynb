{
 "cells": [
  {
   "cell_type": "code",
   "execution_count": 1,
   "id": "3bf3dcb6-15d5-4ad7-9e40-c35fcdc45c01",
   "metadata": {
    "tags": []
   },
   "outputs": [],
   "source": [
    "import matplotlib.colors as colors\n",
    "import matplotlib.pyplot as plt\n",
    "import modin.pandas as pd\n",
    "import numpy as np\n",
    "from modin.config import ProgressBar\n",
    "from tqdm.auto import tqdm\n",
    "\n",
    "ProgressBar.enable()"
   ]
  },
  {
   "cell_type": "code",
   "execution_count": 2,
   "id": "6a8ef6c2-2005-4c3c-bfcd-03e913c0187a",
   "metadata": {
    "tags": []
   },
   "outputs": [
    {
     "name": "stderr",
     "output_type": "stream",
     "text": [
      "UserWarning: Ray execution environment not yet initialized. Initializing...\n",
      "To remove this warning, run the following python code before doing dataframe operations:\n",
      "\n",
      "    import ray\n",
      "    ray.init()\n",
      "\n",
      "2023-07-27 23:33:13,876\tINFO worker.py:1636 -- Started a local Ray instance.\n"
     ]
    },
    {
     "data": {
      "application/vnd.jupyter.widget-view+json": {
       "model_id": "70d92a8e1cdf4c2389139c1ef445940d",
       "version_major": 2,
       "version_minor": 0
      },
      "text/plain": [
       "Estimated completion of line 2:   0%           Elapsed time: 00:00, estimated remaining time: ?"
      ]
     },
     "metadata": {},
     "output_type": "display_data"
    },
    {
     "data": {
      "text/plain": [
       "status\n",
       "-1.0    10832\n",
       " 1.0      370\n",
       " NaN      178\n",
       " 0.0      144\n",
       "Name: count, dtype: int64"
      ]
     },
     "execution_count": 2,
     "metadata": {},
     "output_type": "execute_result"
    }
   ],
   "source": [
    "# Quick annotation progress check\n",
    "pd.read_parquet(\"wforms-ann.parquet\")[\"status\"].value_counts(dropna=False)"
   ]
  },
  {
   "cell_type": "code",
   "execution_count": 3,
   "id": "ff929ab7-5d24-4ed3-a4b5-a71b7102f35c",
   "metadata": {
    "tags": []
   },
   "outputs": [
    {
     "data": {
      "application/vnd.jupyter.widget-view+json": {
       "model_id": "41ecb0dc012a409d955f2a137741422c",
       "version_major": 2,
       "version_minor": 0
      },
      "text/plain": [
       "Estimated completion of line 2:   0%           Elapsed time: 00:00, estimated remaining time: ?"
      ]
     },
     "metadata": {},
     "output_type": "display_data"
    },
    {
     "data": {
      "application/vnd.jupyter.widget-view+json": {
       "model_id": "46e0927c795d49e5ac73d6c8f7c9cea0",
       "version_major": 2,
       "version_minor": 0
      },
      "text/plain": [
       "Estimated completion of line 3:   0%           Elapsed time: 00:00, estimated remaining time: ?"
      ]
     },
     "metadata": {},
     "output_type": "display_data"
    },
    {
     "data": {
      "application/vnd.jupyter.widget-view+json": {
       "model_id": "539b02057d964452a8234ed1e03b5944",
       "version_major": 2,
       "version_minor": 0
      },
      "text/plain": [
       "Estimated completion of line 4:   0%           Elapsed time: 00:00, estimated remaining time: ?"
      ]
     },
     "metadata": {},
     "output_type": "display_data"
    },
    {
     "data": {
      "application/vnd.jupyter.widget-view+json": {
       "model_id": "4be2fc843bbc4c289add03f9efdbfe9a",
       "version_major": 2,
       "version_minor": 0
      },
      "text/plain": [
       "Estimated completion of line 9:   0%           Elapsed time: 00:00, estimated remaining time: ?"
      ]
     },
     "metadata": {},
     "output_type": "display_data"
    },
    {
     "data": {
      "application/vnd.jupyter.widget-view+json": {
       "model_id": "7c784b1241d946e588e667dbd1010882",
       "version_major": 2,
       "version_minor": 0
      },
      "text/plain": [
       "Estimated completion of line 10:   0%           Elapsed time: 00:00, estimated remaining time: ?"
      ]
     },
     "metadata": {},
     "output_type": "display_data"
    },
    {
     "data": {
      "application/vnd.jupyter.widget-view+json": {
       "model_id": "520d569b05c941ac8f751254a76c39b5",
       "version_major": 2,
       "version_minor": 0
      },
      "text/plain": [
       "Estimated completion of line 11:   0%           Elapsed time: 00:00, estimated remaining time: ?"
      ]
     },
     "metadata": {},
     "output_type": "display_data"
    },
    {
     "name": "stdout",
     "output_type": "stream",
     "text": [
      "Forms statistics:\n",
      "925843 total\n",
      "  6737 1st batch\n",
      " 21132 2nd batch\n",
      "   979 overlap\n"
     ]
    },
    {
     "data": {
      "application/vnd.jupyter.widget-view+json": {
       "model_id": "ea2ebab844bb4b9797a1a0f76729108c",
       "version_major": 2,
       "version_minor": 0
      },
      "text/plain": [
       "Estimated completion of line 21:   0%           Elapsed time: 00:00, estimated remaining time: ?"
      ]
     },
     "metadata": {},
     "output_type": "display_data"
    },
    {
     "data": {
      "application/vnd.jupyter.widget-view+json": {
       "model_id": "63a3acf79ac34d829257143ae8652ad3",
       "version_major": 2,
       "version_minor": 0
      },
      "text/plain": [
       "Estimated completion of line 22:   0%           Elapsed time: 00:00, estimated remaining time: ?"
      ]
     },
     "metadata": {},
     "output_type": "display_data"
    },
    {
     "data": {
      "application/vnd.jupyter.widget-view+json": {
       "model_id": "6137f03bf2d94490a810147aaf0e06b4",
       "version_major": 2,
       "version_minor": 0
      },
      "text/plain": [
       "Estimated completion of line 23:   0%           Elapsed time: 00:00, estimated remaining time: ?"
      ]
     },
     "metadata": {},
     "output_type": "display_data"
    },
    {
     "data": {
      "application/vnd.jupyter.widget-view+json": {
       "model_id": "1cb8d58cc18843ccbb92bb1434a55bd9",
       "version_major": 2,
       "version_minor": 0
      },
      "text/plain": [
       "Estimated completion of line 24:   0%           Elapsed time: 00:00, estimated remaining time: ?"
      ]
     },
     "metadata": {},
     "output_type": "display_data"
    },
    {
     "name": "stdout",
     "output_type": "stream",
     "text": [
      "Forms statistics (prefiltered):\n",
      "745121 total\n",
      "  4296 1st batch\n",
      "  7906 2nd batch\n",
      "   678 overlap\n"
     ]
    }
   ],
   "source": [
    "wforms = (\n",
    "    pd.read_parquet(\"wforms-bat.parquet\")\n",
    "    .join(pd.read_parquet(\"wforms-ann.parquet\"), how=\"left\")\n",
    "    .join(pd.read_parquet(\"wforms-occ.parquet\", columns=[\"rho\"]), how=\"left\")\n",
    ")\n",
    "\n",
    "stats = [\n",
    "    [wforms.shape[0], \"total\"],\n",
    "    [wforms[\"fst_batch\"].sum(), \"1st batch\"],\n",
    "    [wforms[\"snd_batch\"].sum(), \"2nd batch\"],\n",
    "    [(wforms[\"fst_batch\"] & wforms[\"snd_batch\"]).sum(), \"overlap\"],\n",
    "]\n",
    "\n",
    "print(\"Forms statistics:\")\n",
    "for row in stats:\n",
    "    print(\"{: >6} {}\".format(*row))\n",
    "\n",
    "del stats\n",
    "\n",
    "stats = [\n",
    "    [(~wforms[\"tt_att\"]).sum(), \"total\"],\n",
    "    [(~wforms[\"tt_att\"] & wforms[\"fst_batch\"]).sum(), \"1st batch\"],\n",
    "    [(~wforms[\"tt_att\"] & wforms[\"snd_batch\"]).sum(), \"2nd batch\"],\n",
    "    [(~wforms[\"tt_att\"] & wforms[\"fst_batch\"] & wforms[\"snd_batch\"]).sum(), \"overlap\"],\n",
    "]\n",
    "\n",
    "print(\"Forms statistics (prefiltered):\")\n",
    "for row in stats:\n",
    "    print(\"{: >6} {}\".format(*row))\n",
    "\n",
    "del stats"
   ]
  },
  {
   "cell_type": "code",
   "execution_count": 4,
   "id": "16120d8a-8dda-452f-9ecb-2183fb185b81",
   "metadata": {
    "tags": []
   },
   "outputs": [],
   "source": [
    "# We mark previously attested forms and hashtags as special\n",
    "wforms.loc[wforms[\"tt_att\"], \"status\"] = +np.inf\n",
    "wforms.loc[wforms.index.str.startswith(\"#\"), \"status\"] = -np.inf"
   ]
  },
  {
   "cell_type": "code",
   "execution_count": 5,
   "id": "b3707ab5-6577-4287-b2d8-adb03e1000ec",
   "metadata": {
    "tags": []
   },
   "outputs": [
    {
     "data": {
      "application/vnd.jupyter.widget-view+json": {
       "model_id": "d24d80658dd44a4189507f4049bd7e1a",
       "version_major": 2,
       "version_minor": 0
      },
      "text/plain": [
       "Estimated completion of line 3:   0%           Elapsed time: 00:00, estimated remaining time: ?"
      ]
     },
     "metadata": {},
     "output_type": "display_data"
    },
    {
     "data": {
      "application/vnd.jupyter.widget-view+json": {
       "model_id": "13f29a670cb04351b70dc0f9bba95737",
       "version_major": 2,
       "version_minor": 0
      },
      "text/plain": [
       "Estimated completion of line 3:   0%           Elapsed time: 00:00, estimated remaining time: ?"
      ]
     },
     "metadata": {},
     "output_type": "display_data"
    },
    {
     "data": {
      "application/vnd.jupyter.widget-view+json": {
       "model_id": "c7295c901deb46a9bcca93a1b77a02a1",
       "version_major": 2,
       "version_minor": 0
      },
      "text/plain": [
       "Estimated completion of line 4:   0%           Elapsed time: 00:00, estimated remaining time: ?"
      ]
     },
     "metadata": {},
     "output_type": "display_data"
    },
    {
     "data": {
      "application/vnd.jupyter.widget-view+json": {
       "model_id": "81bb2732c27b472d81a4a22c96c18149",
       "version_major": 2,
       "version_minor": 0
      },
      "text/plain": [
       "Estimated completion of line 5:   0%           Elapsed time: 00:00, estimated remaining time: ?"
      ]
     },
     "metadata": {},
     "output_type": "display_data"
    },
    {
     "data": {
      "application/vnd.jupyter.widget-view+json": {
       "model_id": "80679fad68a64da9b1c6fdfccc9be54b",
       "version_major": 2,
       "version_minor": 0
      },
      "text/plain": [
       "Estimated completion of line 6:   0%           Elapsed time: 00:00, estimated remaining time: ?"
      ]
     },
     "metadata": {},
     "output_type": "display_data"
    },
    {
     "data": {
      "application/vnd.jupyter.widget-view+json": {
       "model_id": "7c898f2dd4314ea5a832d06cdcca29e0",
       "version_major": 2,
       "version_minor": 0
      },
      "text/plain": [
       "Estimated completion of line 9:   0%           Elapsed time: 00:00, estimated remaining time: ?"
      ]
     },
     "metadata": {},
     "output_type": "display_data"
    },
    {
     "data": {
      "application/vnd.jupyter.widget-view+json": {
       "model_id": "befe4aa812d84b49ade4a9693b4fe101",
       "version_major": 2,
       "version_minor": 0
      },
      "text/plain": [
       "Estimated completion of line 12:   0%           Elapsed time: 00:00, estimated remaining time: ?"
      ]
     },
     "metadata": {},
     "output_type": "display_data"
    },
    {
     "data": {
      "application/vnd.jupyter.widget-view+json": {
       "model_id": "b2d5d5cd13c9465c8acbaa842918f8a1",
       "version_major": 2,
       "version_minor": 0
      },
      "text/plain": [
       "Estimated completion of line 13:   0%           Elapsed time: 00:00, estimated remaining time: ?"
      ]
     },
     "metadata": {},
     "output_type": "display_data"
    },
    {
     "data": {
      "application/vnd.jupyter.widget-view+json": {
       "model_id": "76a1210c5d344b45a7b2a812f429cfdc",
       "version_major": 2,
       "version_minor": 0
      },
      "text/plain": [
       "Estimated completion of line 14:   0%           Elapsed time: 00:00, estimated remaining time: ?"
      ]
     },
     "metadata": {},
     "output_type": "display_data"
    },
    {
     "data": {
      "application/vnd.jupyter.widget-view+json": {
       "model_id": "dccb96e399f74326b53a1f890f9a54d5",
       "version_major": 2,
       "version_minor": 0
      },
      "text/plain": [
       "Estimated completion of line 18:   0%           Elapsed time: 00:00, estimated remaining time: ?"
      ]
     },
     "metadata": {},
     "output_type": "display_data"
    },
    {
     "data": {
      "application/vnd.jupyter.widget-view+json": {
       "model_id": "9db9d9adc8814bff9fe180f51414e414",
       "version_major": 2,
       "version_minor": 0
      },
      "text/plain": [
       "Estimated completion of line 17:   0%           Elapsed time: 00:00, estimated remaining time: ?"
      ]
     },
     "metadata": {},
     "output_type": "display_data"
    },
    {
     "data": {
      "application/vnd.jupyter.widget-view+json": {
       "model_id": "5390776018b74ae69172d2648456794e",
       "version_major": 2,
       "version_minor": 0
      },
      "text/plain": [
       "Estimated completion of line 20:   0%           Elapsed time: 00:00, estimated remaining time: ?"
      ]
     },
     "metadata": {},
     "output_type": "display_data"
    },
    {
     "name": "stderr",
     "output_type": "stream",
     "text": [
      "UserWarning: Distributing <class 'dict'> object. This may take some time.\n"
     ]
    },
    {
     "data": {
      "application/vnd.jupyter.widget-view+json": {
       "model_id": "76fa339da5594554a7d9a54b7f16c5f3",
       "version_major": 2,
       "version_minor": 0
      },
      "text/plain": [
       "Estimated completion of line 1:   0%           Elapsed time: 00:00, estimated remaining time: ?"
      ]
     },
     "metadata": {},
     "output_type": "display_data"
    }
   ],
   "source": [
    "stats = pd.DataFrame(\n",
    "    {\n",
    "        \"*\": wforms[\"status\"].value_counts(dropna=False),\n",
    "        \"1\": wforms[wforms[\"fst_batch\"]][\"status\"].value_counts(dropna=False),\n",
    "        \"2\": wforms[wforms[\"snd_batch\"]][\"status\"].value_counts(dropna=False),\n",
    "        \"1∪2\": wforms[wforms[\"fst_batch\"] | wforms[\"snd_batch\"]][\"status\"].value_counts(\n",
    "            dropna=False\n",
    "        ),\n",
    "        \"1∩2\": wforms[wforms[\"fst_batch\"] & wforms[\"snd_batch\"]][\"status\"].value_counts(\n",
    "            dropna=False\n",
    "        ),\n",
    "        \"*-a\": wforms[~wforms[\"tt_att\"]][\"status\"].value_counts(dropna=False),\n",
    "        \"1-a\": wforms[wforms[\"fst_batch\"]][\"status\"].value_counts(dropna=False),\n",
    "        \"2-a\": wforms[~wforms[\"tt_att\"] & wforms[\"snd_batch\"]][\"status\"].value_counts(\n",
    "            dropna=False\n",
    "        ),\n",
    "        \"1∪2-a\": wforms[\n",
    "            ~wforms[\"tt_att\"] & (wforms[\"fst_batch\"] | wforms[\"snd_batch\"])\n",
    "        ][\"status\"].value_counts(dropna=False),\n",
    "        \"1∩2-a\": wforms[~wforms[\"tt_att\"] & wforms[\"fst_batch\"] & wforms[\"snd_batch\"]][\n",
    "            \"status\"\n",
    "        ].value_counts(dropna=False),\n",
    "    }\n",
    ")"
   ]
  },
  {
   "cell_type": "code",
   "execution_count": 6,
   "id": "9f362ef4-b3f7-41aa-b3d4-3715be4190e8",
   "metadata": {
    "tags": []
   },
   "outputs": [
    {
     "data": {
      "text/html": [
       "<div>\n",
       "<style scoped>\n",
       "    .dataframe tbody tr th:only-of-type {\n",
       "        vertical-align: middle;\n",
       "    }\n",
       "\n",
       "    .dataframe tbody tr th {\n",
       "        vertical-align: top;\n",
       "    }\n",
       "\n",
       "    .dataframe thead th {\n",
       "        text-align: right;\n",
       "    }\n",
       "</style>\n",
       "<table border=\"1\" class=\"dataframe\">\n",
       "  <thead>\n",
       "    <tr style=\"text-align: right;\">\n",
       "      <th></th>\n",
       "      <th>*</th>\n",
       "      <th>1</th>\n",
       "      <th>2</th>\n",
       "      <th>1∪2</th>\n",
       "      <th>1∩2</th>\n",
       "      <th>*-a</th>\n",
       "      <th>1-a</th>\n",
       "      <th>2-a</th>\n",
       "      <th>1∪2-a</th>\n",
       "      <th>1∩2-a</th>\n",
       "    </tr>\n",
       "    <tr>\n",
       "      <th>status</th>\n",
       "      <th></th>\n",
       "      <th></th>\n",
       "      <th></th>\n",
       "      <th></th>\n",
       "      <th></th>\n",
       "      <th></th>\n",
       "      <th></th>\n",
       "      <th></th>\n",
       "      <th></th>\n",
       "      <th></th>\n",
       "    </tr>\n",
       "  </thead>\n",
       "  <tbody>\n",
       "    <tr>\n",
       "      <th>-inf</th>\n",
       "      <td>249076</td>\n",
       "      <td>2422</td>\n",
       "      <td>2621</td>\n",
       "      <td>4619</td>\n",
       "      <td>424</td>\n",
       "      <td>225673.0</td>\n",
       "      <td>2422</td>\n",
       "      <td>1651.0</td>\n",
       "      <td>3391.0</td>\n",
       "      <td>334.0</td>\n",
       "    </tr>\n",
       "    <tr>\n",
       "      <th>-1.0</th>\n",
       "      <td>7587</td>\n",
       "      <td>2100</td>\n",
       "      <td>5810</td>\n",
       "      <td>7586</td>\n",
       "      <td>324</td>\n",
       "      <td>7587.0</td>\n",
       "      <td>2100</td>\n",
       "      <td>5810.0</td>\n",
       "      <td>7586.0</td>\n",
       "      <td>324.0</td>\n",
       "    </tr>\n",
       "    <tr>\n",
       "      <th>0.0</th>\n",
       "      <td>102</td>\n",
       "      <td>8</td>\n",
       "      <td>95</td>\n",
       "      <td>102</td>\n",
       "      <td>1</td>\n",
       "      <td>102.0</td>\n",
       "      <td>8</td>\n",
       "      <td>95.0</td>\n",
       "      <td>102.0</td>\n",
       "      <td>1.0</td>\n",
       "    </tr>\n",
       "    <tr>\n",
       "      <th>1.0</th>\n",
       "      <td>363</td>\n",
       "      <td>99</td>\n",
       "      <td>281</td>\n",
       "      <td>363</td>\n",
       "      <td>17</td>\n",
       "      <td>363.0</td>\n",
       "      <td>99</td>\n",
       "      <td>281.0</td>\n",
       "      <td>363.0</td>\n",
       "      <td>17.0</td>\n",
       "    </tr>\n",
       "    <tr>\n",
       "      <th>inf</th>\n",
       "      <td>157319</td>\n",
       "      <td>2093</td>\n",
       "      <td>12256</td>\n",
       "      <td>14138</td>\n",
       "      <td>211</td>\n",
       "      <td>NaN</td>\n",
       "      <td>2093</td>\n",
       "      <td>NaN</td>\n",
       "      <td>NaN</td>\n",
       "      <td>NaN</td>\n",
       "    </tr>\n",
       "    <tr>\n",
       "      <th>NaN</th>\n",
       "      <td>511396</td>\n",
       "      <td>15</td>\n",
       "      <td>69</td>\n",
       "      <td>82</td>\n",
       "      <td>2</td>\n",
       "      <td>511396.0</td>\n",
       "      <td>15</td>\n",
       "      <td>69.0</td>\n",
       "      <td>82.0</td>\n",
       "      <td>2.0</td>\n",
       "    </tr>\n",
       "  </tbody>\n",
       "</table>\n",
       "</div>"
      ],
      "text/plain": [
       "             *     1      2    1∪2  1∩2       *-a   1-a     2-a   1∪2-a  1∩2-a\n",
       "status                                                                        \n",
       "-inf    249076  2422   2621   4619  424  225673.0  2422  1651.0  3391.0  334.0\n",
       "-1.0      7587  2100   5810   7586  324    7587.0  2100  5810.0  7586.0  324.0\n",
       " 0.0       102     8     95    102    1     102.0     8    95.0   102.0    1.0\n",
       " 1.0       363    99    281    363   17     363.0    99   281.0   363.0   17.0\n",
       " inf    157319  2093  12256  14138  211       NaN  2093     NaN     NaN    NaN\n",
       " NaN    511396    15     69     82    2  511396.0    15    69.0    82.0    2.0"
      ]
     },
     "execution_count": 6,
     "metadata": {},
     "output_type": "execute_result"
    }
   ],
   "source": [
    "stats"
   ]
  },
  {
   "cell_type": "code",
   "execution_count": null,
   "id": "88eb9d27-93f7-4767-997a-f3ae2177e2ef",
   "metadata": {
    "tags": []
   },
   "outputs": [],
   "source": []
  },
  {
   "cell_type": "code",
   "execution_count": 7,
   "id": "27bf9d07-521d-40fb-a1a6-bc28439399cb",
   "metadata": {
    "tags": []
   },
   "outputs": [
    {
     "data": {
      "application/vnd.jupyter.widget-view+json": {
       "model_id": "787dd9335aff4fd8b39146fefb4732a5",
       "version_major": 2,
       "version_minor": 0
      },
      "text/plain": [
       "Estimated completion of line 1:   0%           Elapsed time: 00:00, estimated remaining time: ?"
      ]
     },
     "metadata": {},
     "output_type": "display_data"
    },
    {
     "data": {
      "application/vnd.jupyter.widget-view+json": {
       "model_id": "0c1284bbe2ec4cf5bd2f7b88d3201763",
       "version_major": 2,
       "version_minor": 0
      },
      "text/plain": [
       "Estimated completion of line 5:   0%           Elapsed time: 00:00, estimated remaining time: ?"
      ]
     },
     "metadata": {},
     "output_type": "display_data"
    },
    {
     "name": "stdout",
     "output_type": "stream",
     "text": [
      "Proper grieves breakout (rho>0.2):\n"
     ]
    },
    {
     "data": {
      "text/plain": [
       "status\n",
       "-inf    1352\n",
       "-1.0    1171\n",
       " 1.0      74\n",
       " 0.0       7\n",
       " NaN       7\n",
       "Name: count, dtype: int64"
      ]
     },
     "metadata": {},
     "output_type": "display_data"
    },
    {
     "name": "stdout",
     "output_type": "stream",
     "text": [
      "Homebrewn breakout:\n"
     ]
    },
    {
     "data": {
      "text/plain": [
       "status\n",
       "-1.0    5810\n",
       "-inf    1651\n",
       " 1.0     281\n",
       " 0.0      95\n",
       " NaN      69\n",
       "Name: count, dtype: int64"
      ]
     },
     "metadata": {},
     "output_type": "display_data"
    }
   ],
   "source": [
    "gri = wforms[(~wforms[\"tt_att\"]) & wforms[\"fst_batch\"] & (wforms[\"rho\"] > 0.2)][\n",
    "    \"status\"\n",
    "].value_counts(dropna=False)\n",
    "\n",
    "bfs = wforms[(~wforms[\"tt_att\"]) & wforms[\"snd_batch\"]][\"status\"].value_counts(\n",
    "    dropna=False\n",
    ")\n",
    "\n",
    "print(\"Proper grieves breakout (rho>0.2):\")\n",
    "display(gri)\n",
    "print(\"Homebrewn breakout:\")\n",
    "display(bfs)"
   ]
  },
  {
   "cell_type": "code",
   "execution_count": 8,
   "id": "b9cd2416-7233-4bd2-8741-c1938cbb5879",
   "metadata": {
    "tags": []
   },
   "outputs": [
    {
     "name": "stdout",
     "output_type": "stream",
     "text": [
      "\n",
      "Yield (current 1)\n",
      "GRI: 5.878%\n",
      "BFS: 4.492%\n",
      "ADV: -24%\n",
      "\n",
      "Yield (current 1+0)\n",
      "GRI: 6.434%\n",
      "BFS: 6.011%\n",
      "ADV: -7%\n",
      "\n",
      "Yield (projected 1)\n",
      "GRI: 5.910%\n",
      "BFS: 4.542%\n",
      "ADV: -23%\n",
      "\n",
      "Yield (projected 1+0)\n",
      "GRI: 6.469%\n",
      "BFS: 6.078%\n",
      "ADV: -6%\n",
      "\n",
      "Yield (projected w/ hashes 1)\n",
      "GRI: 4.309%\n",
      "BFS: 4.328%\n",
      "ADV: 0%\n",
      "\n",
      "Yield (projected w/ hashes 1+0)\n",
      "GRI: 4.717%\n",
      "BFS: 5.791%\n",
      "ADV: 23%\n"
     ]
    }
   ],
   "source": [
    "ProgressBar.disable()\n",
    "\n",
    "print(\"\\nYield (current 1)\")\n",
    "gri_tot = gri.loc[[1, 0, -1, np.nan]].sum()\n",
    "bfs_tot = bfs.loc[[1, 0, -1, np.nan]].sum()\n",
    "gri_yld = gri.loc[1] / gri_tot\n",
    "bfs_yld = bfs.loc[1] / bfs_tot\n",
    "print(\"GRI: {:.3%}\".format(gri_yld))\n",
    "print(\"BFS: {:.3%}\".format(bfs_yld))\n",
    "print(\"ADV: {:.0%}\".format(bfs_yld / gri_yld - 1))\n",
    "\n",
    "print(\"\\nYield (current 1+0)\")\n",
    "gri_tot = gri.loc[[1, 0, -1, np.nan]].sum()\n",
    "bfs_tot = bfs.loc[[1, 0, -1, np.nan]].sum()\n",
    "gri_yld = gri.loc[[1, 0]].sum() / gri_tot\n",
    "bfs_yld = bfs.loc[[1, 0]].sum() / bfs_tot\n",
    "print(\"GRI: {:.3%}\".format(gri_yld))\n",
    "print(\"BFS: {:.3%}\".format(bfs_yld))\n",
    "print(\"ADV: {:.0%}\".format(bfs_yld / gri_yld - 1))\n",
    "\n",
    "print(\"\\nYield (projected 1)\")\n",
    "gri_tot = gri.loc[[1, 0, -1, np.nan]].sum()\n",
    "bfs_tot = bfs.loc[[1, 0, -1, np.nan]].sum()\n",
    "gri_yld = gri.loc[1] / gri_tot * (1 + gri.loc[np.nan] / gri_tot)\n",
    "bfs_yld = bfs.loc[1] / bfs_tot * (1 + bfs.loc[np.nan] / bfs_tot)\n",
    "print(\"GRI: {:.3%}\".format(gri_yld))\n",
    "print(\"BFS: {:.3%}\".format(bfs_yld))\n",
    "print(\"ADV: {:.0%}\".format(bfs_yld / gri_yld - 1))\n",
    "\n",
    "print(\"\\nYield (projected 1+0)\")\n",
    "gri_tot = gri.loc[[1, 0, -1, np.nan]].sum()\n",
    "bfs_tot = bfs.loc[[1, 0, -1, np.nan]].sum()\n",
    "gri_yld = gri.loc[[1, 0]].sum() / gri_tot * (1 + gri.loc[np.nan] / gri_tot)\n",
    "bfs_yld = bfs.loc[[1, 0]].sum() / bfs_tot * (1 + bfs.loc[np.nan] / bfs_tot)\n",
    "print(\"GRI: {:.3%}\".format(gri_yld))\n",
    "print(\"BFS: {:.3%}\".format(bfs_yld))\n",
    "print(\"ADV: {:.0%}\".format(bfs_yld / gri_yld - 1))\n",
    "\n",
    "print(\"\\nYield (projected w/ hashes 1)\")\n",
    "gri_tot = gri.loc[[1, 0, -1, np.nan, -np.inf]].sum()\n",
    "bfs_tot = bfs.loc[[1, 0, -1, np.nan, -np.inf]].sum()\n",
    "gri_yld = gri.loc[1] / gri_tot * (1 + gri.loc[[np.nan, -np.inf]].sum() / gri_tot)\n",
    "bfs_yld = bfs.loc[1] / bfs_tot * (1 + bfs.loc[[np.nan, -np.inf]].sum() / bfs_tot)\n",
    "print(\"GRI: {:.3%}\".format(gri_yld))\n",
    "print(\"BFS: {:.3%}\".format(bfs_yld))\n",
    "print(\"ADV: {:.0%}\".format(bfs_yld / gri_yld - 1))\n",
    "\n",
    "print(\"\\nYield (projected w/ hashes 1+0)\")\n",
    "gri_tot = gri.loc[[1, 0, -1, np.nan, -np.inf]].sum()\n",
    "bfs_tot = bfs.loc[[1, 0, -1, np.nan, -np.inf]].sum()\n",
    "gri_yld = (\n",
    "    gri.loc[[1, 0]].sum() / gri_tot * (1 + gri.loc[[np.nan, -np.inf]].sum() / gri_tot)\n",
    ")\n",
    "bfs_yld = (\n",
    "    bfs.loc[[1, 0]].sum() / bfs_tot * (1 + bfs.loc[[np.nan, -np.inf]].sum() / bfs_tot)\n",
    ")\n",
    "print(\"GRI: {:.3%}\".format(gri_yld))\n",
    "print(\"BFS: {:.3%}\".format(bfs_yld))\n",
    "print(\"ADV: {:.0%}\".format(bfs_yld / gri_yld - 1))\n",
    "\n",
    "\n",
    "ProgressBar.enable()"
   ]
  },
  {
   "cell_type": "code",
   "execution_count": 9,
   "id": "4d605120-deff-40c9-8919-5428918db7e4",
   "metadata": {
    "tags": []
   },
   "outputs": [],
   "source": [
    "%%script false --no-raise-error\n",
    "\n",
    "\n",
    "fig, ax = plt.subplots(3, 2, figsize=(10, 10))\n",
    "\n",
    "fst_hashfull = wforms[(~wforms[\"tt_att\"]) & wforms[\"fst_batch\"]][\"status\"].value_counts(\n",
    "    dropna=False, normalize=True\n",
    ")\n",
    "snd_hashfull = wforms[(~wforms[\"tt_att\"]) & wforms[\"snd_batch\"]][\"status\"].value_counts(\n",
    "    dropna=False, normalize=True\n",
    ")\n",
    "fst_hashless = wforms[\n",
    "    (~wforms[\"tt_att\"]) & wforms[\"fst_batch\"] & ~wforms.index.str.startswith(\"#\")\n",
    "][\"status\"].value_counts(dropna=False, normalize=True)\n",
    "snd_hashless = wforms[\n",
    "    (~wforms[\"tt_att\"]) & wforms[\"snd_batch\"] & ~wforms.index.str.startswith(\"#\")\n",
    "][\"status\"].value_counts(dropna=False, normalize=True)\n",
    "\n",
    "fst_hashfull.loc[[+1, 0, -1, -100, np.nan]].plot(\n",
    "    kind=\"pie\", autopct=\"%.3f%%\", ax=ax[0][0], title=\"fst (w/ #)\"\n",
    ")\n",
    "\n",
    "\n",
    "snd_hashfull.loc[[+1, 0, -1, -100, np.nan]].plot(\n",
    "    kind=\"pie\", autopct=\"%.3f%%\", ax=ax[0][1], title=\"snd (w/ #)\"\n",
    ")\n",
    "\n",
    "\n",
    "fst_hashless.loc[[+1, 0, -1, np.nan]].plot(\n",
    "    kind=\"pie\", autopct=\"%.3f%%\", ax=ax[1][0], title=\"fst (w/o #)\"\n",
    ")\n",
    "\n",
    "snd_hashless.loc[[+1, 0, -1, np.nan]].plot(\n",
    "    kind=\"pie\", autopct=\"%.3f%%\", ax=ax[1][1], title=\"snd (w/o #)\"\n",
    ")\n",
    "\n",
    "\n",
    "(\n",
    "    pd.Series(\n",
    "        wforms[(~wforms[\"tt_att\"]) & wforms[\"fst_batch\"]].index.str.startswith(\"#\")\n",
    "    )\n",
    "    .value_counts()\n",
    "    .plot(kind=\"pie\", autopct=\"%.3f%%\", ax=ax[2][0], title=\"fst (# count)\")\n",
    ")\n",
    "\n",
    "(\n",
    "    pd.Series(\n",
    "        wforms[(~wforms[\"tt_att\"]) & wforms[\"snd_batch\"]].index.str.startswith(\"#\")\n",
    "    )\n",
    "    .value_counts()\n",
    "    .plot(kind=\"pie\", autopct=\"%.3f%%\", ax=ax[2][1], title=\"snd (# count)\")\n",
    ")\n",
    "\n",
    "plt.tight_layout()\n",
    "plt.show()"
   ]
  },
  {
   "cell_type": "code",
   "execution_count": 10,
   "id": "9b468a66-a047-41b4-8e4d-e59d7f5ae8fb",
   "metadata": {
    "tags": []
   },
   "outputs": [
    {
     "data": {
      "application/vnd.jupyter.widget-view+json": {
       "model_id": "a0432dd9c8e14913bedbd025dcb282fe",
       "version_major": 2,
       "version_minor": 0
      },
      "text/plain": [
       "Estimated completion of line 2:   0%           Elapsed time: 00:00, estimated remaining time: ?"
      ]
     },
     "metadata": {},
     "output_type": "display_data"
    },
    {
     "data": {
      "application/vnd.jupyter.widget-view+json": {
       "model_id": "04f016abe4564c3796c9cbd59d9f9b42",
       "version_major": 2,
       "version_minor": 0
      },
      "text/plain": [
       "Estimated completion of line 3:   0%           Elapsed time: 00:00, estimated remaining time: ?"
      ]
     },
     "metadata": {},
     "output_type": "display_data"
    },
    {
     "data": {
      "application/vnd.jupyter.widget-view+json": {
       "model_id": "267a9bf8150d4aca922662865217eb05",
       "version_major": 2,
       "version_minor": 0
      },
      "text/plain": [
       "Estimated completion of line 4:   0%           Elapsed time: 00:00, estimated remaining time: ?"
      ]
     },
     "metadata": {},
     "output_type": "display_data"
    },
    {
     "data": {
      "application/vnd.jupyter.widget-view+json": {
       "model_id": "44981c70740b4ba3b9096fc4ac516265",
       "version_major": 2,
       "version_minor": 0
      },
      "text/plain": [
       "Estimated completion of line 5:   0%           Elapsed time: 00:00, estimated remaining time: ?"
      ]
     },
     "metadata": {},
     "output_type": "display_data"
    },
    {
     "data": {
      "application/vnd.jupyter.widget-view+json": {
       "model_id": "96f9dd2893024447b0f70a306f9b74d2",
       "version_major": 2,
       "version_minor": 0
      },
      "text/plain": [
       "Estimated completion of line 8:   0%           Elapsed time: 00:00, estimated remaining time: ?"
      ]
     },
     "metadata": {},
     "output_type": "display_data"
    },
    {
     "name": "stdout",
     "output_type": "stream",
     "text": [
      "ρ_o > +0.2 : 4090\n"
     ]
    },
    {
     "data": {
      "application/vnd.jupyter.widget-view+json": {
       "model_id": "733946b8c9bd46de943b7822a6a4ce4e",
       "version_major": 2,
       "version_minor": 0
      },
      "text/plain": [
       "Estimated completion of line 9:   0%           Elapsed time: 00:00, estimated remaining time: ?"
      ]
     },
     "metadata": {},
     "output_type": "display_data"
    },
    {
     "name": "stdout",
     "output_type": "stream",
     "text": [
      "ρ_o < -0.2 : 2336\n"
     ]
    },
    {
     "data": {
      "application/vnd.jupyter.widget-view+json": {
       "model_id": "688c347a52b44261a1c8db47a73364a6",
       "version_major": 2,
       "version_minor": 0
      },
      "text/plain": [
       "Estimated completion of line 11:   0%           Elapsed time: 00:00, estimated remaining time: ?"
      ]
     },
     "metadata": {},
     "output_type": "display_data"
    },
    {
     "name": "stdout",
     "output_type": "stream",
     "text": [
      " 311\n"
     ]
    }
   ],
   "source": [
    "wforms = (\n",
    "    pd.read_parquet(\"wforms-bat.parquet\")\n",
    "    .join(pd.read_parquet(\"wforms-ann.parquet\"), how=\"left\")\n",
    "    .join(pd.read_parquet(\"wforms-occ.parquet\", columns=[\"rho\"]).add_suffix(\"_occ\"), how=\"left\")\n",
    "    .join(pd.read_parquet(\"wforms-usr.parquet\", columns=[\"rho\"]).add_suffix(\"_usr\"), how=\"left\")\n",
    ")\n",
    "\n",
    "print(\"ρ_o > +0.2 :\", ( wforms[\"rho_occ\"] > +0.2 ).sum() )\n",
    "print(\"ρ_o < -0.2 :\", ( wforms[\"rho_occ\"] < -0.2 ).sum() )\n",
    "\n",
    "print(\"\", ( ~(abs(wforms[\"rho_occ\"])>0.2) & (abs(wforms[\"rho_usr\"])>0.2) ).sum() )\n"
   ]
  },
  {
   "cell_type": "code",
   "execution_count": 11,
   "id": "e376309e-4eba-4939-bc49-8d3f0eeba971",
   "metadata": {
    "tags": []
   },
   "outputs": [
    {
     "data": {
      "application/vnd.jupyter.widget-view+json": {
       "model_id": "cac008935305441396730dedaef81084",
       "version_major": 2,
       "version_minor": 0
      },
      "text/plain": [
       "Estimated completion of line 1:   0%           Elapsed time: 00:00, estimated remaining time: ?"
      ]
     },
     "metadata": {},
     "output_type": "display_data"
    },
    {
     "data": {
      "application/vnd.jupyter.widget-view+json": {
       "model_id": "4ee7c1c2b96e493190e38156b649b952",
       "version_major": 2,
       "version_minor": 0
      },
      "text/plain": [
       "Estimated completion of line 2:   0%           Elapsed time: 00:00, estimated remaining time: ?"
      ]
     },
     "metadata": {},
     "output_type": "display_data"
    },
    {
     "data": {
      "application/vnd.jupyter.widget-view+json": {
       "model_id": "a347a150d3514a7a9bdbfcba7df92046",
       "version_major": 2,
       "version_minor": 0
      },
      "text/plain": [
       "Estimated completion of line 3:   0%           Elapsed time: 00:00, estimated remaining time: ?"
      ]
     },
     "metadata": {},
     "output_type": "display_data"
    }
   ],
   "source": [
    "annos = pd.read_parquet(\"wforms-ann.parquet\")\n",
    "pars = annos.join(pd.read_parquet(\"wforms-bat.parquet\"), how=\"left\").join(\n",
    "    pd.read_parquet(\n",
    "        \"wforms-occ.parquet\", columns=[\"fst\", \"lst\", \"top\", \"cvx\", \"rho\", \"tot\"]\n",
    "    ),\n",
    "    how=\"left\",\n",
    ")"
   ]
  },
  {
   "cell_type": "code",
   "execution_count": 12,
   "id": "9867b407-24d3-435f-a357-deca76dbc432",
   "metadata": {
    "tags": []
   },
   "outputs": [
    {
     "name": "stderr",
     "output_type": "stream",
     "text": [
      "UserWarning: Distributing <class 'numpy.ndarray'> object. This may take some time.\n"
     ]
    },
    {
     "data": {
      "application/vnd.jupyter.widget-view+json": {
       "model_id": "9c4694e2219f489ea2b35b2126f437b5",
       "version_major": 2,
       "version_minor": 0
      },
      "text/plain": [
       "Distributing Dataframe:   0%           Elapsed time: 00:00, estimated remaining time: ?"
      ]
     },
     "metadata": {},
     "output_type": "display_data"
    },
    {
     "name": "stderr",
     "output_type": "stream",
     "text": [
      "UserWarning: Distributing <class 'numpy.ndarray'> object. This may take some time.\n"
     ]
    },
    {
     "data": {
      "application/vnd.jupyter.widget-view+json": {
       "model_id": "2c4662afcade42078f0dad63816c0166",
       "version_major": 2,
       "version_minor": 0
      },
      "text/plain": [
       "Distributing Dataframe:   0%           Elapsed time: 00:00, estimated remaining time: ?"
      ]
     },
     "metadata": {},
     "output_type": "display_data"
    },
    {
     "data": {
      "application/vnd.jupyter.widget-view+json": {
       "model_id": "4c118f9cb33942999d1935fc24a5eb03",
       "version_major": 2,
       "version_minor": 0
      },
      "text/plain": [
       "Estimated completion of line 4:   0%           Elapsed time: 00:00, estimated remaining time: ?"
      ]
     },
     "metadata": {},
     "output_type": "display_data"
    },
    {
     "data": {
      "application/vnd.jupyter.widget-view+json": {
       "model_id": "73d604279289482fbc5293a51d6b6a80",
       "version_major": 2,
       "version_minor": 0
      },
      "text/plain": [
       "Estimated completion of line 5:   0%           Elapsed time: 00:00, estimated remaining time: ?"
      ]
     },
     "metadata": {},
     "output_type": "display_data"
    },
    {
     "data": {
      "application/vnd.jupyter.widget-view+json": {
       "model_id": "7980cfe395234ec0a8ea29cd3d4d6451",
       "version_major": 2,
       "version_minor": 0
      },
      "text/plain": [
       "Estimated completion of line 13:   0%           Elapsed time: 00:00, estimated remaining time: ?"
      ]
     },
     "metadata": {},
     "output_type": "display_data"
    },
    {
     "name": "stdout",
     "output_type": "stream",
     "text": [
      "\u001b[2m\u001b[1m\u001b[36m(autoscaler +2m42s)\u001b[0m Tip: use `ray status` to view detailed cluster status. To disable these messages, set RAY_SCHEDULER_EVENTS=0.\n",
      "\u001b[2m\u001b[1m\u001b[33m(autoscaler +2m42s)\u001b[0m Warning: The following resource request cannot be scheduled right now: {'CPU': 1.0}. This is likely due to all cluster resources being claimed by actors. Consider creating fewer actors or adding more nodes to this Ray cluster.\n",
      "\u001b[2m\u001b[1m\u001b[33m(autoscaler +3m22s)\u001b[0m Warning: The following resource request cannot be scheduled right now: {'CPU': 1.0}. This is likely due to all cluster resources being claimed by actors. Consider creating fewer actors or adding more nodes to this Ray cluster.\n",
      "\u001b[2m\u001b[1m\u001b[33m(autoscaler +4m3s)\u001b[0m Warning: The following resource request cannot be scheduled right now: {'CPU': 1.0}. This is likely due to all cluster resources being claimed by actors. Consider creating fewer actors or adding more nodes to this Ray cluster.\n",
      "\u001b[2m\u001b[1m\u001b[33m(autoscaler +4m43s)\u001b[0m Warning: The following resource request cannot be scheduled right now: {'CPU': 1.0}. This is likely due to all cluster resources being claimed by actors. Consider creating fewer actors or adding more nodes to this Ray cluster.\n",
      "\u001b[2m\u001b[1m\u001b[33m(autoscaler +5m23s)\u001b[0m Warning: The following resource request cannot be scheduled right now: {'CPU': 1.0}. This is likely due to all cluster resources being claimed by actors. Consider creating fewer actors or adding more nodes to this Ray cluster.\n"
     ]
    },
    {
     "name": "stderr",
     "output_type": "stream",
     "text": [
      "2023-07-27 23:38:58,774\tWARNING worker.py:2019 -- WARNING: 112 PYTHON worker processes have been started on node: b6d7748d663c456ac54eba90f0c0a7c6a2a6e90b49d3e99f444a6270 with address: 10.7.19.141. This could be a result of using a large number of actors, or due to tasks blocked in ray.get() calls (see https://github.com/ray-project/ray/issues/3644 for some discussion of workarounds).\n"
     ]
    },
    {
     "name": "stdout",
     "output_type": "stream",
     "text": [
      "\u001b[2m\u001b[1m\u001b[33m(autoscaler +6m3s)\u001b[0m Warning: The following resource request cannot be scheduled right now: {'CPU': 1.0}. This is likely due to all cluster resources being claimed by actors. Consider creating fewer actors or adding more nodes to this Ray cluster.\n",
      "\u001b[2m\u001b[1m\u001b[33m(autoscaler +6m43s)\u001b[0m Warning: The following resource request cannot be scheduled right now: {'CPU': 1.0}. This is likely due to all cluster resources being claimed by actors. Consider creating fewer actors or adding more nodes to this Ray cluster.\n",
      "\u001b[2m\u001b[1m\u001b[33m(autoscaler +7m23s)\u001b[0m Warning: The following resource request cannot be scheduled right now: {'CPU': 1.0}. This is likely due to all cluster resources being claimed by actors. Consider creating fewer actors or adding more nodes to this Ray cluster.\n",
      "\u001b[2m\u001b[1m\u001b[33m(autoscaler +8m4s)\u001b[0m Warning: The following resource request cannot be scheduled right now: {'CPU': 1.0}. This is likely due to all cluster resources being claimed by actors. Consider creating fewer actors or adding more nodes to this Ray cluster.\n"
     ]
    },
    {
     "name": "stderr",
     "output_type": "stream",
     "text": [
      "2023-07-27 23:41:19,435\tWARNING worker.py:2019 -- WARNING: 140 PYTHON worker processes have been started on node: b6d7748d663c456ac54eba90f0c0a7c6a2a6e90b49d3e99f444a6270 with address: 10.7.19.141. This could be a result of using a large number of actors, or due to tasks blocked in ray.get() calls (see https://github.com/ray-project/ray/issues/3644 for some discussion of workarounds).\n"
     ]
    },
    {
     "name": "stdout",
     "output_type": "stream",
     "text": [
      "\u001b[2m\u001b[1m\u001b[33m(autoscaler +8m44s)\u001b[0m Warning: The following resource request cannot be scheduled right now: {'CPU': 1.0}. This is likely due to all cluster resources being claimed by actors. Consider creating fewer actors or adding more nodes to this Ray cluster.\n",
      "\u001b[2m\u001b[1m\u001b[33m(autoscaler +9m24s)\u001b[0m Warning: The following resource request cannot be scheduled right now: {'CPU': 1.0}. This is likely due to all cluster resources being claimed by actors. Consider creating fewer actors or adding more nodes to this Ray cluster.\n"
     ]
    },
    {
     "name": "stderr",
     "output_type": "stream",
     "text": [
      "2023-07-27 23:42:41,993\tWARNING worker.py:2019 -- WARNING: 174 PYTHON worker processes have been started on node: b6d7748d663c456ac54eba90f0c0a7c6a2a6e90b49d3e99f444a6270 with address: 10.7.19.141. This could be a result of using a large number of actors, or due to tasks blocked in ray.get() calls (see https://github.com/ray-project/ray/issues/3644 for some discussion of workarounds).\n"
     ]
    },
    {
     "name": "stdout",
     "output_type": "stream",
     "text": [
      "\u001b[2m\u001b[1m\u001b[33m(autoscaler +10m4s)\u001b[0m Warning: The following resource request cannot be scheduled right now: {'CPU': 1.0}. This is likely due to all cluster resources being claimed by actors. Consider creating fewer actors or adding more nodes to this Ray cluster.\n",
      "\u001b[2m\u001b[1m\u001b[33m(autoscaler +10m44s)\u001b[0m Warning: The following resource request cannot be scheduled right now: {'CPU': 1.0}. This is likely due to all cluster resources being claimed by actors. Consider creating fewer actors or adding more nodes to this Ray cluster.\n"
     ]
    },
    {
     "name": "stderr",
     "output_type": "stream",
     "text": [
      "2023-07-27 23:44:06,881\tWARNING worker.py:2019 -- WARNING: 196 PYTHON worker processes have been started on node: b6d7748d663c456ac54eba90f0c0a7c6a2a6e90b49d3e99f444a6270 with address: 10.7.19.141. This could be a result of using a large number of actors, or due to tasks blocked in ray.get() calls (see https://github.com/ray-project/ray/issues/3644 for some discussion of workarounds).\n"
     ]
    },
    {
     "name": "stdout",
     "output_type": "stream",
     "text": [
      "\u001b[2m\u001b[1m\u001b[33m(autoscaler +11m25s)\u001b[0m Warning: The following resource request cannot be scheduled right now: {'CPU': 1.0}. This is likely due to all cluster resources being claimed by actors. Consider creating fewer actors or adding more nodes to this Ray cluster.\n",
      "\u001b[2m\u001b[1m\u001b[33m(autoscaler +12m5s)\u001b[0m Warning: The following resource request cannot be scheduled right now: {'CPU': 1.0}. This is likely due to all cluster resources being claimed by actors. Consider creating fewer actors or adding more nodes to this Ray cluster.\n",
      "\u001b[2m\u001b[1m\u001b[33m(autoscaler +12m45s)\u001b[0m Warning: The following resource request cannot be scheduled right now: {'CPU': 1.0}. This is likely due to all cluster resources being claimed by actors. Consider creating fewer actors or adding more nodes to this Ray cluster.\n"
     ]
    },
    {
     "name": "stderr",
     "output_type": "stream",
     "text": [
      "2023-07-27 23:46:27,680\tWARNING worker.py:2019 -- WARNING: 224 PYTHON worker processes have been started on node: b6d7748d663c456ac54eba90f0c0a7c6a2a6e90b49d3e99f444a6270 with address: 10.7.19.141. This could be a result of using a large number of actors, or due to tasks blocked in ray.get() calls (see https://github.com/ray-project/ray/issues/3644 for some discussion of workarounds).\n"
     ]
    },
    {
     "name": "stdout",
     "output_type": "stream",
     "text": [
      "\u001b[2m\u001b[1m\u001b[33m(autoscaler +13m25s)\u001b[0m Warning: The following resource request cannot be scheduled right now: {'CPU': 1.0}. This is likely due to all cluster resources being claimed by actors. Consider creating fewer actors or adding more nodes to this Ray cluster.\n",
      "\u001b[2m\u001b[1m\u001b[33m(autoscaler +14m5s)\u001b[0m Warning: The following resource request cannot be scheduled right now: {'CPU': 1.0}. This is likely due to all cluster resources being claimed by actors. Consider creating fewer actors or adding more nodes to this Ray cluster.\n",
      "\u001b[2m\u001b[1m\u001b[33m(autoscaler +14m45s)\u001b[0m Warning: The following resource request cannot be scheduled right now: {'CPU': 1.0}. This is likely due to all cluster resources being claimed by actors. Consider creating fewer actors or adding more nodes to this Ray cluster.\n",
      "\u001b[2m\u001b[1m\u001b[33m(autoscaler +15m26s)\u001b[0m Warning: The following resource request cannot be scheduled right now: {'CPU': 1.0}. This is likely due to all cluster resources being claimed by actors. Consider creating fewer actors or adding more nodes to this Ray cluster.\n"
     ]
    },
    {
     "name": "stderr",
     "output_type": "stream",
     "text": [
      "2023-07-27 23:48:48,428\tWARNING worker.py:2019 -- WARNING: 252 PYTHON worker processes have been started on node: b6d7748d663c456ac54eba90f0c0a7c6a2a6e90b49d3e99f444a6270 with address: 10.7.19.141. This could be a result of using a large number of actors, or due to tasks blocked in ray.get() calls (see https://github.com/ray-project/ray/issues/3644 for some discussion of workarounds).\n"
     ]
    },
    {
     "name": "stdout",
     "output_type": "stream",
     "text": [
      "\u001b[2m\u001b[1m\u001b[33m(autoscaler +16m6s)\u001b[0m Warning: The following resource request cannot be scheduled right now: {'CPU': 1.0}. This is likely due to all cluster resources being claimed by actors. Consider creating fewer actors or adding more nodes to this Ray cluster.\n",
      "\u001b[2m\u001b[1m\u001b[33m(autoscaler +16m46s)\u001b[0m Warning: The following resource request cannot be scheduled right now: {'CPU': 1.0}. This is likely due to all cluster resources being claimed by actors. Consider creating fewer actors or adding more nodes to this Ray cluster.\n",
      "\u001b[2m\u001b[1m\u001b[33m(autoscaler +17m26s)\u001b[0m Warning: The following resource request cannot be scheduled right now: {'CPU': 1.0}. This is likely due to all cluster resources being claimed by actors. Consider creating fewer actors or adding more nodes to this Ray cluster.\n"
     ]
    },
    {
     "name": "stderr",
     "output_type": "stream",
     "text": [
      "2023-07-27 23:51:09,072\tWARNING worker.py:2019 -- WARNING: 280 PYTHON worker processes have been started on node: b6d7748d663c456ac54eba90f0c0a7c6a2a6e90b49d3e99f444a6270 with address: 10.7.19.141. This could be a result of using a large number of actors, or due to tasks blocked in ray.get() calls (see https://github.com/ray-project/ray/issues/3644 for some discussion of workarounds).\n"
     ]
    },
    {
     "name": "stdout",
     "output_type": "stream",
     "text": [
      "\u001b[2m\u001b[1m\u001b[33m(autoscaler +18m6s)\u001b[0m Warning: The following resource request cannot be scheduled right now: {'CPU': 1.0}. This is likely due to all cluster resources being claimed by actors. Consider creating fewer actors or adding more nodes to this Ray cluster.\n"
     ]
    },
    {
     "name": "stderr",
     "output_type": "stream",
     "text": [
      "2023-07-27 23:51:38,160\tWARNING worker.py:2019 -- WARNING: 308 PYTHON worker processes have been started on node: b6d7748d663c456ac54eba90f0c0a7c6a2a6e90b49d3e99f444a6270 with address: 10.7.19.141. This could be a result of using a large number of actors, or due to tasks blocked in ray.get() calls (see https://github.com/ray-project/ray/issues/3644 for some discussion of workarounds).\n",
      "2023-07-27 23:53:57,001\tWARNING worker.py:2019 -- WARNING: 336 PYTHON worker processes have been started on node: b6d7748d663c456ac54eba90f0c0a7c6a2a6e90b49d3e99f444a6270 with address: 10.7.19.141. This could be a result of using a large number of actors, or due to tasks blocked in ray.get() calls (see https://github.com/ray-project/ray/issues/3644 for some discussion of workarounds).\n"
     ]
    },
    {
     "name": "stdout",
     "output_type": "stream",
     "text": [
      "\u001b[2m\u001b[1m\u001b[33m(autoscaler +22m52s)\u001b[0m Warning: The following resource request cannot be scheduled right now: {'CPU': 1.0}. This is likely due to all cluster resources being claimed by actors. Consider creating fewer actors or adding more nodes to this Ray cluster.\n"
     ]
    },
    {
     "name": "stderr",
     "output_type": "stream",
     "text": [
      "2023-07-27 23:56:17,894\tWARNING worker.py:2019 -- WARNING: 364 PYTHON worker processes have been started on node: b6d7748d663c456ac54eba90f0c0a7c6a2a6e90b49d3e99f444a6270 with address: 10.7.19.141. This could be a result of using a large number of actors, or due to tasks blocked in ray.get() calls (see https://github.com/ray-project/ray/issues/3644 for some discussion of workarounds).\n"
     ]
    },
    {
     "name": "stdout",
     "output_type": "stream",
     "text": [
      "\u001b[2m\u001b[1m\u001b[33m(autoscaler +23m32s)\u001b[0m Warning: The following resource request cannot be scheduled right now: {'CPU': 1.0}. This is likely due to all cluster resources being claimed by actors. Consider creating fewer actors or adding more nodes to this Ray cluster.\n"
     ]
    },
    {
     "name": "stderr",
     "output_type": "stream",
     "text": [
      "2023-07-27 23:57:38,396\tWARNING worker.py:2019 -- WARNING: 434 PYTHON worker processes have been started on node: b6d7748d663c456ac54eba90f0c0a7c6a2a6e90b49d3e99f444a6270 with address: 10.7.19.141. This could be a result of using a large number of actors, or due to tasks blocked in ray.get() calls (see https://github.com/ray-project/ray/issues/3644 for some discussion of workarounds).\n",
      "*** SIGTERM received at time=1690506905 on cpu 24 ***\n",
      "PC: @     0x7f3a97e2300c  (unknown)  _PyEval_EvalFrameDefault\n",
      "    @     0x7f3a97bc0520  (unknown)  (unknown)\n",
      "    @ ... and at least 96 more frames\n",
      "[2023-07-28 01:15:05,570 E 681304 681304] logging.cc:361: *** SIGTERM received at time=1690506905 on cpu 24 ***\n",
      "[2023-07-28 01:15:05,570 E 681304 681304] logging.cc:361: PC: @     0x7f3a97e2300c  (unknown)  _PyEval_EvalFrameDefault\n",
      "[2023-07-28 01:15:05,570 E 681304 681304] logging.cc:361:     @     0x7f3a97bc0520  (unknown)  (unknown)\n",
      "[2023-07-28 01:15:05,570 E 681304 681304] logging.cc:361:     @ ... and at least 96 more frames\n"
     ]
    },
    {
     "ename": "SystemExit",
     "evalue": "15",
     "output_type": "error",
     "traceback": [
      "\u001b[0;31m---------------------------------------------------------------------------\u001b[0m",
      "\u001b[0;31mKeyboardInterrupt\u001b[0m                         Traceback (most recent call last)",
      "    \u001b[0;31m[... skipping hidden 1 frame]\u001b[0m\n",
      "Cell \u001b[0;32mIn[12], line 13\u001b[0m\n\u001b[1;32m      9\u001b[0m ax2 \u001b[38;5;241m=\u001b[39m ax1\u001b[38;5;241m.\u001b[39mtwinx()\n\u001b[1;32m     11\u001b[0m ax1\u001b[38;5;241m.\u001b[39mplot(\n\u001b[1;32m     12\u001b[0m     rho_thresholdsp,\n\u001b[0;32m---> 13\u001b[0m     \u001b[43mrho_thresholdsp\u001b[49m\u001b[38;5;241;43m.\u001b[39;49m\u001b[43mapply\u001b[49m\u001b[43m(\u001b[49m\u001b[38;5;28;43;01mlambda\u001b[39;49;00m\u001b[43m \u001b[49m\u001b[43mt\u001b[49m\u001b[43m:\u001b[49m\u001b[43m \u001b[49m\u001b[43m(\u001b[49m\u001b[43mtestp\u001b[49m\u001b[43m[\u001b[49m\u001b[38;5;124;43m\"\u001b[39;49m\u001b[38;5;124;43mrho\u001b[39;49m\u001b[38;5;124;43m\"\u001b[39;49m\u001b[43m]\u001b[49m\u001b[43m \u001b[49m\u001b[38;5;241;43m>\u001b[39;49m\u001b[38;5;241;43m=\u001b[39;49m\u001b[43m \u001b[49m\u001b[43mt\u001b[49m\u001b[43m)\u001b[49m\u001b[38;5;241;43m.\u001b[39;49m\u001b[43msum\u001b[49m\u001b[43m(\u001b[49m\u001b[43m)\u001b[49m\u001b[43m)\u001b[49m,\n\u001b[1;32m     14\u001b[0m     color\u001b[38;5;241m=\u001b[39m\u001b[38;5;124m\"\u001b[39m\u001b[38;5;124mred\u001b[39m\u001b[38;5;124m\"\u001b[39m,\n\u001b[1;32m     15\u001b[0m )\n\u001b[1;32m     17\u001b[0m ax2\u001b[38;5;241m.\u001b[39mplot(\n\u001b[1;32m     18\u001b[0m     rho_thresholdsp,\n\u001b[1;32m     19\u001b[0m     rho_thresholdsp\u001b[38;5;241m.\u001b[39mapply(\n\u001b[1;32m     20\u001b[0m         \u001b[38;5;28;01mlambda\u001b[39;00m t: ((testp[\u001b[38;5;124m\"\u001b[39m\u001b[38;5;124mrho\u001b[39m\u001b[38;5;124m\"\u001b[39m] \u001b[38;5;241m>\u001b[39m\u001b[38;5;241m=\u001b[39m t) \u001b[38;5;241m&\u001b[39m testp[\u001b[38;5;124m\"\u001b[39m\u001b[38;5;124mstatus\u001b[39m\u001b[38;5;124m\"\u001b[39m]\u001b[38;5;241m.\u001b[39meq(\u001b[38;5;241m1\u001b[39m))\u001b[38;5;241m.\u001b[39mmean()\n\u001b[1;32m     21\u001b[0m     ),  \u001b[38;5;66;03m# /rho_thresholdsp.apply(lambda t: (testp[\"rho\"] >= t).sum()),\u001b[39;00m\n\u001b[1;32m     22\u001b[0m )\n",
      "File \u001b[0;32m~/jupyter/lib/python3.10/site-packages/modin/logging/logger_decorator.py:128\u001b[0m, in \u001b[0;36menable_logging.<locals>.decorator.<locals>.run_and_log\u001b[0;34m(*args, **kwargs)\u001b[0m\n\u001b[1;32m    127\u001b[0m \u001b[38;5;28;01mif\u001b[39;00m LogMode\u001b[38;5;241m.\u001b[39mget() \u001b[38;5;241m==\u001b[39m \u001b[38;5;124m\"\u001b[39m\u001b[38;5;124mdisable\u001b[39m\u001b[38;5;124m\"\u001b[39m:\n\u001b[0;32m--> 128\u001b[0m     \u001b[38;5;28;01mreturn\u001b[39;00m \u001b[43mobj\u001b[49m\u001b[43m(\u001b[49m\u001b[38;5;241;43m*\u001b[39;49m\u001b[43margs\u001b[49m\u001b[43m,\u001b[49m\u001b[43m \u001b[49m\u001b[38;5;241;43m*\u001b[39;49m\u001b[38;5;241;43m*\u001b[39;49m\u001b[43mkwargs\u001b[49m\u001b[43m)\u001b[49m\n\u001b[1;32m    130\u001b[0m logger \u001b[38;5;241m=\u001b[39m get_logger()\n",
      "File \u001b[0;32m~/jupyter/lib/python3.10/site-packages/modin/pandas/series.py:589\u001b[0m, in \u001b[0;36mSeries.apply\u001b[0;34m(self, func, convert_dtype, args, **kwargs)\u001b[0m\n\u001b[1;32m    587\u001b[0m \u001b[38;5;28;01mtry\u001b[39;00m:\n\u001b[1;32m    588\u001b[0m     return_type \u001b[38;5;241m=\u001b[39m \u001b[38;5;28mtype\u001b[39m(\n\u001b[0;32m--> 589\u001b[0m         \u001b[38;5;28;43mgetattr\u001b[39;49m\u001b[43m(\u001b[49m\n\u001b[1;32m    590\u001b[0m \u001b[43m            \u001b[49m\u001b[43mpandas\u001b[49m\u001b[38;5;241;43m.\u001b[39;49m\u001b[43mSeries\u001b[49m\u001b[43m(\u001b[49m\u001b[38;5;28;43mself\u001b[39;49m\u001b[43m[\u001b[49m\u001b[43m:\u001b[49m\u001b[38;5;241;43m1\u001b[39;49m\u001b[43m]\u001b[49m\u001b[38;5;241;43m.\u001b[39;49m\u001b[43mvalues\u001b[49m\u001b[43m,\u001b[49m\u001b[43m \u001b[49m\u001b[43mindex\u001b[49m\u001b[38;5;241;43m=\u001b[39;49m\u001b[38;5;28;43mself\u001b[39;49m\u001b[38;5;241;43m.\u001b[39;49m\u001b[43mindex\u001b[49m\u001b[43m[\u001b[49m\u001b[43m:\u001b[49m\u001b[38;5;241;43m1\u001b[39;49m\u001b[43m]\u001b[49m\u001b[43m)\u001b[49m\u001b[43m,\u001b[49m\u001b[43m \u001b[49m\u001b[43mapply_func\u001b[49m\n\u001b[1;32m    591\u001b[0m \u001b[43m        \u001b[49m\u001b[43m)\u001b[49m\u001b[43m(\u001b[49m\u001b[43mfunc\u001b[49m\u001b[43m,\u001b[49m\u001b[43m \u001b[49m\u001b[38;5;241;43m*\u001b[39;49m\u001b[43margs\u001b[49m\u001b[43m,\u001b[49m\u001b[43m \u001b[49m\u001b[38;5;241;43m*\u001b[39;49m\u001b[38;5;241;43m*\u001b[39;49m\u001b[43mkwargs\u001b[49m\u001b[43m)\u001b[49m\n\u001b[1;32m    592\u001b[0m     )\u001b[38;5;241m.\u001b[39m\u001b[38;5;18m__name__\u001b[39m\n\u001b[1;32m    593\u001b[0m \u001b[38;5;28;01mexcept\u001b[39;00m \u001b[38;5;167;01mException\u001b[39;00m:\n",
      "File \u001b[0;32m~/jupyter/lib/python3.10/site-packages/pandas/core/series.py:4630\u001b[0m, in \u001b[0;36mSeries.apply\u001b[0;34m(self, func, convert_dtype, args, **kwargs)\u001b[0m\n\u001b[1;32m   4527\u001b[0m \u001b[38;5;250m\u001b[39m\u001b[38;5;124;03m\"\"\"\u001b[39;00m\n\u001b[1;32m   4528\u001b[0m \u001b[38;5;124;03mInvoke function on values of Series.\u001b[39;00m\n\u001b[1;32m   4529\u001b[0m \n\u001b[0;32m   (...)\u001b[0m\n\u001b[1;32m   4628\u001b[0m \u001b[38;5;124;03mdtype: float64\u001b[39;00m\n\u001b[1;32m   4629\u001b[0m \u001b[38;5;124;03m\"\"\"\u001b[39;00m\n\u001b[0;32m-> 4630\u001b[0m \u001b[38;5;28;01mreturn\u001b[39;00m \u001b[43mSeriesApply\u001b[49m\u001b[43m(\u001b[49m\u001b[38;5;28;43mself\u001b[39;49m\u001b[43m,\u001b[49m\u001b[43m \u001b[49m\u001b[43mfunc\u001b[49m\u001b[43m,\u001b[49m\u001b[43m \u001b[49m\u001b[43mconvert_dtype\u001b[49m\u001b[43m,\u001b[49m\u001b[43m \u001b[49m\u001b[43margs\u001b[49m\u001b[43m,\u001b[49m\u001b[43m \u001b[49m\u001b[43mkwargs\u001b[49m\u001b[43m)\u001b[49m\u001b[38;5;241;43m.\u001b[39;49m\u001b[43mapply\u001b[49m\u001b[43m(\u001b[49m\u001b[43m)\u001b[49m\n",
      "File \u001b[0;32m~/jupyter/lib/python3.10/site-packages/pandas/core/apply.py:1025\u001b[0m, in \u001b[0;36mSeriesApply.apply\u001b[0;34m(self)\u001b[0m\n\u001b[1;32m   1024\u001b[0m \u001b[38;5;66;03m# self.f is Callable\u001b[39;00m\n\u001b[0;32m-> 1025\u001b[0m \u001b[38;5;28;01mreturn\u001b[39;00m \u001b[38;5;28;43mself\u001b[39;49m\u001b[38;5;241;43m.\u001b[39;49m\u001b[43mapply_standard\u001b[49m\u001b[43m(\u001b[49m\u001b[43m)\u001b[49m\n",
      "File \u001b[0;32m~/jupyter/lib/python3.10/site-packages/pandas/core/apply.py:1076\u001b[0m, in \u001b[0;36mSeriesApply.apply_standard\u001b[0;34m(self)\u001b[0m\n\u001b[1;32m   1075\u001b[0m         values \u001b[38;5;241m=\u001b[39m obj\u001b[38;5;241m.\u001b[39mastype(\u001b[38;5;28mobject\u001b[39m)\u001b[38;5;241m.\u001b[39m_values\n\u001b[0;32m-> 1076\u001b[0m         mapped \u001b[38;5;241m=\u001b[39m \u001b[43mlib\u001b[49m\u001b[38;5;241;43m.\u001b[39;49m\u001b[43mmap_infer\u001b[49m\u001b[43m(\u001b[49m\n\u001b[1;32m   1077\u001b[0m \u001b[43m            \u001b[49m\u001b[43mvalues\u001b[49m\u001b[43m,\u001b[49m\n\u001b[1;32m   1078\u001b[0m \u001b[43m            \u001b[49m\u001b[43mf\u001b[49m\u001b[43m,\u001b[49m\n\u001b[1;32m   1079\u001b[0m \u001b[43m            \u001b[49m\u001b[43mconvert\u001b[49m\u001b[38;5;241;43m=\u001b[39;49m\u001b[38;5;28;43mself\u001b[39;49m\u001b[38;5;241;43m.\u001b[39;49m\u001b[43mconvert_dtype\u001b[49m\u001b[43m,\u001b[49m\n\u001b[1;32m   1080\u001b[0m \u001b[43m        \u001b[49m\u001b[43m)\u001b[49m\n\u001b[1;32m   1082\u001b[0m \u001b[38;5;28;01mif\u001b[39;00m \u001b[38;5;28mlen\u001b[39m(mapped) \u001b[38;5;129;01mand\u001b[39;00m \u001b[38;5;28misinstance\u001b[39m(mapped[\u001b[38;5;241m0\u001b[39m], ABCSeries):\n\u001b[1;32m   1083\u001b[0m     \u001b[38;5;66;03m# GH#43986 Need to do list(mapped) in order to get treated as nested\u001b[39;00m\n\u001b[1;32m   1084\u001b[0m     \u001b[38;5;66;03m#  See also GH#25959 regarding EA support\u001b[39;00m\n",
      "File \u001b[0;32m~/jupyter/lib/python3.10/site-packages/pandas/_libs/lib.pyx:2834\u001b[0m, in \u001b[0;36mpandas._libs.lib.map_infer\u001b[0;34m()\u001b[0m\n",
      "Cell \u001b[0;32mIn[12], line 13\u001b[0m, in \u001b[0;36m<lambda>\u001b[0;34m(t)\u001b[0m\n\u001b[1;32m      9\u001b[0m ax2 \u001b[38;5;241m=\u001b[39m ax1\u001b[38;5;241m.\u001b[39mtwinx()\n\u001b[1;32m     11\u001b[0m ax1\u001b[38;5;241m.\u001b[39mplot(\n\u001b[1;32m     12\u001b[0m     rho_thresholdsp,\n\u001b[0;32m---> 13\u001b[0m     rho_thresholdsp\u001b[38;5;241m.\u001b[39mapply(\u001b[38;5;28;01mlambda\u001b[39;00m t: \u001b[43m(\u001b[49m\u001b[43mtestp\u001b[49m\u001b[43m[\u001b[49m\u001b[38;5;124;43m\"\u001b[39;49m\u001b[38;5;124;43mrho\u001b[39;49m\u001b[38;5;124;43m\"\u001b[39;49m\u001b[43m]\u001b[49m\u001b[43m \u001b[49m\u001b[38;5;241;43m>\u001b[39;49m\u001b[38;5;241;43m=\u001b[39;49m\u001b[43m \u001b[49m\u001b[43mt\u001b[49m\u001b[43m)\u001b[49m\u001b[38;5;241;43m.\u001b[39;49m\u001b[43msum\u001b[49m\u001b[43m(\u001b[49m\u001b[43m)\u001b[49m),\n\u001b[1;32m     14\u001b[0m     color\u001b[38;5;241m=\u001b[39m\u001b[38;5;124m\"\u001b[39m\u001b[38;5;124mred\u001b[39m\u001b[38;5;124m\"\u001b[39m,\n\u001b[1;32m     15\u001b[0m )\n\u001b[1;32m     17\u001b[0m ax2\u001b[38;5;241m.\u001b[39mplot(\n\u001b[1;32m     18\u001b[0m     rho_thresholdsp,\n\u001b[1;32m     19\u001b[0m     rho_thresholdsp\u001b[38;5;241m.\u001b[39mapply(\n\u001b[1;32m     20\u001b[0m         \u001b[38;5;28;01mlambda\u001b[39;00m t: ((testp[\u001b[38;5;124m\"\u001b[39m\u001b[38;5;124mrho\u001b[39m\u001b[38;5;124m\"\u001b[39m] \u001b[38;5;241m>\u001b[39m\u001b[38;5;241m=\u001b[39m t) \u001b[38;5;241m&\u001b[39m testp[\u001b[38;5;124m\"\u001b[39m\u001b[38;5;124mstatus\u001b[39m\u001b[38;5;124m\"\u001b[39m]\u001b[38;5;241m.\u001b[39meq(\u001b[38;5;241m1\u001b[39m))\u001b[38;5;241m.\u001b[39mmean()\n\u001b[1;32m     21\u001b[0m     ),  \u001b[38;5;66;03m# /rho_thresholdsp.apply(lambda t: (testp[\"rho\"] >= t).sum()),\u001b[39;00m\n\u001b[1;32m     22\u001b[0m )\n",
      "File \u001b[0;32m~/jupyter/lib/python3.10/site-packages/modin/logging/logger_decorator.py:128\u001b[0m, in \u001b[0;36menable_logging.<locals>.decorator.<locals>.run_and_log\u001b[0;34m(*args, **kwargs)\u001b[0m\n\u001b[1;32m    127\u001b[0m \u001b[38;5;28;01mif\u001b[39;00m LogMode\u001b[38;5;241m.\u001b[39mget() \u001b[38;5;241m==\u001b[39m \u001b[38;5;124m\"\u001b[39m\u001b[38;5;124mdisable\u001b[39m\u001b[38;5;124m\"\u001b[39m:\n\u001b[0;32m--> 128\u001b[0m     \u001b[38;5;28;01mreturn\u001b[39;00m \u001b[43mobj\u001b[49m\u001b[43m(\u001b[49m\u001b[38;5;241;43m*\u001b[39;49m\u001b[43margs\u001b[49m\u001b[43m,\u001b[49m\u001b[43m \u001b[49m\u001b[38;5;241;43m*\u001b[39;49m\u001b[38;5;241;43m*\u001b[39;49m\u001b[43mkwargs\u001b[49m\u001b[43m)\u001b[49m\n\u001b[1;32m    130\u001b[0m logger \u001b[38;5;241m=\u001b[39m get_logger()\n",
      "File \u001b[0;32m~/jupyter/lib/python3.10/site-packages/modin/pandas/series.py:1740\u001b[0m, in \u001b[0;36mSeries.sum\u001b[0;34m(self, axis, skipna, numeric_only, min_count, **kwargs)\u001b[0m\n\u001b[1;32m   1738\u001b[0m axis \u001b[38;5;241m=\u001b[39m \u001b[38;5;28mself\u001b[39m\u001b[38;5;241m.\u001b[39m_get_axis_number(axis)\n\u001b[0;32m-> 1740\u001b[0m new_index \u001b[38;5;241m=\u001b[39m \u001b[38;5;28mself\u001b[39m\u001b[38;5;241m.\u001b[39mcolumns \u001b[38;5;28;01mif\u001b[39;00m axis \u001b[38;5;28;01melse\u001b[39;00m \u001b[38;5;28;43mself\u001b[39;49m\u001b[38;5;241;43m.\u001b[39;49m\u001b[43mindex\u001b[49m\n\u001b[1;32m   1741\u001b[0m \u001b[38;5;28;01mif\u001b[39;00m min_count \u001b[38;5;241m>\u001b[39m \u001b[38;5;28mlen\u001b[39m(new_index):\n",
      "File \u001b[0;32m~/jupyter/lib/python3.10/site-packages/modin/pandas/base.py:3879\u001b[0m, in \u001b[0;36mBasePandasDataset.__getattribute__\u001b[0;34m(self, item)\u001b[0m\n\u001b[1;32m   3867\u001b[0m \u001b[38;5;250m\u001b[39m\u001b[38;5;124;03m\"\"\"\u001b[39;00m\n\u001b[1;32m   3868\u001b[0m \u001b[38;5;124;03mReturn item from the `BasePandasDataset`.\u001b[39;00m\n\u001b[1;32m   3869\u001b[0m \n\u001b[0;32m   (...)\u001b[0m\n\u001b[1;32m   3877\u001b[0m \u001b[38;5;124;03mAny\u001b[39;00m\n\u001b[1;32m   3878\u001b[0m \u001b[38;5;124;03m\"\"\"\u001b[39;00m\n\u001b[0;32m-> 3879\u001b[0m attr \u001b[38;5;241m=\u001b[39m \u001b[38;5;28;43msuper\u001b[39;49m\u001b[43m(\u001b[49m\u001b[43m)\u001b[49m\u001b[38;5;241;43m.\u001b[39;49m\u001b[38;5;21;43m__getattribute__\u001b[39;49m\u001b[43m(\u001b[49m\u001b[43mitem\u001b[49m\u001b[43m)\u001b[49m\n\u001b[1;32m   3880\u001b[0m \u001b[38;5;28;01mif\u001b[39;00m item \u001b[38;5;129;01mnot\u001b[39;00m \u001b[38;5;129;01min\u001b[39;00m _DEFAULT_BEHAVIOUR \u001b[38;5;129;01mand\u001b[39;00m \u001b[38;5;129;01mnot\u001b[39;00m \u001b[38;5;28mself\u001b[39m\u001b[38;5;241m.\u001b[39m_query_compiler\u001b[38;5;241m.\u001b[39mlazy_execution:\n\u001b[1;32m   3881\u001b[0m     \u001b[38;5;66;03m# We default to pandas on empty DataFrames. This avoids a large amount of\u001b[39;00m\n\u001b[1;32m   3882\u001b[0m     \u001b[38;5;66;03m# pain in underlying implementation and returns a result immediately rather\u001b[39;00m\n\u001b[1;32m   3883\u001b[0m     \u001b[38;5;66;03m# than dealing with the edge cases that empty DataFrames have.\u001b[39;00m\n",
      "File \u001b[0;32m~/jupyter/lib/python3.10/site-packages/modin/pandas/base.py:621\u001b[0m, in \u001b[0;36mBasePandasDataset._get_index\u001b[0;34m(self)\u001b[0m\n\u001b[1;32m    613\u001b[0m \u001b[38;5;250m\u001b[39m\u001b[38;5;124;03m\"\"\"\u001b[39;00m\n\u001b[1;32m    614\u001b[0m \u001b[38;5;124;03mGet the index for this DataFrame.\u001b[39;00m\n\u001b[1;32m    615\u001b[0m \n\u001b[0;32m   (...)\u001b[0m\n\u001b[1;32m    619\u001b[0m \u001b[38;5;124;03m    The union of all indexes across the partitions.\u001b[39;00m\n\u001b[1;32m    620\u001b[0m \u001b[38;5;124;03m\"\"\"\u001b[39;00m\n\u001b[0;32m--> 621\u001b[0m \u001b[38;5;28;01mreturn\u001b[39;00m \u001b[38;5;28;43mself\u001b[39;49m\u001b[38;5;241;43m.\u001b[39;49m\u001b[43m_query_compiler\u001b[49m\u001b[38;5;241;43m.\u001b[39;49m\u001b[43mindex\u001b[49m\n",
      "File \u001b[0;32m~/jupyter/lib/python3.10/site-packages/modin/core/storage_formats/pandas/query_compiler.py:87\u001b[0m, in \u001b[0;36m_get_axis.<locals>.<lambda>\u001b[0;34m(self)\u001b[0m\n\u001b[1;32m     86\u001b[0m \u001b[38;5;28;01mif\u001b[39;00m axis \u001b[38;5;241m==\u001b[39m \u001b[38;5;241m0\u001b[39m:\n\u001b[0;32m---> 87\u001b[0m     \u001b[38;5;28;01mreturn\u001b[39;00m \u001b[38;5;28;01mlambda\u001b[39;00m \u001b[38;5;28mself\u001b[39m: \u001b[38;5;28;43mself\u001b[39;49m\u001b[38;5;241;43m.\u001b[39;49m\u001b[43m_modin_frame\u001b[49m\u001b[38;5;241;43m.\u001b[39;49m\u001b[43mindex\u001b[49m\n\u001b[1;32m     88\u001b[0m \u001b[38;5;28;01melse\u001b[39;00m:\n",
      "File \u001b[0;32m~/jupyter/lib/python3.10/site-packages/modin/core/dataframe/pandas/dataframe/dataframe.py:522\u001b[0m, in \u001b[0;36mPandasDataframe._get_index\u001b[0;34m(self)\u001b[0m\n\u001b[1;32m    521\u001b[0m \u001b[38;5;28;01melse\u001b[39;00m:\n\u001b[0;32m--> 522\u001b[0m     index, row_lengths \u001b[38;5;241m=\u001b[39m \u001b[38;5;28;43mself\u001b[39;49m\u001b[38;5;241;43m.\u001b[39;49m\u001b[43m_compute_axis_labels_and_lengths\u001b[49m\u001b[43m(\u001b[49m\u001b[38;5;241;43m0\u001b[39;49m\u001b[43m)\u001b[49m\n\u001b[1;32m    523\u001b[0m     \u001b[38;5;28mself\u001b[39m\u001b[38;5;241m.\u001b[39mset_index_cache(index)\n",
      "File \u001b[0;32m~/jupyter/lib/python3.10/site-packages/modin/logging/logger_decorator.py:128\u001b[0m, in \u001b[0;36menable_logging.<locals>.decorator.<locals>.run_and_log\u001b[0;34m(*args, **kwargs)\u001b[0m\n\u001b[1;32m    127\u001b[0m \u001b[38;5;28;01mif\u001b[39;00m LogMode\u001b[38;5;241m.\u001b[39mget() \u001b[38;5;241m==\u001b[39m \u001b[38;5;124m\"\u001b[39m\u001b[38;5;124mdisable\u001b[39m\u001b[38;5;124m\"\u001b[39m:\n\u001b[0;32m--> 128\u001b[0m     \u001b[38;5;28;01mreturn\u001b[39;00m \u001b[43mobj\u001b[49m\u001b[43m(\u001b[49m\u001b[38;5;241;43m*\u001b[39;49m\u001b[43margs\u001b[49m\u001b[43m,\u001b[49m\u001b[43m \u001b[49m\u001b[38;5;241;43m*\u001b[39;49m\u001b[38;5;241;43m*\u001b[39;49m\u001b[43mkwargs\u001b[49m\u001b[43m)\u001b[49m\n\u001b[1;32m    130\u001b[0m logger \u001b[38;5;241m=\u001b[39m get_logger()\n",
      "File \u001b[0;32m~/jupyter/lib/python3.10/site-packages/modin/core/dataframe/pandas/dataframe/dataframe.py:626\u001b[0m, in \u001b[0;36mPandasDataframe._compute_axis_labels_and_lengths\u001b[0;34m(self, axis, partitions)\u001b[0m\n\u001b[1;32m    625\u001b[0m     partitions \u001b[38;5;241m=\u001b[39m \u001b[38;5;28mself\u001b[39m\u001b[38;5;241m.\u001b[39m_partitions\n\u001b[0;32m--> 626\u001b[0m new_index, internal_idx \u001b[38;5;241m=\u001b[39m \u001b[38;5;28;43mself\u001b[39;49m\u001b[38;5;241;43m.\u001b[39;49m\u001b[43m_partition_mgr_cls\u001b[49m\u001b[38;5;241;43m.\u001b[39;49m\u001b[43mget_indices\u001b[49m\u001b[43m(\u001b[49m\u001b[43maxis\u001b[49m\u001b[43m,\u001b[49m\u001b[43m \u001b[49m\u001b[43mpartitions\u001b[49m\u001b[43m)\u001b[49m\n\u001b[1;32m    627\u001b[0m \u001b[38;5;28;01mreturn\u001b[39;00m new_index, \u001b[38;5;28mlist\u001b[39m(\u001b[38;5;28mmap\u001b[39m(\u001b[38;5;28mlen\u001b[39m, internal_idx))\n",
      "File \u001b[0;32m~/jupyter/lib/python3.10/site-packages/modin/logging/logger_decorator.py:128\u001b[0m, in \u001b[0;36menable_logging.<locals>.decorator.<locals>.run_and_log\u001b[0;34m(*args, **kwargs)\u001b[0m\n\u001b[1;32m    127\u001b[0m \u001b[38;5;28;01mif\u001b[39;00m LogMode\u001b[38;5;241m.\u001b[39mget() \u001b[38;5;241m==\u001b[39m \u001b[38;5;124m\"\u001b[39m\u001b[38;5;124mdisable\u001b[39m\u001b[38;5;124m\"\u001b[39m:\n\u001b[0;32m--> 128\u001b[0m     \u001b[38;5;28;01mreturn\u001b[39;00m \u001b[43mobj\u001b[49m\u001b[43m(\u001b[49m\u001b[38;5;241;43m*\u001b[39;49m\u001b[43margs\u001b[49m\u001b[43m,\u001b[49m\u001b[43m \u001b[49m\u001b[38;5;241;43m*\u001b[39;49m\u001b[38;5;241;43m*\u001b[39;49m\u001b[43mkwargs\u001b[49m\u001b[43m)\u001b[49m\n\u001b[1;32m    130\u001b[0m logger \u001b[38;5;241m=\u001b[39m get_logger()\n",
      "File \u001b[0;32m~/jupyter/lib/python3.10/site-packages/modin/core/dataframe/pandas/partitioning/partition_manager.py:933\u001b[0m, in \u001b[0;36mPandasDataframePartitionManager.get_indices\u001b[0;34m(cls, axis, partitions, index_func)\u001b[0m\n\u001b[1;32m    932\u001b[0m     new_idx \u001b[38;5;241m=\u001b[39m [idx\u001b[38;5;241m.\u001b[39mapply(func) \u001b[38;5;28;01mfor\u001b[39;00m idx \u001b[38;5;129;01min\u001b[39;00m target[\u001b[38;5;241m0\u001b[39m]]\n\u001b[0;32m--> 933\u001b[0m     new_idx \u001b[38;5;241m=\u001b[39m \u001b[38;5;28;43mcls\u001b[39;49m\u001b[38;5;241;43m.\u001b[39;49m\u001b[43mget_objects_from_partitions\u001b[49m\u001b[43m(\u001b[49m\u001b[43mnew_idx\u001b[49m\u001b[43m)\u001b[49m\n\u001b[1;32m    934\u001b[0m \u001b[38;5;28;01melse\u001b[39;00m:\n",
      "File \u001b[0;32m~/jupyter/lib/python3.10/site-packages/modin/logging/logger_decorator.py:128\u001b[0m, in \u001b[0;36menable_logging.<locals>.decorator.<locals>.run_and_log\u001b[0;34m(*args, **kwargs)\u001b[0m\n\u001b[1;32m    127\u001b[0m \u001b[38;5;28;01mif\u001b[39;00m LogMode\u001b[38;5;241m.\u001b[39mget() \u001b[38;5;241m==\u001b[39m \u001b[38;5;124m\"\u001b[39m\u001b[38;5;124mdisable\u001b[39m\u001b[38;5;124m\"\u001b[39m:\n\u001b[0;32m--> 128\u001b[0m     \u001b[38;5;28;01mreturn\u001b[39;00m \u001b[43mobj\u001b[49m\u001b[43m(\u001b[49m\u001b[38;5;241;43m*\u001b[39;49m\u001b[43margs\u001b[49m\u001b[43m,\u001b[49m\u001b[43m \u001b[49m\u001b[38;5;241;43m*\u001b[39;49m\u001b[38;5;241;43m*\u001b[39;49m\u001b[43mkwargs\u001b[49m\u001b[43m)\u001b[49m\n\u001b[1;32m    130\u001b[0m logger \u001b[38;5;241m=\u001b[39m get_logger()\n",
      "File \u001b[0;32m~/jupyter/lib/python3.10/site-packages/modin/core/dataframe/pandas/partitioning/partition_manager.py:874\u001b[0m, in \u001b[0;36mPandasDataframePartitionManager.get_objects_from_partitions\u001b[0;34m(cls, partitions)\u001b[0m\n\u001b[1;32m    871\u001b[0m     \u001b[38;5;28;01massert\u001b[39;00m \u001b[38;5;28mall\u001b[39m(\n\u001b[1;32m    872\u001b[0m         [\u001b[38;5;28mlen\u001b[39m(partition\u001b[38;5;241m.\u001b[39mlist_of_blocks) \u001b[38;5;241m==\u001b[39m \u001b[38;5;241m1\u001b[39m \u001b[38;5;28;01mfor\u001b[39;00m partition \u001b[38;5;129;01min\u001b[39;00m partitions]\n\u001b[1;32m    873\u001b[0m     ), \u001b[38;5;124m\"\u001b[39m\u001b[38;5;124mImplementation assumes that each partition contains a single block.\u001b[39m\u001b[38;5;124m\"\u001b[39m\n\u001b[0;32m--> 874\u001b[0m     \u001b[38;5;28;01mreturn\u001b[39;00m \u001b[38;5;28;43mcls\u001b[39;49m\u001b[38;5;241;43m.\u001b[39;49m\u001b[43m_execution_wrapper\u001b[49m\u001b[38;5;241;43m.\u001b[39;49m\u001b[43mmaterialize\u001b[49m\u001b[43m(\u001b[49m\n\u001b[1;32m    875\u001b[0m \u001b[43m        \u001b[49m\u001b[43m[\u001b[49m\u001b[43mpartition\u001b[49m\u001b[38;5;241;43m.\u001b[39;49m\u001b[43mlist_of_blocks\u001b[49m\u001b[43m[\u001b[49m\u001b[38;5;241;43m0\u001b[39;49m\u001b[43m]\u001b[49m\u001b[43m \u001b[49m\u001b[38;5;28;43;01mfor\u001b[39;49;00m\u001b[43m \u001b[49m\u001b[43mpartition\u001b[49m\u001b[43m \u001b[49m\u001b[38;5;129;43;01min\u001b[39;49;00m\u001b[43m \u001b[49m\u001b[43mpartitions\u001b[49m\u001b[43m]\u001b[49m\n\u001b[1;32m    876\u001b[0m \u001b[43m    \u001b[49m\u001b[43m)\u001b[49m\n\u001b[1;32m    877\u001b[0m \u001b[38;5;28;01mreturn\u001b[39;00m [partition\u001b[38;5;241m.\u001b[39mget() \u001b[38;5;28;01mfor\u001b[39;00m partition \u001b[38;5;129;01min\u001b[39;00m partitions]\n",
      "File \u001b[0;32m~/jupyter/lib/python3.10/site-packages/modin/core/execution/ray/common/engine_wrapper.py:92\u001b[0m, in \u001b[0;36mRayWrapper.materialize\u001b[0;34m(cls, obj_id)\u001b[0m\n\u001b[1;32m     79\u001b[0m \u001b[38;5;250m\u001b[39m\u001b[38;5;124;03m\"\"\"\u001b[39;00m\n\u001b[1;32m     80\u001b[0m \u001b[38;5;124;03mGet the value of object from the Plasma store.\u001b[39;00m\n\u001b[1;32m     81\u001b[0m \n\u001b[0;32m   (...)\u001b[0m\n\u001b[1;32m     90\u001b[0m \u001b[38;5;124;03m    Whatever was identified by `obj_id`.\u001b[39;00m\n\u001b[1;32m     91\u001b[0m \u001b[38;5;124;03m\"\"\"\u001b[39;00m\n\u001b[0;32m---> 92\u001b[0m \u001b[38;5;28;01mreturn\u001b[39;00m \u001b[43mray\u001b[49m\u001b[38;5;241;43m.\u001b[39;49m\u001b[43mget\u001b[49m\u001b[43m(\u001b[49m\u001b[43mobj_id\u001b[49m\u001b[43m)\u001b[49m\n",
      "File \u001b[0;32m~/jupyter/lib/python3.10/site-packages/ray/_private/auto_init_hook.py:18\u001b[0m, in \u001b[0;36mwrap_auto_init.<locals>.auto_init_wrapper\u001b[0;34m(*args, **kwargs)\u001b[0m\n\u001b[1;32m     17\u001b[0m auto_init_ray()\n\u001b[0;32m---> 18\u001b[0m \u001b[38;5;28;01mreturn\u001b[39;00m \u001b[43mfn\u001b[49m\u001b[43m(\u001b[49m\u001b[38;5;241;43m*\u001b[39;49m\u001b[43margs\u001b[49m\u001b[43m,\u001b[49m\u001b[43m \u001b[49m\u001b[38;5;241;43m*\u001b[39;49m\u001b[38;5;241;43m*\u001b[39;49m\u001b[43mkwargs\u001b[49m\u001b[43m)\u001b[49m\n",
      "File \u001b[0;32m~/jupyter/lib/python3.10/site-packages/ray/_private/client_mode_hook.py:103\u001b[0m, in \u001b[0;36mclient_mode_hook.<locals>.wrapper\u001b[0;34m(*args, **kwargs)\u001b[0m\n\u001b[1;32m    102\u001b[0m         \u001b[38;5;28;01mreturn\u001b[39;00m \u001b[38;5;28mgetattr\u001b[39m(ray, func\u001b[38;5;241m.\u001b[39m\u001b[38;5;18m__name__\u001b[39m)(\u001b[38;5;241m*\u001b[39margs, \u001b[38;5;241m*\u001b[39m\u001b[38;5;241m*\u001b[39mkwargs)\n\u001b[0;32m--> 103\u001b[0m \u001b[38;5;28;01mreturn\u001b[39;00m \u001b[43mfunc\u001b[49m\u001b[43m(\u001b[49m\u001b[38;5;241;43m*\u001b[39;49m\u001b[43margs\u001b[49m\u001b[43m,\u001b[49m\u001b[43m \u001b[49m\u001b[38;5;241;43m*\u001b[39;49m\u001b[38;5;241;43m*\u001b[39;49m\u001b[43mkwargs\u001b[49m\u001b[43m)\u001b[49m\n",
      "File \u001b[0;32m~/jupyter/lib/python3.10/site-packages/ray/_private/worker.py:2534\u001b[0m, in \u001b[0;36mget\u001b[0;34m(object_refs, timeout)\u001b[0m\n\u001b[1;32m   2533\u001b[0m \u001b[38;5;66;03m# TODO(ujvl): Consider how to allow user to retrieve the ready objects.\u001b[39;00m\n\u001b[0;32m-> 2534\u001b[0m values, debugger_breakpoint \u001b[38;5;241m=\u001b[39m \u001b[43mworker\u001b[49m\u001b[38;5;241;43m.\u001b[39;49m\u001b[43mget_objects\u001b[49m\u001b[43m(\u001b[49m\u001b[43mobject_refs\u001b[49m\u001b[43m,\u001b[49m\u001b[43m \u001b[49m\u001b[43mtimeout\u001b[49m\u001b[38;5;241;43m=\u001b[39;49m\u001b[43mtimeout\u001b[49m\u001b[43m)\u001b[49m\n\u001b[1;32m   2535\u001b[0m \u001b[38;5;28;01mfor\u001b[39;00m i, value \u001b[38;5;129;01min\u001b[39;00m \u001b[38;5;28menumerate\u001b[39m(values):\n",
      "File \u001b[0;32m~/jupyter/lib/python3.10/site-packages/ray/_private/worker.py:759\u001b[0m, in \u001b[0;36mWorker.get_objects\u001b[0;34m(self, object_refs, timeout)\u001b[0m\n\u001b[1;32m    758\u001b[0m timeout_ms \u001b[38;5;241m=\u001b[39m \u001b[38;5;28mint\u001b[39m(timeout \u001b[38;5;241m*\u001b[39m \u001b[38;5;241m1000\u001b[39m) \u001b[38;5;28;01mif\u001b[39;00m timeout \u001b[38;5;129;01mis\u001b[39;00m \u001b[38;5;129;01mnot\u001b[39;00m \u001b[38;5;28;01mNone\u001b[39;00m \u001b[38;5;28;01melse\u001b[39;00m \u001b[38;5;241m-\u001b[39m\u001b[38;5;241m1\u001b[39m\n\u001b[0;32m--> 759\u001b[0m data_metadata_pairs \u001b[38;5;241m=\u001b[39m \u001b[38;5;28;43mself\u001b[39;49m\u001b[38;5;241;43m.\u001b[39;49m\u001b[43mcore_worker\u001b[49m\u001b[38;5;241;43m.\u001b[39;49m\u001b[43mget_objects\u001b[49m\u001b[43m(\u001b[49m\n\u001b[1;32m    760\u001b[0m \u001b[43m    \u001b[49m\u001b[43mobject_refs\u001b[49m\u001b[43m,\u001b[49m\u001b[43m \u001b[49m\u001b[38;5;28;43mself\u001b[39;49m\u001b[38;5;241;43m.\u001b[39;49m\u001b[43mcurrent_task_id\u001b[49m\u001b[43m,\u001b[49m\u001b[43m \u001b[49m\u001b[43mtimeout_ms\u001b[49m\n\u001b[1;32m    761\u001b[0m \u001b[43m\u001b[49m\u001b[43m)\u001b[49m\n\u001b[1;32m    762\u001b[0m debugger_breakpoint \u001b[38;5;241m=\u001b[39m \u001b[38;5;124mb\u001b[39m\u001b[38;5;124m\"\u001b[39m\u001b[38;5;124m\"\u001b[39m\n",
      "\u001b[0;31mKeyboardInterrupt\u001b[0m: ",
      "\nDuring handling of the above exception, another exception occurred:\n",
      "\u001b[0;31mSystemExit\u001b[0m                                Traceback (most recent call last)",
      "    \u001b[0;31m[... skipping hidden 1 frame]\u001b[0m\n",
      "File \u001b[0;32m~/jupyter/lib/python3.10/site-packages/IPython/core/interactiveshell.py:2105\u001b[0m, in \u001b[0;36mInteractiveShell.showtraceback\u001b[0;34m(self, exc_tuple, filename, tb_offset, exception_only, running_compiled_code)\u001b[0m\n\u001b[1;32m   2103\u001b[0m         stb \u001b[38;5;241m=\u001b[39m value\u001b[38;5;241m.\u001b[39m_render_traceback_()\n\u001b[1;32m   2104\u001b[0m     \u001b[38;5;28;01melse\u001b[39;00m:\n\u001b[0;32m-> 2105\u001b[0m         stb \u001b[38;5;241m=\u001b[39m \u001b[38;5;28;43mself\u001b[39;49m\u001b[38;5;241;43m.\u001b[39;49m\u001b[43mInteractiveTB\u001b[49m\u001b[38;5;241;43m.\u001b[39;49m\u001b[43mstructured_traceback\u001b[49m\u001b[43m(\u001b[49m\n\u001b[1;32m   2106\u001b[0m \u001b[43m            \u001b[49m\u001b[43metype\u001b[49m\u001b[43m,\u001b[49m\u001b[43m \u001b[49m\u001b[43mvalue\u001b[49m\u001b[43m,\u001b[49m\u001b[43m \u001b[49m\u001b[43mtb\u001b[49m\u001b[43m,\u001b[49m\u001b[43m \u001b[49m\u001b[43mtb_offset\u001b[49m\u001b[38;5;241;43m=\u001b[39;49m\u001b[43mtb_offset\u001b[49m\n\u001b[1;32m   2107\u001b[0m \u001b[43m        \u001b[49m\u001b[43m)\u001b[49m\n\u001b[1;32m   2109\u001b[0m \u001b[38;5;28;01mexcept\u001b[39;00m \u001b[38;5;167;01mException\u001b[39;00m:\n\u001b[1;32m   2110\u001b[0m     \u001b[38;5;28mprint\u001b[39m(\n\u001b[1;32m   2111\u001b[0m         \u001b[38;5;124m\"\u001b[39m\u001b[38;5;124mUnexpected exception formatting exception. Falling back to standard exception\u001b[39m\u001b[38;5;124m\"\u001b[39m\n\u001b[1;32m   2112\u001b[0m     )\n",
      "File \u001b[0;32m~/jupyter/lib/python3.10/site-packages/IPython/core/ultratb.py:1428\u001b[0m, in \u001b[0;36mAutoFormattedTB.structured_traceback\u001b[0;34m(self, etype, evalue, etb, tb_offset, number_of_lines_of_context)\u001b[0m\n\u001b[1;32m   1426\u001b[0m \u001b[38;5;28;01melse\u001b[39;00m:\n\u001b[1;32m   1427\u001b[0m     \u001b[38;5;28mself\u001b[39m\u001b[38;5;241m.\u001b[39mtb \u001b[38;5;241m=\u001b[39m etb\n\u001b[0;32m-> 1428\u001b[0m \u001b[38;5;28;01mreturn\u001b[39;00m \u001b[43mFormattedTB\u001b[49m\u001b[38;5;241;43m.\u001b[39;49m\u001b[43mstructured_traceback\u001b[49m\u001b[43m(\u001b[49m\n\u001b[1;32m   1429\u001b[0m \u001b[43m    \u001b[49m\u001b[38;5;28;43mself\u001b[39;49m\u001b[43m,\u001b[49m\u001b[43m \u001b[49m\u001b[43metype\u001b[49m\u001b[43m,\u001b[49m\u001b[43m \u001b[49m\u001b[43mevalue\u001b[49m\u001b[43m,\u001b[49m\u001b[43m \u001b[49m\u001b[43metb\u001b[49m\u001b[43m,\u001b[49m\u001b[43m \u001b[49m\u001b[43mtb_offset\u001b[49m\u001b[43m,\u001b[49m\u001b[43m \u001b[49m\u001b[43mnumber_of_lines_of_context\u001b[49m\n\u001b[1;32m   1430\u001b[0m \u001b[43m\u001b[49m\u001b[43m)\u001b[49m\n",
      "File \u001b[0;32m~/jupyter/lib/python3.10/site-packages/IPython/core/ultratb.py:1319\u001b[0m, in \u001b[0;36mFormattedTB.structured_traceback\u001b[0;34m(self, etype, value, tb, tb_offset, number_of_lines_of_context)\u001b[0m\n\u001b[1;32m   1316\u001b[0m mode \u001b[38;5;241m=\u001b[39m \u001b[38;5;28mself\u001b[39m\u001b[38;5;241m.\u001b[39mmode\n\u001b[1;32m   1317\u001b[0m \u001b[38;5;28;01mif\u001b[39;00m mode \u001b[38;5;129;01min\u001b[39;00m \u001b[38;5;28mself\u001b[39m\u001b[38;5;241m.\u001b[39mverbose_modes:\n\u001b[1;32m   1318\u001b[0m     \u001b[38;5;66;03m# Verbose modes need a full traceback\u001b[39;00m\n\u001b[0;32m-> 1319\u001b[0m     \u001b[38;5;28;01mreturn\u001b[39;00m \u001b[43mVerboseTB\u001b[49m\u001b[38;5;241;43m.\u001b[39;49m\u001b[43mstructured_traceback\u001b[49m\u001b[43m(\u001b[49m\n\u001b[1;32m   1320\u001b[0m \u001b[43m        \u001b[49m\u001b[38;5;28;43mself\u001b[39;49m\u001b[43m,\u001b[49m\u001b[43m \u001b[49m\u001b[43metype\u001b[49m\u001b[43m,\u001b[49m\u001b[43m \u001b[49m\u001b[43mvalue\u001b[49m\u001b[43m,\u001b[49m\u001b[43m \u001b[49m\u001b[43mtb\u001b[49m\u001b[43m,\u001b[49m\u001b[43m \u001b[49m\u001b[43mtb_offset\u001b[49m\u001b[43m,\u001b[49m\u001b[43m \u001b[49m\u001b[43mnumber_of_lines_of_context\u001b[49m\n\u001b[1;32m   1321\u001b[0m \u001b[43m    \u001b[49m\u001b[43m)\u001b[49m\n\u001b[1;32m   1322\u001b[0m \u001b[38;5;28;01melif\u001b[39;00m mode \u001b[38;5;241m==\u001b[39m \u001b[38;5;124m'\u001b[39m\u001b[38;5;124mMinimal\u001b[39m\u001b[38;5;124m'\u001b[39m:\n\u001b[1;32m   1323\u001b[0m     \u001b[38;5;28;01mreturn\u001b[39;00m ListTB\u001b[38;5;241m.\u001b[39mget_exception_only(\u001b[38;5;28mself\u001b[39m, etype, value)\n",
      "File \u001b[0;32m~/jupyter/lib/python3.10/site-packages/IPython/core/ultratb.py:1172\u001b[0m, in \u001b[0;36mVerboseTB.structured_traceback\u001b[0;34m(self, etype, evalue, etb, tb_offset, number_of_lines_of_context)\u001b[0m\n\u001b[1;32m   1163\u001b[0m \u001b[38;5;28;01mdef\u001b[39;00m \u001b[38;5;21mstructured_traceback\u001b[39m(\n\u001b[1;32m   1164\u001b[0m     \u001b[38;5;28mself\u001b[39m,\n\u001b[1;32m   1165\u001b[0m     etype: \u001b[38;5;28mtype\u001b[39m,\n\u001b[0;32m   (...)\u001b[0m\n\u001b[1;32m   1169\u001b[0m     number_of_lines_of_context: \u001b[38;5;28mint\u001b[39m \u001b[38;5;241m=\u001b[39m \u001b[38;5;241m5\u001b[39m,\n\u001b[1;32m   1170\u001b[0m ):\n\u001b[1;32m   1171\u001b[0m \u001b[38;5;250m    \u001b[39m\u001b[38;5;124;03m\"\"\"Return a nice text document describing the traceback.\"\"\"\u001b[39;00m\n\u001b[0;32m-> 1172\u001b[0m     formatted_exception \u001b[38;5;241m=\u001b[39m \u001b[38;5;28;43mself\u001b[39;49m\u001b[38;5;241;43m.\u001b[39;49m\u001b[43mformat_exception_as_a_whole\u001b[49m\u001b[43m(\u001b[49m\u001b[43metype\u001b[49m\u001b[43m,\u001b[49m\u001b[43m \u001b[49m\u001b[43mevalue\u001b[49m\u001b[43m,\u001b[49m\u001b[43m \u001b[49m\u001b[43metb\u001b[49m\u001b[43m,\u001b[49m\u001b[43m \u001b[49m\u001b[43mnumber_of_lines_of_context\u001b[49m\u001b[43m,\u001b[49m\n\u001b[1;32m   1173\u001b[0m \u001b[43m                                                           \u001b[49m\u001b[43mtb_offset\u001b[49m\u001b[43m)\u001b[49m\n\u001b[1;32m   1175\u001b[0m     colors \u001b[38;5;241m=\u001b[39m \u001b[38;5;28mself\u001b[39m\u001b[38;5;241m.\u001b[39mColors  \u001b[38;5;66;03m# just a shorthand + quicker name lookup\u001b[39;00m\n\u001b[1;32m   1176\u001b[0m     colorsnormal \u001b[38;5;241m=\u001b[39m colors\u001b[38;5;241m.\u001b[39mNormal  \u001b[38;5;66;03m# used a lot\u001b[39;00m\n",
      "File \u001b[0;32m~/jupyter/lib/python3.10/site-packages/IPython/core/ultratb.py:1087\u001b[0m, in \u001b[0;36mVerboseTB.format_exception_as_a_whole\u001b[0;34m(self, etype, evalue, etb, number_of_lines_of_context, tb_offset)\u001b[0m\n\u001b[1;32m   1082\u001b[0m         frames\u001b[38;5;241m.\u001b[39mappend(\n\u001b[1;32m   1083\u001b[0m             \u001b[38;5;124m\"\u001b[39m\u001b[38;5;124m    \u001b[39m\u001b[38;5;132;01m%s\u001b[39;00m\u001b[38;5;124m[... skipping hidden \u001b[39m\u001b[38;5;132;01m%s\u001b[39;00m\u001b[38;5;124m frame]\u001b[39m\u001b[38;5;132;01m%s\u001b[39;00m\u001b[38;5;130;01m\\n\u001b[39;00m\u001b[38;5;124m\"\u001b[39m\n\u001b[1;32m   1084\u001b[0m             \u001b[38;5;241m%\u001b[39m (Colors\u001b[38;5;241m.\u001b[39mexcName, skipped, ColorsNormal)\n\u001b[1;32m   1085\u001b[0m         )\n\u001b[1;32m   1086\u001b[0m         skipped \u001b[38;5;241m=\u001b[39m \u001b[38;5;241m0\u001b[39m\n\u001b[0;32m-> 1087\u001b[0m     frames\u001b[38;5;241m.\u001b[39mappend(\u001b[38;5;28;43mself\u001b[39;49m\u001b[38;5;241;43m.\u001b[39;49m\u001b[43mformat_record\u001b[49m\u001b[43m(\u001b[49m\u001b[43mrecord\u001b[49m\u001b[43m)\u001b[49m)\n\u001b[1;32m   1088\u001b[0m \u001b[38;5;28;01mif\u001b[39;00m skipped:\n\u001b[1;32m   1089\u001b[0m     Colors \u001b[38;5;241m=\u001b[39m \u001b[38;5;28mself\u001b[39m\u001b[38;5;241m.\u001b[39mColors  \u001b[38;5;66;03m# just a shorthand + quicker name lookup\u001b[39;00m\n",
      "File \u001b[0;32m~/jupyter/lib/python3.10/site-packages/IPython/core/ultratb.py:969\u001b[0m, in \u001b[0;36mVerboseTB.format_record\u001b[0;34m(self, frame_info)\u001b[0m\n\u001b[1;32m    952\u001b[0m     \u001b[38;5;28;01mreturn\u001b[39;00m \u001b[38;5;124m\"\u001b[39m\u001b[38;5;132;01m%s\u001b[39;00m\u001b[38;5;132;01m%s\u001b[39;00m\u001b[38;5;124m\"\u001b[39m \u001b[38;5;241m%\u001b[39m (\n\u001b[1;32m    953\u001b[0m         level,\n\u001b[1;32m    954\u001b[0m         \u001b[38;5;124m\"\u001b[39m\u001b[38;5;124m\"\u001b[39m\u001b[38;5;241m.\u001b[39mjoin(\n\u001b[0;32m   (...)\u001b[0m\n\u001b[1;32m    963\u001b[0m         ),\n\u001b[1;32m    964\u001b[0m     )\n\u001b[1;32m    965\u001b[0m     \u001b[38;5;66;03m# result += \"\\n\".join(frame_info.raw_lines)\u001b[39;00m\n\u001b[1;32m    966\u001b[0m \u001b[38;5;28;01melse\u001b[39;00m:\n\u001b[1;32m    967\u001b[0m     result \u001b[38;5;241m+\u001b[39m\u001b[38;5;241m=\u001b[39m \u001b[38;5;124m\"\u001b[39m\u001b[38;5;124m\"\u001b[39m\u001b[38;5;241m.\u001b[39mjoin(\n\u001b[1;32m    968\u001b[0m         _format_traceback_lines(\n\u001b[0;32m--> 969\u001b[0m             \u001b[43mframe_info\u001b[49m\u001b[38;5;241;43m.\u001b[39;49m\u001b[43mlines\u001b[49m, Colors, \u001b[38;5;28mself\u001b[39m\u001b[38;5;241m.\u001b[39mhas_colors, lvals\n\u001b[1;32m    970\u001b[0m         )\n\u001b[1;32m    971\u001b[0m     )\n\u001b[1;32m    972\u001b[0m \u001b[38;5;28;01mreturn\u001b[39;00m result\n",
      "File \u001b[0;32m~/jupyter/lib/python3.10/site-packages/IPython/core/ultratb.py:792\u001b[0m, in \u001b[0;36mFrameInfo.lines\u001b[0;34m(self)\u001b[0m\n\u001b[1;32m    790\u001b[0m \u001b[38;5;129m@property\u001b[39m\n\u001b[1;32m    791\u001b[0m \u001b[38;5;28;01mdef\u001b[39;00m \u001b[38;5;21mlines\u001b[39m(\u001b[38;5;28mself\u001b[39m):\n\u001b[0;32m--> 792\u001b[0m     \u001b[38;5;28;01mreturn\u001b[39;00m \u001b[38;5;28;43mself\u001b[39;49m\u001b[38;5;241;43m.\u001b[39;49m\u001b[43m_sd\u001b[49m\u001b[38;5;241;43m.\u001b[39;49m\u001b[43mlines\u001b[49m\n",
      "File \u001b[0;32m~/jupyter/lib/python3.10/site-packages/stack_data/utils.py:144\u001b[0m, in \u001b[0;36mcached_property.cached_property_wrapper\u001b[0;34m(self, obj, _cls)\u001b[0m\n\u001b[1;32m    141\u001b[0m \u001b[38;5;28;01mif\u001b[39;00m obj \u001b[38;5;129;01mis\u001b[39;00m \u001b[38;5;28;01mNone\u001b[39;00m:\n\u001b[1;32m    142\u001b[0m     \u001b[38;5;28;01mreturn\u001b[39;00m \u001b[38;5;28mself\u001b[39m\n\u001b[0;32m--> 144\u001b[0m value \u001b[38;5;241m=\u001b[39m obj\u001b[38;5;241m.\u001b[39m\u001b[38;5;18m__dict__\u001b[39m[\u001b[38;5;28mself\u001b[39m\u001b[38;5;241m.\u001b[39mfunc\u001b[38;5;241m.\u001b[39m\u001b[38;5;18m__name__\u001b[39m] \u001b[38;5;241m=\u001b[39m \u001b[38;5;28;43mself\u001b[39;49m\u001b[38;5;241;43m.\u001b[39;49m\u001b[43mfunc\u001b[49m\u001b[43m(\u001b[49m\u001b[43mobj\u001b[49m\u001b[43m)\u001b[49m\n\u001b[1;32m    145\u001b[0m \u001b[38;5;28;01mreturn\u001b[39;00m value\n",
      "File \u001b[0;32m~/jupyter/lib/python3.10/site-packages/stack_data/core.py:734\u001b[0m, in \u001b[0;36mFrameInfo.lines\u001b[0;34m(self)\u001b[0m\n\u001b[1;32m    718\u001b[0m \u001b[38;5;129m@cached_property\u001b[39m\n\u001b[1;32m    719\u001b[0m \u001b[38;5;28;01mdef\u001b[39;00m \u001b[38;5;21mlines\u001b[39m(\u001b[38;5;28mself\u001b[39m) \u001b[38;5;241m-\u001b[39m\u001b[38;5;241m>\u001b[39m List[Union[Line, LineGap, BlankLineRange]]:\n\u001b[1;32m    720\u001b[0m \u001b[38;5;250m    \u001b[39m\u001b[38;5;124;03m\"\"\"\u001b[39;00m\n\u001b[1;32m    721\u001b[0m \u001b[38;5;124;03m    A list of lines to display, determined by options.\u001b[39;00m\n\u001b[1;32m    722\u001b[0m \u001b[38;5;124;03m    The objects yielded either have type Line, BlankLineRange\u001b[39;00m\n\u001b[0;32m   (...)\u001b[0m\n\u001b[1;32m    732\u001b[0m \u001b[38;5;124;03m    The Line objects are all within the ranges from .included_pieces.\u001b[39;00m\n\u001b[1;32m    733\u001b[0m \u001b[38;5;124;03m    \"\"\"\u001b[39;00m\n\u001b[0;32m--> 734\u001b[0m     pieces \u001b[38;5;241m=\u001b[39m \u001b[38;5;28;43mself\u001b[39;49m\u001b[38;5;241;43m.\u001b[39;49m\u001b[43mincluded_pieces\u001b[49m\n\u001b[1;32m    735\u001b[0m     \u001b[38;5;28;01mif\u001b[39;00m \u001b[38;5;129;01mnot\u001b[39;00m pieces:\n\u001b[1;32m    736\u001b[0m         \u001b[38;5;28;01mreturn\u001b[39;00m []\n",
      "File \u001b[0;32m~/jupyter/lib/python3.10/site-packages/stack_data/utils.py:144\u001b[0m, in \u001b[0;36mcached_property.cached_property_wrapper\u001b[0;34m(self, obj, _cls)\u001b[0m\n\u001b[1;32m    141\u001b[0m \u001b[38;5;28;01mif\u001b[39;00m obj \u001b[38;5;129;01mis\u001b[39;00m \u001b[38;5;28;01mNone\u001b[39;00m:\n\u001b[1;32m    142\u001b[0m     \u001b[38;5;28;01mreturn\u001b[39;00m \u001b[38;5;28mself\u001b[39m\n\u001b[0;32m--> 144\u001b[0m value \u001b[38;5;241m=\u001b[39m obj\u001b[38;5;241m.\u001b[39m\u001b[38;5;18m__dict__\u001b[39m[\u001b[38;5;28mself\u001b[39m\u001b[38;5;241m.\u001b[39mfunc\u001b[38;5;241m.\u001b[39m\u001b[38;5;18m__name__\u001b[39m] \u001b[38;5;241m=\u001b[39m \u001b[38;5;28;43mself\u001b[39;49m\u001b[38;5;241;43m.\u001b[39;49m\u001b[43mfunc\u001b[49m\u001b[43m(\u001b[49m\u001b[43mobj\u001b[49m\u001b[43m)\u001b[49m\n\u001b[1;32m    145\u001b[0m \u001b[38;5;28;01mreturn\u001b[39;00m value\n",
      "File \u001b[0;32m~/jupyter/lib/python3.10/site-packages/stack_data/core.py:677\u001b[0m, in \u001b[0;36mFrameInfo.included_pieces\u001b[0;34m(self)\u001b[0m\n\u001b[1;32m    666\u001b[0m \u001b[38;5;129m@cached_property\u001b[39m\n\u001b[1;32m    667\u001b[0m \u001b[38;5;28;01mdef\u001b[39;00m \u001b[38;5;21mincluded_pieces\u001b[39m(\u001b[38;5;28mself\u001b[39m) \u001b[38;5;241m-\u001b[39m\u001b[38;5;241m>\u001b[39m List[\u001b[38;5;28mrange\u001b[39m]:\n\u001b[1;32m    668\u001b[0m \u001b[38;5;250m    \u001b[39m\u001b[38;5;124;03m\"\"\"\u001b[39;00m\n\u001b[1;32m    669\u001b[0m \u001b[38;5;124;03m    The list of pieces (ranges of lines) to display for this frame.\u001b[39;00m\n\u001b[1;32m    670\u001b[0m \u001b[38;5;124;03m    Consists of .executing_piece, surrounding context pieces\u001b[39;00m\n\u001b[0;32m   (...)\u001b[0m\n\u001b[1;32m    675\u001b[0m \u001b[38;5;124;03m    Always a subset of .scope_pieces.\u001b[39;00m\n\u001b[1;32m    676\u001b[0m \u001b[38;5;124;03m    \"\"\"\u001b[39;00m\n\u001b[0;32m--> 677\u001b[0m     scope_pieces \u001b[38;5;241m=\u001b[39m \u001b[38;5;28;43mself\u001b[39;49m\u001b[38;5;241;43m.\u001b[39;49m\u001b[43mscope_pieces\u001b[49m\n\u001b[1;32m    678\u001b[0m     \u001b[38;5;28;01mif\u001b[39;00m \u001b[38;5;129;01mnot\u001b[39;00m \u001b[38;5;28mself\u001b[39m\u001b[38;5;241m.\u001b[39mscope_pieces:\n\u001b[1;32m    679\u001b[0m         \u001b[38;5;28;01mreturn\u001b[39;00m []\n",
      "File \u001b[0;32m~/jupyter/lib/python3.10/site-packages/stack_data/utils.py:144\u001b[0m, in \u001b[0;36mcached_property.cached_property_wrapper\u001b[0;34m(self, obj, _cls)\u001b[0m\n\u001b[1;32m    141\u001b[0m \u001b[38;5;28;01mif\u001b[39;00m obj \u001b[38;5;129;01mis\u001b[39;00m \u001b[38;5;28;01mNone\u001b[39;00m:\n\u001b[1;32m    142\u001b[0m     \u001b[38;5;28;01mreturn\u001b[39;00m \u001b[38;5;28mself\u001b[39m\n\u001b[0;32m--> 144\u001b[0m value \u001b[38;5;241m=\u001b[39m obj\u001b[38;5;241m.\u001b[39m\u001b[38;5;18m__dict__\u001b[39m[\u001b[38;5;28mself\u001b[39m\u001b[38;5;241m.\u001b[39mfunc\u001b[38;5;241m.\u001b[39m\u001b[38;5;18m__name__\u001b[39m] \u001b[38;5;241m=\u001b[39m \u001b[38;5;28;43mself\u001b[39;49m\u001b[38;5;241;43m.\u001b[39;49m\u001b[43mfunc\u001b[49m\u001b[43m(\u001b[49m\u001b[43mobj\u001b[49m\u001b[43m)\u001b[49m\n\u001b[1;32m    145\u001b[0m \u001b[38;5;28;01mreturn\u001b[39;00m value\n",
      "File \u001b[0;32m~/jupyter/lib/python3.10/site-packages/stack_data/core.py:617\u001b[0m, in \u001b[0;36mFrameInfo.scope_pieces\u001b[0;34m(self)\u001b[0m\n\u001b[1;32m    612\u001b[0m     \u001b[38;5;28;01mreturn\u001b[39;00m \u001b[38;5;28mself\u001b[39m\u001b[38;5;241m.\u001b[39msource\u001b[38;5;241m.\u001b[39mpieces\n\u001b[1;32m    614\u001b[0m scope_start, scope_end \u001b[38;5;241m=\u001b[39m \u001b[38;5;28mself\u001b[39m\u001b[38;5;241m.\u001b[39msource\u001b[38;5;241m.\u001b[39mline_range(\u001b[38;5;28mself\u001b[39m\u001b[38;5;241m.\u001b[39mscope)\n\u001b[1;32m    615\u001b[0m \u001b[38;5;28;01mreturn\u001b[39;00m [\n\u001b[1;32m    616\u001b[0m     piece\n\u001b[0;32m--> 617\u001b[0m     \u001b[38;5;28;01mfor\u001b[39;00m piece \u001b[38;5;129;01min\u001b[39;00m \u001b[38;5;28;43mself\u001b[39;49m\u001b[38;5;241;43m.\u001b[39;49m\u001b[43msource\u001b[49m\u001b[38;5;241;43m.\u001b[39;49m\u001b[43mpieces\u001b[49m\n\u001b[1;32m    618\u001b[0m     \u001b[38;5;28;01mif\u001b[39;00m scope_start \u001b[38;5;241m<\u001b[39m\u001b[38;5;241m=\u001b[39m piece\u001b[38;5;241m.\u001b[39mstart \u001b[38;5;129;01mand\u001b[39;00m piece\u001b[38;5;241m.\u001b[39mstop \u001b[38;5;241m<\u001b[39m\u001b[38;5;241m=\u001b[39m scope_end\n\u001b[1;32m    619\u001b[0m ]\n",
      "File \u001b[0;32m~/jupyter/lib/python3.10/site-packages/stack_data/utils.py:144\u001b[0m, in \u001b[0;36mcached_property.cached_property_wrapper\u001b[0;34m(self, obj, _cls)\u001b[0m\n\u001b[1;32m    141\u001b[0m \u001b[38;5;28;01mif\u001b[39;00m obj \u001b[38;5;129;01mis\u001b[39;00m \u001b[38;5;28;01mNone\u001b[39;00m:\n\u001b[1;32m    142\u001b[0m     \u001b[38;5;28;01mreturn\u001b[39;00m \u001b[38;5;28mself\u001b[39m\n\u001b[0;32m--> 144\u001b[0m value \u001b[38;5;241m=\u001b[39m obj\u001b[38;5;241m.\u001b[39m\u001b[38;5;18m__dict__\u001b[39m[\u001b[38;5;28mself\u001b[39m\u001b[38;5;241m.\u001b[39mfunc\u001b[38;5;241m.\u001b[39m\u001b[38;5;18m__name__\u001b[39m] \u001b[38;5;241m=\u001b[39m \u001b[38;5;28;43mself\u001b[39;49m\u001b[38;5;241;43m.\u001b[39;49m\u001b[43mfunc\u001b[49m\u001b[43m(\u001b[49m\u001b[43mobj\u001b[49m\u001b[43m)\u001b[49m\n\u001b[1;32m    145\u001b[0m \u001b[38;5;28;01mreturn\u001b[39;00m value\n",
      "File \u001b[0;32m~/jupyter/lib/python3.10/site-packages/stack_data/core.py:101\u001b[0m, in \u001b[0;36mSource.pieces\u001b[0;34m(self)\u001b[0m\n\u001b[1;32m     96\u001b[0m \u001b[38;5;28;01mif\u001b[39;00m \u001b[38;5;129;01mnot\u001b[39;00m \u001b[38;5;28mself\u001b[39m\u001b[38;5;241m.\u001b[39mtree:\n\u001b[1;32m     97\u001b[0m     \u001b[38;5;28;01mreturn\u001b[39;00m [\n\u001b[1;32m     98\u001b[0m         \u001b[38;5;28mrange\u001b[39m(i, i \u001b[38;5;241m+\u001b[39m \u001b[38;5;241m1\u001b[39m)\n\u001b[1;32m     99\u001b[0m         \u001b[38;5;28;01mfor\u001b[39;00m i \u001b[38;5;129;01min\u001b[39;00m \u001b[38;5;28mrange\u001b[39m(\u001b[38;5;241m1\u001b[39m, \u001b[38;5;28mlen\u001b[39m(\u001b[38;5;28mself\u001b[39m\u001b[38;5;241m.\u001b[39mlines) \u001b[38;5;241m+\u001b[39m \u001b[38;5;241m1\u001b[39m)\n\u001b[1;32m    100\u001b[0m     ]\n\u001b[0;32m--> 101\u001b[0m \u001b[38;5;28;01mreturn\u001b[39;00m \u001b[38;5;28;43mlist\u001b[39;49m\u001b[43m(\u001b[49m\u001b[38;5;28;43mself\u001b[39;49m\u001b[38;5;241;43m.\u001b[39;49m\u001b[43m_clean_pieces\u001b[49m\u001b[43m(\u001b[49m\u001b[43m)\u001b[49m\u001b[43m)\u001b[49m\n",
      "File \u001b[0;32m~/jupyter/lib/python3.10/site-packages/stack_data/core.py:114\u001b[0m, in \u001b[0;36mSource._clean_pieces\u001b[0;34m(self)\u001b[0m\n\u001b[1;32m    112\u001b[0m \u001b[38;5;28;01mdef\u001b[39;00m \u001b[38;5;21m_clean_pieces\u001b[39m(\u001b[38;5;28mself\u001b[39m) \u001b[38;5;241m-\u001b[39m\u001b[38;5;241m>\u001b[39m Iterator[\u001b[38;5;28mrange\u001b[39m]:\n\u001b[1;32m    113\u001b[0m     pieces \u001b[38;5;241m=\u001b[39m \u001b[38;5;28mself\u001b[39m\u001b[38;5;241m.\u001b[39m_raw_split_into_pieces(\u001b[38;5;28mself\u001b[39m\u001b[38;5;241m.\u001b[39mtree, \u001b[38;5;241m1\u001b[39m, \u001b[38;5;28mlen\u001b[39m(\u001b[38;5;28mself\u001b[39m\u001b[38;5;241m.\u001b[39mlines) \u001b[38;5;241m+\u001b[39m \u001b[38;5;241m1\u001b[39m)\n\u001b[0;32m--> 114\u001b[0m     pieces \u001b[38;5;241m=\u001b[39m [\n\u001b[1;32m    115\u001b[0m         (start, end)\n\u001b[1;32m    116\u001b[0m         \u001b[38;5;28;01mfor\u001b[39;00m (start, end) \u001b[38;5;129;01min\u001b[39;00m pieces\n\u001b[1;32m    117\u001b[0m         \u001b[38;5;28;01mif\u001b[39;00m end \u001b[38;5;241m>\u001b[39m start\n\u001b[1;32m    118\u001b[0m     ]\n\u001b[1;32m    120\u001b[0m     \u001b[38;5;66;03m# Combine overlapping pieces, i.e. consecutive pieces where the end of the first\u001b[39;00m\n\u001b[1;32m    121\u001b[0m     \u001b[38;5;66;03m# is greater than the start of the second.\u001b[39;00m\n\u001b[1;32m    122\u001b[0m     \u001b[38;5;66;03m# This can happen when two statements are on the same line separated by a semicolon.\u001b[39;00m\n\u001b[1;32m    123\u001b[0m     new_pieces \u001b[38;5;241m=\u001b[39m pieces[:\u001b[38;5;241m1\u001b[39m]\n",
      "File \u001b[0;32m~/jupyter/lib/python3.10/site-packages/stack_data/core.py:114\u001b[0m, in \u001b[0;36m<listcomp>\u001b[0;34m(.0)\u001b[0m\n\u001b[1;32m    112\u001b[0m \u001b[38;5;28;01mdef\u001b[39;00m \u001b[38;5;21m_clean_pieces\u001b[39m(\u001b[38;5;28mself\u001b[39m) \u001b[38;5;241m-\u001b[39m\u001b[38;5;241m>\u001b[39m Iterator[\u001b[38;5;28mrange\u001b[39m]:\n\u001b[1;32m    113\u001b[0m     pieces \u001b[38;5;241m=\u001b[39m \u001b[38;5;28mself\u001b[39m\u001b[38;5;241m.\u001b[39m_raw_split_into_pieces(\u001b[38;5;28mself\u001b[39m\u001b[38;5;241m.\u001b[39mtree, \u001b[38;5;241m1\u001b[39m, \u001b[38;5;28mlen\u001b[39m(\u001b[38;5;28mself\u001b[39m\u001b[38;5;241m.\u001b[39mlines) \u001b[38;5;241m+\u001b[39m \u001b[38;5;241m1\u001b[39m)\n\u001b[0;32m--> 114\u001b[0m     pieces \u001b[38;5;241m=\u001b[39m [\n\u001b[1;32m    115\u001b[0m         (start, end)\n\u001b[1;32m    116\u001b[0m         \u001b[38;5;28;01mfor\u001b[39;00m (start, end) \u001b[38;5;129;01min\u001b[39;00m pieces\n\u001b[1;32m    117\u001b[0m         \u001b[38;5;28;01mif\u001b[39;00m end \u001b[38;5;241m>\u001b[39m start\n\u001b[1;32m    118\u001b[0m     ]\n\u001b[1;32m    120\u001b[0m     \u001b[38;5;66;03m# Combine overlapping pieces, i.e. consecutive pieces where the end of the first\u001b[39;00m\n\u001b[1;32m    121\u001b[0m     \u001b[38;5;66;03m# is greater than the start of the second.\u001b[39;00m\n\u001b[1;32m    122\u001b[0m     \u001b[38;5;66;03m# This can happen when two statements are on the same line separated by a semicolon.\u001b[39;00m\n\u001b[1;32m    123\u001b[0m     new_pieces \u001b[38;5;241m=\u001b[39m pieces[:\u001b[38;5;241m1\u001b[39m]\n",
      "File \u001b[0;32m~/jupyter/lib/python3.10/site-packages/stack_data/core.py:168\u001b[0m, in \u001b[0;36mSource._raw_split_into_pieces\u001b[0;34m(self, stmt, start, end)\u001b[0m\n\u001b[1;32m    166\u001b[0m \u001b[38;5;28;01mfor\u001b[39;00m rang, group \u001b[38;5;129;01min\u001b[39;00m \u001b[38;5;28msorted\u001b[39m(group_by_key_func(body, \u001b[38;5;28mself\u001b[39m\u001b[38;5;241m.\u001b[39mline_range)\u001b[38;5;241m.\u001b[39mitems()):\n\u001b[1;32m    167\u001b[0m     sub_stmt \u001b[38;5;241m=\u001b[39m group[\u001b[38;5;241m0\u001b[39m]\n\u001b[0;32m--> 168\u001b[0m     \u001b[38;5;28;01mfor\u001b[39;00m inner_start, inner_end \u001b[38;5;129;01min\u001b[39;00m \u001b[38;5;28mself\u001b[39m\u001b[38;5;241m.\u001b[39m_raw_split_into_pieces(sub_stmt, \u001b[38;5;241m*\u001b[39mrang):\n\u001b[1;32m    169\u001b[0m         \u001b[38;5;28;01mif\u001b[39;00m start \u001b[38;5;241m<\u001b[39m inner_start:\n\u001b[1;32m    170\u001b[0m             \u001b[38;5;28;01myield\u001b[39;00m start, inner_start\n",
      "File \u001b[0;32m~/jupyter/lib/python3.10/site-packages/stack_data/core.py:166\u001b[0m, in \u001b[0;36mSource._raw_split_into_pieces\u001b[0;34m(self, stmt, start, end)\u001b[0m\n\u001b[1;32m    161\u001b[0m \u001b[38;5;28;01mfor\u001b[39;00m name, body \u001b[38;5;129;01min\u001b[39;00m ast\u001b[38;5;241m.\u001b[39miter_fields(stmt):\n\u001b[1;32m    162\u001b[0m     \u001b[38;5;28;01mif\u001b[39;00m (\n\u001b[1;32m    163\u001b[0m             \u001b[38;5;28misinstance\u001b[39m(body, \u001b[38;5;28mlist\u001b[39m) \u001b[38;5;129;01mand\u001b[39;00m body \u001b[38;5;129;01mand\u001b[39;00m\n\u001b[1;32m    164\u001b[0m             \u001b[38;5;28misinstance\u001b[39m(body[\u001b[38;5;241m0\u001b[39m], (ast\u001b[38;5;241m.\u001b[39mstmt, ast\u001b[38;5;241m.\u001b[39mExceptHandler, \u001b[38;5;28mgetattr\u001b[39m(ast, \u001b[38;5;124m'\u001b[39m\u001b[38;5;124mmatch_case\u001b[39m\u001b[38;5;124m'\u001b[39m, ())))\n\u001b[1;32m    165\u001b[0m     ):\n\u001b[0;32m--> 166\u001b[0m         \u001b[38;5;28;01mfor\u001b[39;00m rang, group \u001b[38;5;129;01min\u001b[39;00m \u001b[38;5;28msorted\u001b[39m(\u001b[43mgroup_by_key_func\u001b[49m\u001b[43m(\u001b[49m\u001b[43mbody\u001b[49m\u001b[43m,\u001b[49m\u001b[43m \u001b[49m\u001b[38;5;28;43mself\u001b[39;49m\u001b[38;5;241;43m.\u001b[39;49m\u001b[43mline_range\u001b[49m\u001b[43m)\u001b[49m\u001b[38;5;241m.\u001b[39mitems()):\n\u001b[1;32m    167\u001b[0m             sub_stmt \u001b[38;5;241m=\u001b[39m group[\u001b[38;5;241m0\u001b[39m]\n\u001b[1;32m    168\u001b[0m             \u001b[38;5;28;01mfor\u001b[39;00m inner_start, inner_end \u001b[38;5;129;01min\u001b[39;00m \u001b[38;5;28mself\u001b[39m\u001b[38;5;241m.\u001b[39m_raw_split_into_pieces(sub_stmt, \u001b[38;5;241m*\u001b[39mrang):\n",
      "File \u001b[0;32m~/jupyter/lib/python3.10/site-packages/stack_data/utils.py:124\u001b[0m, in \u001b[0;36mgroup_by_key_func\u001b[0;34m(iterable, key_func)\u001b[0m\n\u001b[1;32m    122\u001b[0m result \u001b[38;5;241m=\u001b[39m defaultdict(\u001b[38;5;28mlist\u001b[39m)\n\u001b[1;32m    123\u001b[0m \u001b[38;5;28;01mfor\u001b[39;00m item \u001b[38;5;129;01min\u001b[39;00m iterable:\n\u001b[0;32m--> 124\u001b[0m     result[\u001b[43mkey_func\u001b[49m\u001b[43m(\u001b[49m\u001b[43mitem\u001b[49m\u001b[43m)\u001b[49m]\u001b[38;5;241m.\u001b[39mappend(item)\n\u001b[1;32m    125\u001b[0m \u001b[38;5;28;01mreturn\u001b[39;00m result\n",
      "File \u001b[0;32m~/jupyter/lib/python3.10/site-packages/stack_data/core.py:178\u001b[0m, in \u001b[0;36mSource.line_range\u001b[0;34m(self, node)\u001b[0m\n\u001b[1;32m    177\u001b[0m \u001b[38;5;28;01mdef\u001b[39;00m \u001b[38;5;21mline_range\u001b[39m(\u001b[38;5;28mself\u001b[39m, node: ast\u001b[38;5;241m.\u001b[39mAST) \u001b[38;5;241m-\u001b[39m\u001b[38;5;241m>\u001b[39m Tuple[\u001b[38;5;28mint\u001b[39m, \u001b[38;5;28mint\u001b[39m]:\n\u001b[0;32m--> 178\u001b[0m     \u001b[38;5;28;01mreturn\u001b[39;00m \u001b[43mline_range\u001b[49m\u001b[43m(\u001b[49m\u001b[38;5;28;43mself\u001b[39;49m\u001b[38;5;241;43m.\u001b[39;49m\u001b[43masttext\u001b[49m\u001b[43m(\u001b[49m\u001b[43m)\u001b[49m\u001b[43m,\u001b[49m\u001b[43m \u001b[49m\u001b[43mnode\u001b[49m\u001b[43m)\u001b[49m\n",
      "File \u001b[0;32m~/jupyter/lib/python3.10/site-packages/stack_data/utils.py:40\u001b[0m, in \u001b[0;36mline_range\u001b[0;34m(atok, node)\u001b[0m\n\u001b[1;32m     38\u001b[0m     \u001b[38;5;28;01mreturn\u001b[39;00m start, end\n\u001b[1;32m     39\u001b[0m \u001b[38;5;28;01melse\u001b[39;00m:\n\u001b[0;32m---> 40\u001b[0m     (start, _), (end, _) \u001b[38;5;241m=\u001b[39m \u001b[43matok\u001b[49m\u001b[38;5;241;43m.\u001b[39;49m\u001b[43mget_text_positions\u001b[49m\u001b[43m(\u001b[49m\u001b[43mnode\u001b[49m\u001b[43m,\u001b[49m\u001b[43m \u001b[49m\u001b[43mpadded\u001b[49m\u001b[38;5;241;43m=\u001b[39;49m\u001b[38;5;28;43;01mFalse\u001b[39;49;00m\u001b[43m)\u001b[49m\n\u001b[1;32m     41\u001b[0m     \u001b[38;5;28;01mreturn\u001b[39;00m start, end \u001b[38;5;241m+\u001b[39m \u001b[38;5;241m1\u001b[39m\n",
      "File \u001b[0;32m~/jupyter/lib/python3.10/site-packages/asttokens/asttokens.py:398\u001b[0m, in \u001b[0;36mASTText.get_text_positions\u001b[0;34m(self, node, padded)\u001b[0m\n\u001b[1;32m    395\u001b[0m   \u001b[38;5;28;01mreturn\u001b[39;00m (\u001b[38;5;241m1\u001b[39m, \u001b[38;5;241m0\u001b[39m), (\u001b[38;5;241m1\u001b[39m, \u001b[38;5;241m0\u001b[39m)\n\u001b[1;32m    397\u001b[0m \u001b[38;5;28;01mif\u001b[39;00m supports_tokenless(node):\n\u001b[0;32m--> 398\u001b[0m   \u001b[38;5;28;01mreturn\u001b[39;00m \u001b[38;5;28;43mself\u001b[39;49m\u001b[38;5;241;43m.\u001b[39;49m\u001b[43m_get_text_positions_tokenless\u001b[49m\u001b[43m(\u001b[49m\u001b[43mnode\u001b[49m\u001b[43m,\u001b[49m\u001b[43m \u001b[49m\u001b[43mpadded\u001b[49m\u001b[43m)\u001b[49m\n\u001b[1;32m    400\u001b[0m \u001b[38;5;28;01mreturn\u001b[39;00m \u001b[38;5;28mself\u001b[39m\u001b[38;5;241m.\u001b[39masttokens\u001b[38;5;241m.\u001b[39mget_text_positions(node, padded)\n",
      "File \u001b[0;32m~/jupyter/lib/python3.10/site-packages/asttokens/asttokens.py:377\u001b[0m, in \u001b[0;36mASTText._get_text_positions_tokenless\u001b[0;34m(self, node, padded)\u001b[0m\n\u001b[1;32m    375\u001b[0m end_lineno \u001b[38;5;241m=\u001b[39m cast(\u001b[38;5;28mint\u001b[39m, end_node\u001b[38;5;241m.\u001b[39mend_lineno)\n\u001b[1;32m    376\u001b[0m end_col_offset \u001b[38;5;241m=\u001b[39m cast(\u001b[38;5;28mint\u001b[39m, end_node\u001b[38;5;241m.\u001b[39mend_col_offset)\n\u001b[0;32m--> 377\u001b[0m end_col_offset \u001b[38;5;241m=\u001b[39m \u001b[38;5;28;43mself\u001b[39;49m\u001b[38;5;241;43m.\u001b[39;49m\u001b[43m_line_numbers\u001b[49m\u001b[38;5;241;43m.\u001b[39;49m\u001b[43mfrom_utf8_col\u001b[49m\u001b[43m(\u001b[49m\u001b[43mend_lineno\u001b[49m\u001b[43m,\u001b[49m\u001b[43m \u001b[49m\u001b[43mend_col_offset\u001b[49m\u001b[43m)\u001b[49m\n\u001b[1;32m    378\u001b[0m end \u001b[38;5;241m=\u001b[39m (end_lineno, end_col_offset)\n\u001b[1;32m    380\u001b[0m \u001b[38;5;28;01mreturn\u001b[39;00m start, end\n",
      "File \u001b[0;32m~/jupyter/lib/python3.10/site-packages/asttokens/line_numbers.py:47\u001b[0m, in \u001b[0;36mLineNumbers.from_utf8_col\u001b[0;34m(self, line, utf8_column)\u001b[0m\n\u001b[1;32m     44\u001b[0m end_offset \u001b[38;5;241m=\u001b[39m \u001b[38;5;28mself\u001b[39m\u001b[38;5;241m.\u001b[39m_line_offsets[line] \u001b[38;5;28;01mif\u001b[39;00m line \u001b[38;5;241m<\u001b[39m \u001b[38;5;28mlen\u001b[39m(\u001b[38;5;28mself\u001b[39m\u001b[38;5;241m.\u001b[39m_line_offsets) \u001b[38;5;28;01melse\u001b[39;00m \u001b[38;5;28mself\u001b[39m\u001b[38;5;241m.\u001b[39m_text_len\n\u001b[1;32m     45\u001b[0m line_text \u001b[38;5;241m=\u001b[39m \u001b[38;5;28mself\u001b[39m\u001b[38;5;241m.\u001b[39m_text[\u001b[38;5;28mself\u001b[39m\u001b[38;5;241m.\u001b[39m_line_offsets[line \u001b[38;5;241m-\u001b[39m \u001b[38;5;241m1\u001b[39m] : end_offset]\n\u001b[0;32m---> 47\u001b[0m offsets \u001b[38;5;241m=\u001b[39m [i \u001b[38;5;28;01mfor\u001b[39;00m i,c \u001b[38;5;129;01min\u001b[39;00m \u001b[38;5;28menumerate\u001b[39m(line_text) \u001b[38;5;28;01mfor\u001b[39;00m byte \u001b[38;5;129;01min\u001b[39;00m c\u001b[38;5;241m.\u001b[39mencode(\u001b[38;5;124m'\u001b[39m\u001b[38;5;124mutf8\u001b[39m\u001b[38;5;124m'\u001b[39m)]\n\u001b[1;32m     48\u001b[0m offsets\u001b[38;5;241m.\u001b[39mappend(\u001b[38;5;28mlen\u001b[39m(line_text))\n\u001b[1;32m     49\u001b[0m \u001b[38;5;28mself\u001b[39m\u001b[38;5;241m.\u001b[39m_utf8_offset_cache[line] \u001b[38;5;241m=\u001b[39m offsets\n",
      "File \u001b[0;32m~/jupyter/lib/python3.10/site-packages/asttokens/line_numbers.py:47\u001b[0m, in \u001b[0;36m<listcomp>\u001b[0;34m(.0)\u001b[0m\n\u001b[1;32m     44\u001b[0m end_offset \u001b[38;5;241m=\u001b[39m \u001b[38;5;28mself\u001b[39m\u001b[38;5;241m.\u001b[39m_line_offsets[line] \u001b[38;5;28;01mif\u001b[39;00m line \u001b[38;5;241m<\u001b[39m \u001b[38;5;28mlen\u001b[39m(\u001b[38;5;28mself\u001b[39m\u001b[38;5;241m.\u001b[39m_line_offsets) \u001b[38;5;28;01melse\u001b[39;00m \u001b[38;5;28mself\u001b[39m\u001b[38;5;241m.\u001b[39m_text_len\n\u001b[1;32m     45\u001b[0m line_text \u001b[38;5;241m=\u001b[39m \u001b[38;5;28mself\u001b[39m\u001b[38;5;241m.\u001b[39m_text[\u001b[38;5;28mself\u001b[39m\u001b[38;5;241m.\u001b[39m_line_offsets[line \u001b[38;5;241m-\u001b[39m \u001b[38;5;241m1\u001b[39m] : end_offset]\n\u001b[0;32m---> 47\u001b[0m offsets \u001b[38;5;241m=\u001b[39m [i \u001b[38;5;28;01mfor\u001b[39;00m i,c \u001b[38;5;129;01min\u001b[39;00m \u001b[38;5;28menumerate\u001b[39m(line_text) \u001b[38;5;28;01mfor\u001b[39;00m byte \u001b[38;5;129;01min\u001b[39;00m \u001b[43mc\u001b[49m\u001b[38;5;241;43m.\u001b[39;49m\u001b[43mencode\u001b[49m\u001b[43m(\u001b[49m\u001b[38;5;124;43m'\u001b[39;49m\u001b[38;5;124;43mutf8\u001b[39;49m\u001b[38;5;124;43m'\u001b[39;49m\u001b[43m)\u001b[49m]\n\u001b[1;32m     48\u001b[0m offsets\u001b[38;5;241m.\u001b[39mappend(\u001b[38;5;28mlen\u001b[39m(line_text))\n\u001b[1;32m     49\u001b[0m \u001b[38;5;28mself\u001b[39m\u001b[38;5;241m.\u001b[39m_utf8_offset_cache[line] \u001b[38;5;241m=\u001b[39m offsets\n",
      "File \u001b[0;32m~/jupyter/lib/python3.10/site-packages/ray/_private/worker.py:1738\u001b[0m, in \u001b[0;36msigterm_handler\u001b[0;34m(signum, frame)\u001b[0m\n\u001b[1;32m   1737\u001b[0m \u001b[38;5;28;01mdef\u001b[39;00m \u001b[38;5;21msigterm_handler\u001b[39m(signum, frame):\n\u001b[0;32m-> 1738\u001b[0m     \u001b[43msys\u001b[49m\u001b[38;5;241;43m.\u001b[39;49m\u001b[43mexit\u001b[49m\u001b[43m(\u001b[49m\u001b[43msignum\u001b[49m\u001b[43m)\u001b[49m\n",
      "\u001b[0;31mSystemExit\u001b[0m: 15"
     ]
    },
    {
     "data": {
      "image/png": "[encoded data removed]",
      "text/plain": [
       "<Figure size 640x480 with 2 Axes>"
      ]
     },
     "metadata": {},
     "output_type": "display_data"
    }
   ],
   "source": [
    "rho_thresholdsp = pd.Series(np.linspace(0.2, 1, 50))\n",
    "rho_thresholdsn = pd.Series(np.linspace(-1, -0.2, 50))\n",
    "\n",
    "testp = pars[pars[\"fst_batch\"] & (pars[\"rho\"] > 0.2)]\n",
    "testn = pars[pars[\"fst_batch\"] & (pars[\"rho\"] < -0.2)]\n",
    "\n",
    "\n",
    "fig, ax1 = plt.subplots()\n",
    "ax2 = ax1.twinx()\n",
    "\n",
    "ax1.plot(\n",
    "    rho_thresholdsp,\n",
    "    rho_thresholdsp.apply(lambda t: (testp[\"rho\"] >= t).sum()),\n",
    "    color=\"red\",\n",
    ")\n",
    "\n",
    "ax2.plot(\n",
    "    rho_thresholdsp,\n",
    "    rho_thresholdsp.apply(\n",
    "        lambda t: ((testp[\"rho\"] >= t) & testp[\"status\"].eq(1)).mean()\n",
    "    ),  # /rho_thresholdsp.apply(lambda t: (testp[\"rho\"] >= t).sum()),\n",
    ")\n",
    "\n",
    "\n",
    "ax1.plot(\n",
    "    rho_thresholdsn,\n",
    "    rho_thresholdsn.apply(lambda t: (testn[\"rho\"] <= t).sum()),\n",
    "    color=\"red\",\n",
    ")\n",
    "\n",
    "ax2.plot(\n",
    "    rho_thresholdsn,\n",
    "    rho_thresholdsn.apply(\n",
    "        lambda t: ((testn[\"rho\"] <= t) & testn[\"status\"].eq(1)).mean()\n",
    "    ),  # /rho_thresholdsn.apply(lambda t: (testn[\"rho\"] <= t).sum()),\n",
    ")\n",
    "\n",
    "\n",
    "fig.tight_layout()\n",
    "plt.show()"
   ]
  },
  {
   "cell_type": "code",
   "execution_count": null,
   "id": "38b07661-911b-40f7-be68-0f73bdbc7144",
   "metadata": {
    "tags": []
   },
   "outputs": [],
   "source": [
    "fst_thresholds = pd.Series(np.arange(7, 366, 5))\n",
    "lst_thresholds = pd.Series(np.arange(351, 366))\n",
    "\n",
    "testf = pars[pars[\"snd_batch\"] & (pars[\"fst\"] > 7)]\n",
    "testl = pars[pars[\"snd_batch\"] & (pars[\"lst\"] > 351)]\n",
    "\n",
    "\n",
    "fig, ax1 = plt.subplots()\n",
    "ax2 = ax1.twinx()\n",
    "\n",
    "ax1.plot(\n",
    "    fst_thresholds,\n",
    "    fst_thresholds.apply(lambda t: (testf[\"fst\"] >= t).sum()),\n",
    "    color=\"red\",\n",
    ")\n",
    "\n",
    "ax2.plot(\n",
    "    fst_thresholds,\n",
    "    fst_thresholds.apply(\n",
    "        lambda t: ((testf[\"fst\"] >= t) & testf[\"status\"].eq(1)).mean()\n",
    "    ),  # /fst_thresholds.apply(lambda t: (testf[\"fst\"] >= t).sum()),\n",
    ")\n",
    "\n",
    "\n",
    "ax1.plot(\n",
    "    lst_thresholds,\n",
    "    lst_thresholds.apply(lambda t: (testl[\"lst\"] >= t).sum()),\n",
    "    color=\"red\",\n",
    ")\n",
    "\n",
    "ax2.plot(\n",
    "    lst_thresholds,\n",
    "    lst_thresholds.apply(\n",
    "        lambda t: ((testl[\"lst\"] >= t) & testl[\"status\"].eq(1)).mean()\n",
    "    ),  # /lst_thresholds.apply(lambda t: (testl[\"lst\"] >= t).sum()),\n",
    ")\n",
    "\n",
    "\n",
    "fig.tight_layout()\n",
    "plt.show()"
   ]
  },
  {
   "cell_type": "code",
   "execution_count": null,
   "id": "830bc0eb-527b-4edd-ad91-81c674ccd62b",
   "metadata": {
    "tags": []
   },
   "outputs": [],
   "source": [
    "thresholds = pd.Series(np.linspace(-1, +1, 20))\n",
    "\n",
    "test = pars[pars[\"snd_batch\"] & ~pars[\"cvx\"].isna()]\n",
    "\n",
    "fig, ax1 = plt.subplots()\n",
    "ax2 = ax1.twinx()\n",
    "\n",
    "ax1.plot(\n",
    "    thresholds,\n",
    "    thresholds.apply(lambda t: (test[\"cvx\"] <= t).sum()),\n",
    "    color=\"red\",\n",
    ")\n",
    "\n",
    "ax2.plot(\n",
    "    thresholds,\n",
    "    thresholds.apply(lambda t: ((test[\"cvx\"] <= t) & test[\"status\"].eq(1)).mean()),\n",
    "    color=\"blue\",\n",
    "    label=\"yield\",\n",
    ")\n",
    "\n",
    "plt.legend()\n",
    "\n",
    "fig.tight_layout()\n",
    "plt.show()"
   ]
  },
  {
   "cell_type": "code",
   "execution_count": null,
   "id": "b247f1d8-5069-4133-b29c-eb6dc3bae210",
   "metadata": {
    "tags": []
   },
   "outputs": [],
   "source": [
    "thresholds = pd.Series(np.linspace(-1, +1, 20))\n",
    "\n",
    "test = pars[pars[\"snd_batch\"] & ~pars[\"cvx\"].isna()]\n",
    "\n",
    "fig, ax1 = plt.subplots()\n",
    "ax2 = ax1.twinx()\n",
    "\n",
    "ax1.plot(\n",
    "    thresholds,\n",
    "    thresholds.apply(lambda t: (test[\"cvx\"] >= t).sum()),\n",
    "    color=\"red\",\n",
    ")\n",
    "\n",
    "ax2.plot(\n",
    "    thresholds,\n",
    "    thresholds.apply(lambda t: ((test[\"cvx\"] >= t) & test[\"status\"].eq(1)).mean()),\n",
    "    color=\"blue\",\n",
    "    label=\"yield\",\n",
    ")\n",
    "\n",
    "plt.legend()\n",
    "\n",
    "fig.tight_layout()\n",
    "plt.show()"
   ]
  },
  {
   "cell_type": "code",
   "execution_count": null,
   "id": "10283ceb-ae88-4566-a4fc-82d679a4bcb4",
   "metadata": {
    "tags": []
   },
   "outputs": [],
   "source": [
    "thresholds = pd.Series(np.linspace(0, +1, 100))\n",
    "\n",
    "test = pars[pars[\"snd_batch\"] & ~pars[\"cvx\"].isna()]\n",
    "\n",
    "fig, ax1 = plt.subplots()\n",
    "ax2 = ax1.twinx()\n",
    "\n",
    "ax1.plot(\n",
    "    thresholds,\n",
    "    thresholds.apply(lambda t: (abs(test[\"cvx\"]) <= t).sum()),\n",
    "    color=\"red\",\n",
    ")\n",
    "\n",
    "ax2.plot(\n",
    "    thresholds,\n",
    "    thresholds.apply(lambda t: ((abs(test[\"cvx\"]) <= t) & test[\"status\"].eq(1)).mean())\n",
    "    / thresholds.apply(lambda t: (abs(test[\"cvx\"]) <= t).sum()),\n",
    "    color=\"blue\",\n",
    "    label=\"yield\",\n",
    ")\n",
    "\n",
    "plt.legend()\n",
    "\n",
    "fig.tight_layout()\n",
    "plt.show()"
   ]
  }
 ],
 "metadata": {
  "kernelspec": {
   "display_name": "Python 3 (ipykernel)",
   "language": "python",
   "name": "python3"
  },
  "language_info": {
   "codemirror_mode": {
    "name": "ipython",
    "version": 3
   },
   "file_extension": ".py",
   "mimetype": "text/x-python",
   "name": "python",
   "nbconvert_exporter": "python",
   "pygments_lexer": "ipython3",
   "version": "3.10.8"
  }
 },
 "nbformat": 4,
 "nbformat_minor": 5
}
