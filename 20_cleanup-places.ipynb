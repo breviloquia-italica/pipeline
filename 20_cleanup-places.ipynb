{
 "cells": [
  {
   "cell_type": "code",
   "execution_count": 1,
   "id": "3fde4896-9c01-442e-9fe1-f74a1c64fb45",
   "metadata": {
    "editable": true,
    "slideshow": {
     "slide_type": ""
    },
    "tags": []
   },
   "outputs": [
    {
     "name": "stdout",
     "output_type": "stream",
     "text": [
      "Modin partitions: 28\n"
     ]
    }
   ],
   "source": [
    "import modin.pandas as pd\n",
    "\n",
    "from modin.config import NPartitions\n",
    "print(\"Modin partitions:\", NPartitions.get())\n",
    "\n",
    "from modin.config import ProgressBar\n",
    "from tqdm import tqdm\n",
    "ProgressBar.enable()\n",
    "\n",
    "from shapely.geometry import Polygon"
   ]
  },
  {
   "cell_type": "code",
   "execution_count": 2,
   "id": "ca9547c5-4fa1-4d23-8823-94b84d3731a3",
   "metadata": {
    "tags": []
   },
   "outputs": [
    {
     "name": "stderr",
     "output_type": "stream",
     "text": [
      "UserWarning: Ray execution environment not yet initialized. Initializing...\n",
      "To remove this warning, run the following python code before doing dataframe operations:\n",
      "\n",
      "    import ray\n",
      "    ray.init()\n",
      "\n",
      "2023-07-19 12:29:11,797\tINFO worker.py:1636 -- Started a local Ray instance.\n"
     ]
    }
   ],
   "source": [
    "places = pd.read_json(\"places.jsonl\", lines=True)"
   ]
  },
  {
   "cell_type": "code",
   "execution_count": 3,
   "id": "163a55ff-3ad9-486b-b98e-fce5e71d6cc2",
   "metadata": {
    "tags": []
   },
   "outputs": [
    {
     "data": {
      "application/vnd.jupyter.widget-view+json": {
       "model_id": "e6f60b6fa66f4c9887601fc8a1c1d5d0",
       "version_major": 2,
       "version_minor": 0
      },
      "text/plain": [
       "Estimated completion of line 2:   0%           Elapsed time: 00:00, estimated remaining time: ?"
      ]
     },
     "metadata": {},
     "output_type": "display_data"
    }
   ],
   "source": [
    "# Convert 16-digit hex ids to 64 bit uints.\n",
    "places[\"id\"] = places[\"id\"].apply(int, base=16).astype(\"uint64\")\n",
    "places.set_index(\"id\", inplace=True)"
   ]
  },
  {
   "cell_type": "code",
   "execution_count": 4,
   "id": "8354fbcf-2db4-4dde-9632-7afc8527909e",
   "metadata": {
    "tags": []
   },
   "outputs": [],
   "source": [
    "# Drop certainly useless columns.\n",
    "places.drop(columns=[\"url\", \"name\", \"country\"], inplace=True)"
   ]
  },
  {
   "cell_type": "code",
   "execution_count": 5,
   "id": "4e884bbb-54ce-48d7-a709-f95b93faffda",
   "metadata": {
    "tags": []
   },
   "outputs": [
    {
     "data": {
      "application/vnd.jupyter.widget-view+json": {
       "model_id": "ede1b220a30d4c4685430112417670a4",
       "version_major": 2,
       "version_minor": 0
      },
      "text/plain": [
       "Estimated completion of line 2:   0%           Elapsed time: 00:00, estimated remaining time: ?"
      ]
     },
     "metadata": {},
     "output_type": "display_data"
    },
    {
     "data": {
      "application/vnd.jupyter.widget-view+json": {
       "model_id": "a7076fac2a66459ebf9f4ac9af10cbef",
       "version_major": 2,
       "version_minor": 0
      },
      "text/plain": [
       "Estimated completion of line 3:   0%           Elapsed time: 00:00, estimated remaining time: ?"
      ]
     },
     "metadata": {},
     "output_type": "display_data"
    }
   ],
   "source": [
    "# Ensure `attributes` and `contained_within` are empty, then drop them.\n",
    "assert ~(places[\"attributes\"].map(len) > 0).any()\n",
    "assert ~(places[\"contained_within\"].map(len) > 0).any()\n",
    "places.drop(columns=[\"attributes\", \"contained_within\"], inplace=True)"
   ]
  },
  {
   "cell_type": "code",
   "execution_count": 6,
   "id": "83bbe333-6227-4998-a161-6152d01cae86",
   "metadata": {
    "tags": []
   },
   "outputs": [
    {
     "data": {
      "application/vnd.jupyter.widget-view+json": {
       "model_id": "2da8d1f2f8344459b6dfffc865eb31ed",
       "version_major": 2,
       "version_minor": 0
      },
      "text/plain": [
       "Estimated completion of line 2:   0%           Elapsed time: 00:00, estimated remaining time: ?"
      ]
     },
     "metadata": {},
     "output_type": "display_data"
    },
    {
     "data": {
      "application/vnd.jupyter.widget-view+json": {
       "model_id": "d2292aaaf5b0442a9a28ed296c7af286",
       "version_major": 2,
       "version_minor": 0
      },
      "text/plain": [
       "Estimated completion of line 3:   0%           Elapsed time: 00:00, estimated remaining time: ?"
      ]
     },
     "metadata": {},
     "output_type": "display_data"
    },
    {
     "data": {
      "application/vnd.jupyter.widget-view+json": {
       "model_id": "620dd9f6243b42fdb25d404041b58dc2",
       "version_major": 2,
       "version_minor": 0
      },
      "text/plain": [
       "Estimated completion of line 6:   0%           Elapsed time: 00:00, estimated remaining time: ?"
      ]
     },
     "metadata": {},
     "output_type": "display_data"
    },
    {
     "data": {
      "application/vnd.jupyter.widget-view+json": {
       "model_id": "8c84ea479c4b40dfb7792db985069c7c",
       "version_major": 2,
       "version_minor": 0
      },
      "text/plain": [
       "Estimated completion of line 7:   0%           Elapsed time: 00:00, estimated remaining time: ?"
      ]
     },
     "metadata": {},
     "output_type": "display_data"
    },
    {
     "data": {
      "application/vnd.jupyter.widget-view+json": {
       "model_id": "994d2be77cbb4a28a5a29c92c1887d12",
       "version_major": 2,
       "version_minor": 0
      },
      "text/plain": [
       "Estimated completion of line 10:   0%           Elapsed time: 00:00, estimated remaining time: ?"
      ]
     },
     "metadata": {},
     "output_type": "display_data"
    }
   ],
   "source": [
    "# Ensure `bounding_box`, where present, is a polygon with 4 vertices, then simplify the representation.\n",
    "assert places[\"bounding_box\"].map(lambda bb: bb[\"type\"] == \"Polygon\").all()\n",
    "assert places[\"bounding_box\"].map(lambda bb: len(bb[\"coordinates\"]) == 1).all()\n",
    "assert (\n",
    "    places[\"bounding_box\"]\n",
    "    .map(lambda bb: [len(p) for p in bb[\"coordinates\"][0]] == [2, 2, 2, 2])\n",
    "    .all()\n",
    ")\n",
    "\n",
    "places[\"bounding_box\"] = places[\"bounding_box\"].map(\n",
    "    lambda bb: Polygon([tuple(point) for point in bb[\"coordinates\"][0]]).wkt\n",
    ")"
   ]
  },
  {
   "cell_type": "code",
   "execution_count": 7,
   "id": "264743c2-a58d-4c09-a343-cd8e183263fb",
   "metadata": {
    "tags": []
   },
   "outputs": [],
   "source": [
    "# Dump to parquet. The dataset is tiny, so we force writing a single file.\n",
    "places._to_pandas().to_parquet(\"places.parquet\")"
   ]
  }
 ],
 "metadata": {
  "kernelspec": {
   "display_name": "Python 3 (ipykernel)",
   "language": "python",
   "name": "python3"
  },
  "language_info": {
   "codemirror_mode": {
    "name": "ipython",
    "version": 3
   },
   "file_extension": ".py",
   "mimetype": "text/x-python",
   "name": "python",
   "nbconvert_exporter": "python",
   "pygments_lexer": "ipython3",
   "version": "3.10.8"
  }
 },
 "nbformat": 4,
 "nbformat_minor": 5
}
