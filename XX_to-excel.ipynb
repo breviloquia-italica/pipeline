{
 "cells": [
  {
   "cell_type": "code",
   "execution_count": null,
   "id": "5bf7c252-5648-4ad0-ad04-dc5e5491d579",
   "metadata": {
    "tags": []
   },
   "outputs": [],
   "source": [
    "import pandas as pd\n",
    "import numpy as np"
   ]
  },
  {
   "cell_type": "code",
   "execution_count": null,
   "id": "b057c609-e377-4860-b83d-5c55af26b535",
   "metadata": {
    "tags": []
   },
   "outputs": [],
   "source": [
    "foo = pd.read_parquet(\"wforms-ann.parquet\").join(pd.read_parquet(\"wforms-bat.parquet\"))\n",
    "foo = foo[foo[\"fst_batch\"] | foo[\"snd_batch\"]]\n",
    "foo.loc[foo[\"tt_att\"], \"status\"] = +np.inf\n",
    "foo.loc[foo.index.str.startswith(\"#\"), \"status\"] = -np.inf\n",
    "display(foo[\"status\"].value_counts())\n",
    "foo = foo[foo[\"status\"].eq(1)][[\"category\",\"attestation\",\"notes\"]]\n",
    "foo.to_excel(\"inn_forms_categorized.xlsx\")"
   ]
  }
 ],
 "metadata": {
  "kernelspec": {
   "display_name": "Python 3 (ipykernel)",
   "language": "python",
   "name": "python3"
  },
  "language_info": {
   "codemirror_mode": {
    "name": "ipython",
    "version": 3
   },
   "file_extension": ".py",
   "mimetype": "text/x-python",
   "name": "python",
   "nbconvert_exporter": "python",
   "pygments_lexer": "ipython3",
   "version": "3.10.8"
  }
 },
 "nbformat": 4,
 "nbformat_minor": 5
}
