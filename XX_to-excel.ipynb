{
 "cells": [
  {
   "cell_type": "code",
   "execution_count": 1,
   "id": "5bf7c252-5648-4ad0-ad04-dc5e5491d579",
   "metadata": {
    "tags": []
   },
   "outputs": [],
   "source": [
    "import pandas as pd\n",
    "import numpy as np"
   ]
  },
  {
   "cell_type": "code",
   "execution_count": null,
   "id": "b057c609-e377-4860-b83d-5c55af26b535",
   "metadata": {
    "tags": []
   },
   "outputs": [],
   "source": [
    "foo = pd.read_parquet(\"wforms-ann.parquet\").join(pd.read_parquet(\"wforms-bat.parquet\"))\n",
    "foo = foo[foo[\"fst_batch\"] | foo[\"snd_batch\"]]\n",
    "foo.loc[foo[\"tt_att\"], \"status\"] = +np.inf\n",
    "foo.loc[foo.index.str.startswith(\"#\"), \"status\"] = -np.inf\n",
    "display(foo[\"status\"].value_counts())\n",
    "foo = foo[foo[\"status\"].eq(1)][[\"category\",\"attestation\",\"notes\"]]\n",
    "foo.to_excel(\"inn_forms_categorized.xlsx\")"
   ]
  },
  {
   "cell_type": "code",
   "execution_count": 8,
   "id": "a842a869-fa32-4529-ae63-821854f9ceb1",
   "metadata": {
    "tags": []
   },
   "outputs": [
    {
     "data": {
      "text/plain": [
       "status\n",
       "-1.0    7696\n",
       "-inf    3391\n",
       " 1.0     359\n",
       "Name: count, dtype: int64"
      ]
     },
     "metadata": {},
     "output_type": "display_data"
    },
    {
     "name": "stdout",
     "output_type": "stream",
     "text": [
      "{'appecoronati', 'grillioti', 'blastata', 'vaucher', 'cme', 'showrunner', 'panchinato', 'baguettari', 'fail', 'qlcuno', 'ciacchera', 'pigiamoni', 'issimo', 'troya', 'rdc', 'lvi', 'matcha', 'benissimamente', 'diocan', 'pidioti', 'facenza', 'cazzarone', 'tuitt', 'choosy', 'twerka', 'issima', 'eropd', 'paccotto', 'biolaboratori', 'blessata', 'graduido', 'gaz', 'singol', 'ridolini', 'patati', 'kazzate', 'admin', 'flattax', 'loser', 'pidiota', 'gomblotto', 'sll', 'comple', 'mandrakata', 'renzioti', 'minkiate', 'coglionazzo', 'xdxd', 'nowar', 'presidenta', 'terf', '5stalle', 'accaunt', 'rosiconi', 'posturologo', 'neanke', 'flex', 'rubba', 'piddini', 'shoutout', 'sinistronzi', 'graziealcazzo', 'uanema', 'condizionalità', 'f4scist4', 'locals', 'tecnopolo', 'incantevolissimissima', 'fancam', 'massí', 'cuoro', 'mer*a', 'bidosati', 'schip', 'azzzzz', 'uscitemi', 'scienzah', 'cuora', 'solution', 'cazzaroni', 'grillopitechi', 'riderissimo', 'ghosta', 'fascioleghista', 'evvaiiiiii', 'pienah', 'yeahhhhhh', 'estaters', 'ancielo', 'reposta', 'eppi', 'cialtronismo', 'iposcolarizzati', 'rimba', 'garone', 'tuttappost', 'eddaiii', 'terzopolo', 'porcaputtana', 'fascioleghisti', 'benza', 'coolo', 'fasciocomunista', 'impiattamento', 'graduidamente', 'legaiolo', 'reel', 'twettini', 'champ', 'fisicati', 'cishet', 'kultura', 'personaggione', 'tridosato', 'amiketti', 'flu', 'venue', 'fallout', 'ciaobuogiorno', 'prosciutteria', 'assurdistan', 'cuxo', 'godicchio', 'piagnina', 'mbeh', 'f4scista', 'pullato', 'adorissimo', 'kaimano', 'inverners', 'djset', 'stalkero', 'switchare', 'putler', 'okok', 'tks', 'merxa', 'rimming', 'opperbacco', 'graduidamende', 'droppare', 'buontutto', 'giornalanza', 'giornooooo', 'trollata', 'vergonya', 'sottocasa', 'pk', 'maranza', 'zola', 'scansuolo', 'contapalle', 'minkione', 'stats', 'xoxo', 'appecorato', 'trolling', 'twitterino', 'stronxate', 'soggettone', 'feffettissimo', 'paccare', 'memiamo', 'qlcosa', 'vaffanculi', 'plis', 'stronz', 'broder', 'ammiocuggino', 'tier', 'grin', 'lippa', 'vfc', 'zanzarologi', 'horny', 'mentor', 'intrasezioni', '𝗥𝗘𝗖𝗔𝗣', 'zanzarologo', 'scammer', 'senzapalle', 'nculo', 'soundcheck', 'incaxxano', 'twitteri', 'snx', 'ncazzo', 'cinesate', 'trollazzo', 'qusto', 'sexo', 'cazza', 'collab', 'gintonic', 'nazipass', 'drip', 'c4zz0', 'cringiata', 'pigiamone', 'anchio', 'dioca', 'pdiota', 'baller', 'urka', 'nsomma', 'presiniente', 'lowcost', 'fuoriluogo', 'misunderstanding', 'followo', 'fassisti', 'qnt', 'anzia', 'serietv', 'noeuro', 'qulo', 'piddioti', 'sinix', 'busoni', 'yessa', 'pddizzato', 'amerika', 'instagramstory', 'boyz', 'quarantenati', 'selca', 'prezzemolina', 'diobono', 'topping', 'poki', 'incazz', 'uauu', 'giornalaia', 'pikkolo', 'bollox', 'amorina', 'autoregalo', 'cazxi', 'pirlotto', 'porcodd', 'xsino', 'sfanculamento', 'tuitteri', 'assaj', 'miraccomando', 'grillopiddini', 'gintoxic', 'pazzeska', 'twitstar', 'lho', 'laik', 'effeci', 'streetart', 'fiatella', 'gretina', 'yheahhhhhh', 'erculo', 'af', 'accannate', 'abilista', 'trq', 'sexi', 'affan', 'banger', 'fregacazzi', 'dioporco', 'fanbase', 'vaffan', 'cessodestra', 'masticazzi', 'pisellate', 'sierare', 'biutiful', 'xazzo', 'gretini', 'flurona', 'accannato', 'amïo', 'cippalippa', 'kaffè', 'squirtare', 'stemmerde', 'fotocazzo', 'reminder', 'yeeeeaaaaahhhhh', 'deltacron', 'madreh', 'dll', 'piddiota', 'eurini', 'trollini', 'vaffanc', 'qndo', 'sgp', 'caiser', 'ducessa', 'norde', 'vairus', 'buonagiornata', 'rix', 'mavalà', 'naziucraini', 'cho', 'stica', 'daltronde', 'vaff', 'soundbar', 'eu4ia', 'babbà', 'kompagni', 'buonamattina', 'qlk', 'throwback', 'drum', 'cinesata', 'demmè', 'nerah', 'ovvove', 'amio', 'xe', 'fagiana', 'pregirata', 'cuorare', 'okk', 'lms', 'miocuggino', \"mavattelapijànd'\", 'dilf', 'poverata', 'slim', 'vafancul', 'burp', 'duddi', 'qt', 'ubri', 'estigrancazzi', 'renziota', 'xhe', 'pdioti', 'patatino', 'intertristi', 'senzadubbiamente', 'falsona', 'adovo', 'docuserie', 'fattoni', 'afc', 'ziocane', 'sierata', 'lettamaio', 'triplodosati', 'essu', 'leccac', 'lmv', 'merd@', 'ierisera', 'incaz', 'csx', 'flexo'}\n"
     ]
    }
   ],
   "source": [
    "foo = pd.read_parquet(\"wforms-ann.parquet\").join(pd.read_parquet(\"wforms-bat.parquet\"))\n",
    "foo = foo[foo[\"fst_batch\"] | foo[\"snd_batch\"]]\n",
    "foo.loc[foo[\"tt_att\"], \"status\"] = +np.inf\n",
    "foo.loc[foo.index.str.startswith(\"#\"), \"status\"] = -np.inf\n",
    "display(foo[\"status\"].value_counts())\n",
    "print(set(foo[foo[\"status\"].eq(1)].index))"
   ]
  }
 ],
 "metadata": {
  "kernelspec": {
   "display_name": "Python 3 (ipykernel)",
   "language": "python",
   "name": "python3"
  },
  "language_info": {
   "codemirror_mode": {
    "name": "ipython",
    "version": 3
   },
   "file_extension": ".py",
   "mimetype": "text/x-python",
   "name": "python",
   "nbconvert_exporter": "python",
   "pygments_lexer": "ipython3",
   "version": "3.10.8"
  }
 },
 "nbformat": 4,
 "nbformat_minor": 5
}
